{
 "cells": [
  {
   "cell_type": "code",
   "execution_count": null,
   "metadata": {},
   "outputs": [],
   "source": [
    "import twint\n",
    "import pandas as pd\n",
    "\n",
    "# sentiment analysis\n",
    "from optimus import Optimus\n",
    "from textblob import TextBlob\n",
    "from pyspark.sql.functions import udf\n",
    "from pyspark.sql.types import DoubleType\n",
    "\n",
    "op = Optimus()\n",
    "\n",
    "# For notebooks \n",
    "import nest_asyncio\n",
    "nest_asyncio.apply()"
   ]
  },
  {
   "cell_type": "markdown",
   "metadata": {},
   "source": [
    "https://towardsdatascience.com/analyzing-tweets-with-nlp-in-minutes-with-spark-optimus-and-twint-a0c96084995f\n",
    "\n",
    "'Twitter has a limitation on the number of characters used per tweet, resulting in data sparsity.' \n",
    "https://www.sciencedirect.com/science/article/pii/S1319157821002184"
   ]
  },
  {
   "cell_type": "code",
   "execution_count": null,
   "metadata": {},
   "outputs": [],
   "source": [
    "#configuration\n",
    "config = twint.Config()\n",
    "config.Search = \"bitcoin\"\n",
    "#config.Lang = \"en\"\n",
    "config.Limit = 1000\n",
    "config.Since = \"2016-04-29 00:00:00\" #datetime.strptime(\"2019-04-29 00:00:00\", '%Y-%m-%d %H:%M:%S')\n",
    "config.Until = \"2020-04-29 12:00:00\" # datetime.strptime(\"2020–04–29 12:00:00\", '%Y-%m-%d %H:%M:%S')\n",
    "config.Min_likes = 1000\n",
    "config.Pandas = True\n",
    "config.Hide_output = True\n",
    "\n",
    "#running search\n",
    "twint.run.Search(config)\n",
    "\n",
    "## SEARCH ONLY RETURNED 20 RESULTS MAXIMUM, DID SOME SEARCHING AND FOUND OUT\n",
    "# Uncommenting line 92 in the url.py file: ('query_source', 'typed_query'), seems to increase the amount of results\n"
   ]
  },
  {
   "cell_type": "code",
   "execution_count": null,
   "metadata": {},
   "outputs": [],
   "source": [
    "#https://github.com/FavioVazquez/twitter_optimus_twint/blob/master/AnalyzeTweets.ipynb\n",
    "\n",
    "# return all the columns in the twint output\n",
    "def available_columns():\n",
    "    return twint.output.panda.Tweets_df.columns\n",
    "\n",
    "# return only the needed columns for analysis\n",
    "def twint_to_pandas(columns):\n",
    "    return twint.output.panda.Tweets_df[columns]\n",
    "\n",
    "# Function to get sentiment\n",
    "def apply_blob(sentence):\n",
    "    temp = TextBlob(sentence).sentiment[0]\n",
    "    if temp == 0.0:\n",
    "        return 0.0  # Neutral\n",
    "    elif temp >= 0.0:\n",
    "        return 1.0  # Positive\n",
    "    else:\n",
    "        return 2.0  # Negative\n",
    "\n",
    "# UDF to write sentiment on DF\n",
    "sentiment = udf(apply_blob, DoubleType())\n",
    "\n",
    "def create_optimus(df):\n",
    "    # Transform Pandas DF to Optimus/Spark DF\n",
    "    df = op.create.data_frame(pdf=df)\n",
    "\n",
    "    # Clean tweets\n",
    "    clean_tweets = df.cols.remove_accents(\"tweet\").cols.remove_special_chars(\"tweet\")\n",
    "\n",
    "    # Add sentiment to final DF\n",
    "    return clean_tweets.withColumn(\"sentiment\", sentiment(clean_tweets['tweet']))"
   ]
  },
  {
   "cell_type": "code",
   "execution_count": null,
   "metadata": {},
   "outputs": [],
   "source": [
    "try:\n",
    "    print(available_columns())\n",
    "    df = twint_to_pandas([\"date\", \"username\", \"tweet\", \"hashtags\", \"nlikes\"])\n",
    "    print(df.head())\n",
    "    print(df.count())\n",
    "except KeyError as e:\n",
    "    print(\"No data retrieved!\")"
   ]
  },
  {
   "cell_type": "code",
   "execution_count": null,
   "metadata": {},
   "outputs": [],
   "source": [
    "# create the Optimus DataFrame \n",
    "op_df = create_optimus(df)\n",
    "op_df.printSchema()"
   ]
  },
  {
   "cell_type": "code",
   "execution_count": null,
   "metadata": {},
   "outputs": [],
   "source": [
    "# ERROR: Java error,\n",
    "# IllegalArgumentException: 'Unsupported class file major version 57'\n",
    "op_df.show()"
   ]
  }
 ],
 "metadata": {
  "interpreter": {
   "hash": "fd826fe865dcc411e912db3b8b9b4ce519949da90518879d30f3fbad62980482"
  },
  "kernelspec": {
   "display_name": "Python 3.6.9 64-bit ('Tensor': conda)",
   "language": "python",
   "name": "python3"
  },
  "language_info": {
   "codemirror_mode": {
    "name": "ipython",
    "version": 3
   },
   "file_extension": ".py",
   "mimetype": "text/x-python",
   "name": "python",
   "nbconvert_exporter": "python",
   "pygments_lexer": "ipython3",
   "version": "3.6.9"
  },
  "orig_nbformat": 4
 },
 "nbformat": 4,
 "nbformat_minor": 2
}
