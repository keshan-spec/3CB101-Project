{
 "cells": [
  {
   "cell_type": "code",
   "execution_count": null,
   "metadata": {},
   "outputs": [],
   "source": [
    "import twint\n",
    "from datetime import datetime\n",
    "\n",
    "# For notebooks \n",
    "import nest_asyncio\n",
    "nest_asyncio.apply()"
   ]
  },
  {
   "cell_type": "code",
   "execution_count": null,
   "metadata": {},
   "outputs": [],
   "source": [
    "\n",
    "print(datetime.strptime(\"2019-04-29 00:00:00\", '%Y-%m-%d %H:%M:%S'))\n",
    "print(datetime.strptime(\"2021-04-29 12:00:00\", '%Y-%m-%d %H:%M:%S'))"
   ]
  },
  {
   "cell_type": "code",
   "execution_count": null,
   "metadata": {},
   "outputs": [],
   "source": [
    "#configuration\n",
    "#configuration\n",
    "config = twint.Config()\n",
    "config.Search = \"bitcoin\"\n",
    "config.Lang = \"en\"\n",
    "config.Limit = 100\n",
    "config.Since = \"2019-04-29 00:00:00\" #datetime.strptime(\"2019-04-29 00:00:00\", '%Y-%m-%d %H:%M:%S')\n",
    "config.Until = \"2020-04-29 12:00:00\" # datetime.strptime(\"2020–04–29 12:00:00\", '%Y-%m-%d %H:%M:%S')\n",
    "config.Min_likes = 500\n",
    "config.Store_json = True\n",
    "config.Output = \"custom_out.json\"\n",
    "\n",
    "#running search\n",
    "twint.run.Search(config)"
   ]
  }
 ],
 "metadata": {
  "interpreter": {
   "hash": "fd826fe865dcc411e912db3b8b9b4ce519949da90518879d30f3fbad62980482"
  },
  "kernelspec": {
   "display_name": "Python 3.6.9 64-bit ('Tensor': conda)",
   "language": "python",
   "name": "python3"
  },
  "language_info": {
   "codemirror_mode": {
    "name": "ipython",
    "version": 3
   },
   "file_extension": ".py",
   "mimetype": "text/x-python",
   "name": "python",
   "nbconvert_exporter": "python",
   "pygments_lexer": "ipython3",
   "version": "3.6.9"
  },
  "orig_nbformat": 4
 },
 "nbformat": 4,
 "nbformat_minor": 2
}
