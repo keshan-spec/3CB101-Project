{
 "cells": [
  {
   "cell_type": "markdown",
   "metadata": {},
   "source": [
    "# **Tutorial used : https://www.youtube.com/watch?v=GFSiL6zEZF0**"
   ]
  },
  {
   "cell_type": "code",
   "execution_count": null,
   "metadata": {},
   "outputs": [],
   "source": [
    "\n",
    "import pandas as pd\n",
    "import pandas_datareader as web\n",
    "import numpy as np\n",
    "import matplotlib.pyplot as plt\n",
    "import datetime as dt\n",
    "\n",
    "from sklearn.preprocessing import MinMaxScaler\n",
    "from tensorflow.keras.layers import Dense, Dropout, LSTM\n",
    "from tensorflow.keras.models import Sequential"
   ]
  },
  {
   "cell_type": "code",
   "execution_count": null,
   "metadata": {},
   "outputs": [],
   "source": [
    "crypto_currency = \"BTC\"\n",
    "against_currency = \"GBP\"\n",
    "\n",
    "# get the data from Yahoo finance for the crypto currency and a real world currency\n",
    "start = dt.datetime(2016,1,1)\n",
    "end = dt.datetime.now()\n",
    "data = web.DataReader(f\"{crypto_currency}-{against_currency}\", 'yahoo', start, end)\n",
    "data.head()"
   ]
  },
  {
   "cell_type": "code",
   "execution_count": null,
   "metadata": {},
   "outputs": [],
   "source": [
    "# prepare the data\n",
    "scaler = MinMaxScaler(feature_range=(0,1))\n",
    "scaled_date = scaler.fit_transform(data[\"Close\"].values.reshape(-1,1))\n",
    "\n",
    "prediction_length = 60\n",
    "x_train, y_train = [], []\n",
    "\n",
    "# fill the training data\n",
    "for i in range(prediction_length, len(scaled_date)):\n",
    "    x_train.append(scaled_date[i-prediction_length:i, 0])\n",
    "    y_train.append(scaled_date[i, 0])\n",
    "\n",
    "# convert the data into numpy arrays\n",
    "x_train, y_train = np.array(x_train), np.array(y_train)\n",
    "# reshape the data\n",
    "x_train = np.reshape(x_train, (x_train.shape[0], x_train.shape[1], 1))\n"
   ]
  },
  {
   "cell_type": "code",
   "execution_count": null,
   "metadata": {},
   "outputs": [],
   "source": [
    "\n",
    "# create neural network\n",
    "model = Sequential()\n",
    "\n",
    "model.add(LSTM(units=50, return_sequences=True, input_shape=(x_train.shape[1], 1)))\n",
    "model.add(Dropout(0.2))\n",
    "model.add(LSTM(units=50, return_sequences=True))\n",
    "model.add(Dropout(0.2))\n",
    "model.add(LSTM(units=50))\n",
    "model.add(Dropout(0.2))\n",
    "model.add(Dense(units=1))\n",
    "\n",
    "\n",
    "# compile the model\n",
    "model.compile(optimizer='adam', loss='mean_squared_error')\n",
    "model.fit(x_train, y_train, epochs=25, batch_size=32, verbose=2)"
   ]
  },
  {
   "cell_type": "code",
   "execution_count": null,
   "metadata": {},
   "outputs": [],
   "source": [
    "# testing the model\n",
    "test_start = dt.datetime(2021,1,1)\n",
    "test_end = dt.datetime.now()\n",
    "\n",
    "test_data = web.DataReader(f\"{crypto_currency}-{against_currency}\", 'yahoo', test_start, test_end)\n",
    "actual_price = test_data[\"Close\"].values\n",
    "total_dataset = pd.concat((data[\"Close\"], test_data[\"Close\"]), axis=0)\n",
    "\n",
    "model_input = total_dataset[len(total_dataset) - len(test_data) - prediction_length:].values\n",
    "model_input = model_input.reshape(-1, 1)\n",
    "model_input = scaler.fit_transform(model_input)\n",
    "\n"
   ]
  },
  {
   "cell_type": "code",
   "execution_count": null,
   "metadata": {},
   "outputs": [],
   "source": [
    "print(len(total_dataset),len(test_data), prediction_length)"
   ]
  },
  {
   "cell_type": "code",
   "execution_count": null,
   "metadata": {},
   "outputs": [],
   "source": [
    "# make a prediction\n",
    "x_test = []\n",
    "for i in range(prediction_length, len(model_input)):\n",
    "    x_test.append(model_input[i-prediction_length:i, 0])\n",
    "\n",
    "x_test = np.array(x_test)\n",
    "x_test = np.reshape(x_test, (x_test.shape[0], x_test.shape[1], 1))"
   ]
  },
  {
   "cell_type": "code",
   "execution_count": null,
   "metadata": {},
   "outputs": [],
   "source": [
    "# Use the model to predict the future\n",
    "prediction = model.predict(x_test)\n",
    "prediction = scaler.inverse_transform(prediction)"
   ]
  },
  {
   "cell_type": "code",
   "execution_count": null,
   "metadata": {},
   "outputs": [],
   "source": [
    "# visialize the results\n",
    "plt.plot(actual_price[59:110], color='red', label='Actual Price')\n",
    "plt.plot(prediction[59:110], color='blue', label='Predicted Price')\n",
    "\n",
    "plt.title(f\"{crypto_currency}-{against_currency}\")\n",
    "plt.xlabel(\"Time\")\n",
    "plt.ylabel(\"Price\")\n",
    "plt.legend(loc='best')"
   ]
  },
  {
   "cell_type": "markdown",
   "metadata": {},
   "source": [
    "TESTING WITH DIFFERENT DATASET"
   ]
  },
  {
   "cell_type": "code",
   "execution_count": null,
   "metadata": {},
   "outputs": [],
   "source": [
    "csv = pd.read_csv(\"../BTC-Historic-data.csv\") # cleaning function to trim and change the date format of the data"
   ]
  },
  {
   "cell_type": "code",
   "execution_count": null,
   "metadata": {},
   "outputs": [],
   "source": [
    "def trim_date(ts):\n",
    "    date_as_string = str(dt.datetime.fromtimestamp(ts))  # cast to string\n",
    "    return date_as_string.split(\" \")[0]\n",
    "    # return dt.datetime.strptime(trimmed_date, '%Y-%m-%d').strftime('%d/%m/%Y')\n",
    "\n",
    "df = csv.copy()"
   ]
  },
  {
   "cell_type": "code",
   "execution_count": null,
   "metadata": {},
   "outputs": [],
   "source": [
    "df.drop([\"Volume_(BTC)\"],axis=1, inplace=True)\n",
    "df.rename(columns={'Timestamp': 'Date', 'Volume_(Currency)': 'Volume', 'Weighted_Price':'Adj Close'}, inplace=True)\n",
    "df = df[csv['Close'].notna()]\n",
    "df[\"Date\"] = df[\"Date\"].apply(trim_date)\n",
    "\n",
    "df = df[df[\"Date\"] == \"2021-01-01\"]\n",
    "\n",
    "df = df[[\"Date\",\"High\", \"Low\", \"Open\", \"Close\", \"Volume\",\"Adj Close\"]]\n",
    "\n",
    "print(df.head(), df.columns)\n",
    "print(test_data.head(), test_data.columns)"
   ]
  }
 ],
 "metadata": {
  "interpreter": {
   "hash": "fd826fe865dcc411e912db3b8b9b4ce519949da90518879d30f3fbad62980482"
  },
  "kernelspec": {
   "display_name": "Python 3.6.9 64-bit ('Tensor': conda)",
   "language": "python",
   "name": "python3"
  },
  "language_info": {
   "codemirror_mode": {
    "name": "ipython",
    "version": 3
   },
   "file_extension": ".py",
   "mimetype": "text/x-python",
   "name": "python",
   "nbconvert_exporter": "python",
   "pygments_lexer": "ipython3",
   "version": "3.6.9"
  },
  "orig_nbformat": 4
 },
 "nbformat": 4,
 "nbformat_minor": 2
}
