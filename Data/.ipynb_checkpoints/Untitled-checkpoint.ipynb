{
 "cells": [
  {
   "cell_type": "code",
   "execution_count": 1,
   "metadata": {},
   "outputs": [],
   "source": [
    "import pandas as pd\n",
    "import os"
   ]
  },
  {
   "cell_type": "code",
   "execution_count": 34,
   "metadata": {},
   "outputs": [],
   "source": [
    "df = pd.read_csv(\"./complete-merged-df.csv\", index_col=0, parse_dates=True)\n",
    "df.head()"
   ]
  },
  {
   "cell_type": "code",
   "execution_count": 38,
   "metadata": {
    "scrolled": true
   },
   "outputs": [
    {
     "name": "stdout",
     "output_type": "stream",
     "text": [
      "NaN values:  0\n"
     ]
    }
   ],
   "source": [
    "print(\"NaN values: \",len(df[df.isna().any(axis=1)]))"
   ]
  },
  {
   "cell_type": "markdown",
   "metadata": {},
   "source": [
    "# Feature selection"
   ]
  },
  {
   "cell_type": "code",
   "execution_count": 40,
   "metadata": {},
   "outputs": [],
   "source": [
    "from scipy.stats import linregress\n",
    "import numpy as np\n",
    "\n",
    "def correlation_test(v1,v2, graph=False):\n",
    "    coef = np.corrcoef(v1, v2)\n",
    "    linreg = linregress(v1, v2)\n",
    "    print(\"Coef : \", coef)\n",
    "    print(\"Linear Regression results : \")\n",
    "    print(f\"\\tp = {round(linreg.pvalue,5)}\")\n",
    "    print(f\"\\tslope = {round(linreg.slope,5)}\")\n",
    "    print(f\"\\tintercept = {round(linreg.intercept,5)}\")\n",
    "    print(f\"\\tstd. err = {round(linreg.stderr, 5)}\")\n",
    "    print(\"-----------------------------\")\n",
    "    if graph:\n",
    "        plt.scatter(v1, v2)\n",
    "        plt.show()\n",
    "\n",
    "correlation_test(df['n-transactions'],  df['SVI'])\n",
    "correlation_test(df['close'],  df['cost-per-transaction'])\n",
    "correlation_test(df['close'],  df['hash-rate'])\n",
    "correlation_test(df['close'],  df['n-transactions'])\n",
    "correlation_test(df['close'],  df['Gold price'])"
   ]
  },
  {
   "cell_type": "markdown",
   "metadata": {},
   "source": [
    "# Unit Root Testing"
   ]
  },
  {
   "cell_type": "code",
   "execution_count": null,
   "metadata": {},
   "outputs": [],
   "source": [
    "from statsmodels.tsa.stattools import adfuller\n",
    "\n",
    "def make_stationary(data: pd.Series, alpha: float = 0.05, max_diff_order: int = 10) -> dict:\n",
    "    # Test to see if the time series is already stationary\n",
    "    if adfuller(data)[1] < alpha:\n",
    "        return {\n",
    "            'differencing_order': 0,\n",
    "            'time_series': np.array(data)\n",
    "        }\n",
    "\n",
    "    p_values = [] # A list to store P-Values\n",
    "    # Test for differencing orders from 1 to max_diff_order (included)\n",
    "    for i in range(1, max_diff_order + 1):\n",
    "        result = adfuller(data.diff(i).fillna(data.mean())) # Perform ADF test\n",
    "        p_values.append((i, result[1])) # Append P-value\n",
    "        \n",
    "    significant = [p for p in p_values if p[1] < alpha] # Keep only those where P-value is lower than significance level\n",
    "    significant = sorted(significant, key=lambda x: x[0]) # Sort by the differencing order\n",
    "    diff_order = significant[0][0] # Get the differencing order\n",
    "    stationary_series = data.diff(diff_order).fillna(data.mean()) # Make the time series stationary\n",
    "    \n",
    "    return {\n",
    "        'differencing_order': diff_order,\n",
    "        'time_series': np.array(stationary_series)\n",
    "    }"
   ]
  }
 ],
 "metadata": {
  "kernelspec": {
   "display_name": "Python 3",
   "language": "python",
   "name": "python3"
  },
  "language_info": {
   "codemirror_mode": {
    "name": "ipython",
    "version": 3
   },
   "file_extension": ".py",
   "mimetype": "text/x-python",
   "name": "python",
   "nbconvert_exporter": "python",
   "pygments_lexer": "ipython3",
   "version": "3.7.4"
  }
 },
 "nbformat": 4,
 "nbformat_minor": 2
}
