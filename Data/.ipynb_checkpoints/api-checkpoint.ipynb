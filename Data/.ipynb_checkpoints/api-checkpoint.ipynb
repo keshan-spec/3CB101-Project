{
 "cells": [
  {
   "cell_type": "code",
   "execution_count": 2,
   "metadata": {},
   "outputs": [],
   "source": [
    "from requests import get"
   ]
  },
  {
   "cell_type": "code",
   "execution_count": 6,
   "metadata": {},
   "outputs": [],
   "source": [
    "charts = [\"trade-volume\",\"total-bitcoins\", \"estimated-transaction-volume-usd\", \"n-transactions\",\n",
    "          \"difficulty\",\"hash-rate\", \"cost-per-transaction\",\"output-volume\"]\n",
    "urls = []\n",
    "for chart in charts:\n",
    "    urls.append(f\"https://api.blockchain.info/charts/{chart}?timespan=6years&format=csv&start=01012016\")"
   ]
  },
  {
   "cell_type": "code",
   "execution_count": 7,
   "metadata": {},
   "outputs": [
    {
     "data": {
      "text/plain": [
       "['https://api.blockchain.info/charts/trade-volume?timespan=6years&format=csv&start=01012016',\n",
       " 'https://api.blockchain.info/charts/total-bitcoins?timespan=6years&format=csv&start=01012016',\n",
       " 'https://api.blockchain.info/charts/estimated-transaction-volume-usd?timespan=6years&format=csv&start=01012016',\n",
       " 'https://api.blockchain.info/charts/n-transactions?timespan=6years&format=csv&start=01012016',\n",
       " 'https://api.blockchain.info/charts/difficulty?timespan=6years&format=csv&start=01012016',\n",
       " 'https://api.blockchain.info/charts/hash-rate?timespan=6years&format=csv&start=01012016',\n",
       " 'https://api.blockchain.info/charts/cost-per-transaction?timespan=6years&format=csv&start=01012016',\n",
       " 'https://api.blockchain.info/charts/output-volume?timespan=6years&format=csv&start=01012016']"
      ]
     },
     "execution_count": 7,
     "metadata": {},
     "output_type": "execute_result"
    }
   ],
   "source": [
    "urls"
   ]
  },
  {
   "cell_type": "code",
   "execution_count": 11,
   "metadata": {},
   "outputs": [
    {
     "name": "stdout",
     "output_type": "stream",
     "text": [
      "trade-volume : 200\n",
      "total-bitcoins : 200\n",
      "estimated-transaction-volume-usd : 200\n",
      "n-transactions : 200\n"
     ]
    },
    {
     "ename": "PermissionError",
     "evalue": "[Errno 13] Permission denied: './Datasets-6/n-transactions.csv'",
     "output_type": "error",
     "traceback": [
      "\u001b[1;31m---------------------------------------------------------------------------\u001b[0m",
      "\u001b[1;31mPermissionError\u001b[0m                           Traceback (most recent call last)",
      "\u001b[1;32m<ipython-input-11-863de53fd091>\u001b[0m in \u001b[0;36m<module>\u001b[1;34m\u001b[0m\n\u001b[0;32m      2\u001b[0m     \u001b[0mx\u001b[0m \u001b[1;33m=\u001b[0m \u001b[0mget\u001b[0m\u001b[1;33m(\u001b[0m\u001b[0mi\u001b[0m\u001b[1;33m[\u001b[0m\u001b[1;36m1\u001b[0m\u001b[1;33m]\u001b[0m\u001b[1;33m)\u001b[0m\u001b[1;33m\u001b[0m\u001b[1;33m\u001b[0m\u001b[0m\n\u001b[0;32m      3\u001b[0m     \u001b[0mprint\u001b[0m\u001b[1;33m(\u001b[0m\u001b[1;34mf\"{charts[i[0]]} : {x.status_code}\"\u001b[0m\u001b[1;33m)\u001b[0m\u001b[1;33m\u001b[0m\u001b[1;33m\u001b[0m\u001b[0m\n\u001b[1;32m----> 4\u001b[1;33m     \u001b[1;32mwith\u001b[0m \u001b[0mopen\u001b[0m\u001b[1;33m(\u001b[0m\u001b[1;34mf\"./Datasets-6/{charts[i[0]]}.csv\"\u001b[0m\u001b[1;33m,\u001b[0m \u001b[1;34m'wb'\u001b[0m\u001b[1;33m)\u001b[0m \u001b[1;32mas\u001b[0m \u001b[0mf\u001b[0m\u001b[1;33m:\u001b[0m\u001b[1;33m\u001b[0m\u001b[1;33m\u001b[0m\u001b[0m\n\u001b[0m\u001b[0;32m      5\u001b[0m         \u001b[0mf\u001b[0m\u001b[1;33m.\u001b[0m\u001b[0mwrite\u001b[0m\u001b[1;33m(\u001b[0m\u001b[1;34mf'Timestamp,{charts[i[0]]}\\n'\u001b[0m\u001b[1;33m.\u001b[0m\u001b[0mencode\u001b[0m\u001b[1;33m(\u001b[0m\u001b[1;34m'utf-8'\u001b[0m\u001b[1;33m)\u001b[0m\u001b[1;33m)\u001b[0m\u001b[1;33m\u001b[0m\u001b[1;33m\u001b[0m\u001b[0m\n\u001b[0;32m      6\u001b[0m         \u001b[0mf\u001b[0m\u001b[1;33m.\u001b[0m\u001b[0mwrite\u001b[0m\u001b[1;33m(\u001b[0m\u001b[0mx\u001b[0m\u001b[1;33m.\u001b[0m\u001b[0mcontent\u001b[0m\u001b[1;33m)\u001b[0m\u001b[1;33m\u001b[0m\u001b[1;33m\u001b[0m\u001b[0m\n",
      "\u001b[1;31mPermissionError\u001b[0m: [Errno 13] Permission denied: './Datasets-6/n-transactions.csv'"
     ]
    }
   ],
   "source": [
    "for i in enumerate(urls):\n",
    "    x = get(i[1])\n",
    "    print(f\"{charts[i[0]]} : {x.status_code}\")\n",
    "    with open(f\"./Datasets-6/{charts[i[0]]}.csv\", 'wb') as f:\n",
    "        f.write(f'Timestamp,{charts[i[0]]}\\n'.encode('utf-8'))\n",
    "        f.write(x.content)"
   ]
  }
 ],
 "metadata": {
  "kernelspec": {
   "display_name": "Python 3",
   "language": "python",
   "name": "python3"
  },
  "language_info": {
   "codemirror_mode": {
    "name": "ipython",
    "version": 3
   },
   "file_extension": ".py",
   "mimetype": "text/x-python",
   "name": "python",
   "nbconvert_exporter": "python",
   "pygments_lexer": "ipython3",
   "version": "3.7.4"
  }
 },
 "nbformat": 4,
 "nbformat_minor": 2
}
