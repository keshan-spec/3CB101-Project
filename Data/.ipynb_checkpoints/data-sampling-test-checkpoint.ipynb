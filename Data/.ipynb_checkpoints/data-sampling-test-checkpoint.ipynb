{
 "cells": [
  {
   "cell_type": "code",
   "execution_count": null,
   "metadata": {},
   "outputs": [],
   "source": [
    "import pandas as pd\n",
    "import os\n",
    "from matplotlib import pyplot as plt\n",
    "import seaborn as sns\n",
    "import statsmodels.api as sm\n",
    "import statsmodels.tsa.stattools as ts"
   ]
  },
  {
   "cell_type": "code",
   "execution_count": null,
   "metadata": {},
   "outputs": [],
   "source": [
    "ROOT_DIR = os.getcwd() + \"\\\\Datasets\\\\\""
   ]
  },
  {
   "cell_type": "code",
   "execution_count": null,
   "metadata": {},
   "outputs": [],
   "source": [
    "ROOT_DIR"
   ]
  },
  {
   "cell_type": "code",
   "execution_count": null,
   "metadata": {},
   "outputs": [],
   "source": [
    "# Modifying Wiki Data: Filter to only include WIKI one month\n",
    "start_date = '2017-01-01'\n",
    "end_date = '2021-12-31'\n",
    "\n",
    "def _mask(dataset, start_date, end_date):\n",
    "    mask = (dataset.index >= start_date) & (dataset.index <= end_date)\n",
    "    return dataset.loc[mask]  "
   ]
  },
  {
   "cell_type": "code",
   "execution_count": null,
   "metadata": {},
   "outputs": [],
   "source": [
    "# BITCOIN PRICE INDEX\n",
    "os.chdir(ROOT_DIR+'./BPI/')\n",
    "\n",
    "BPI = pd.read_csv(\"./bpi.csv\",  index_col=\"Date\", parse_dates=True)\n",
    "BPI.rename(columns={'Closing Price (USD)': 'close',\n",
    "           '24h Open (USD)': 'open', '24h High (USD)': 'high', '24h Low (USD)': 'low'}, inplace=True)\n",
    "BPI.drop(['Currency'], axis=1, inplace=True)\n",
    "\n",
    "HASH = pd.read_csv(\"./hash-rate.csv\",  index_col=\"Timestamp\", parse_dates=True)\n",
    "MINE_DIFF = pd.read_csv(\"./difficulty.csv\",  index_col=\"Timestamp\", parse_dates=True)\n",
    "COST_PER_TRANS = pd.read_csv(\"./cost-per-transaction.csv\", index_col=\"Timestamp\", parse_dates=True)\n",
    "OUPUT = pd.read_csv(\"./output-volume.csv\", index_col=\"Timestamp\", parse_dates=True)\n",
    "EXTV = pd.read_csv(\"./estimated-transaction-volume-usd.csv\", index_col=\"Timestamp\", parse_dates=True)\n",
    "TRADE_VOL = pd.read_csv(\"./trade-volume.csv\", index_col=\"Timestamp\", parse_dates=True)\n",
    "NTRANS = pd.read_csv(\"./n-transactions.csv\", index_col=\"Timestamp\", parse_dates=True)\n",
    "#MINE_REV = pd.read_csv(\"./miners-revenue.csv\", index_col=\"Timestamp\", parse_dates=True)\n",
    "\n",
    "BPI = _mask(BPI, start_date, end_date)\n",
    "HASH = _mask(HASH, start_date, end_date)\n",
    "EXTV = _mask(EXTV, start_date, end_date)\n",
    "NTRANS = _mask(NTRANS, start_date, end_date)\n",
    "MINE_DIFF = _mask(MINE_DIFF, start_date, end_date)\n",
    "COST_PER_TRANS = _mask(COST_PER_TRANS, start_date, end_date)\n",
    "OUPUT = _mask(OUPUT, start_date, end_date)\n",
    "TRADE_VOL = _mask(TRADE_VOL, start_date, end_date)\n",
    "#MINE_REV = _mask(MINE_REV, start_date, end_date)"
   ]
  },
  {
   "cell_type": "code",
   "execution_count": null,
   "metadata": {},
   "outputs": [],
   "source": [
    "# MACRO\n",
    "os.chdir(ROOT_DIR)\n",
    "\n",
    "GP = pd.read_csv(\"./gold-price.csv\",  index_col=\"Date\", parse_dates=True)\n",
    "GP.dropna(axis=1, how=\"all\", inplace=True)\n",
    "GP.drop(['Open', 'High', 'Low', 'Change %', 'Vol.'], axis=1, inplace=True)\n",
    "GP.rename(columns={'Price': 'Gold price'}, inplace=True)\n",
    "\n",
    "USD_CNY = pd.read_csv(\"./usd-cny.csv\",  index_col=\"Date\", parse_dates=True)\n",
    "USD_CNY.drop(['Open', 'High', 'Low', 'Change %'], axis=1, inplace=True)\n",
    "USD_CNY.rename(columns={'Price': 'USD-CNY Price'}, inplace=True)\n",
    "\n",
    "GP = _mask(GP, start_date, end_date)\n",
    "USD_CNY = _mask(USD_CNY, start_date, end_date)"
   ]
  },
  {
   "cell_type": "code",
   "execution_count": null,
   "metadata": {},
   "outputs": [],
   "source": [
    "# MEDIA AND INTERESTS\n",
    "#SVI = pd.read_csv(\"./svi.csv\")\n",
    "WIKI = pd.read_csv(\"./wikishark.csv\", index_col=\"DateTime\", parse_dates=True)\n",
    "WIKI.rename(columns={'Bitcoin[en]':'Wikiviews'}, inplace=True)\n",
    "\n",
    "#SVI = _mask(SVI, start_date, end_date)\n",
    "WIKI = _mask(WIKI, start_date, end_date)"
   ]
  },
  {
   "cell_type": "code",
   "execution_count": null,
   "metadata": {},
   "outputs": [],
   "source": [
    "# dataframe = pd.concat([BPI,EXTV, NTRANS, HASH, MINE_DIFF, COST_PER_TRANS, OUPUT, TRADE_VOL, MINE_REV, GP, USD_CNY, WIKI, SVI], axis=1)\n",
    "df = pd.concat([BPI,EXTV, NTRANS, HASH, MINE_DIFF, COST_PER_TRANS, OUPUT, TRADE_VOL,GP, USD_CNY, WIKI], axis=1)\n",
    "# dataframe.fillna(0, inplace=True)\n",
    "# dataframe.dropna(axis=0, how='any', inplace=True)\n",
    "# df=  dataframe.fillna(method='ffill')\n",
    "#df = dataframe.interpolate(method='linear', limit_direction='forward')\n",
    "#dataframe.to_csv()\n",
    "df.head(50)\n"
   ]
  },
  {
   "cell_type": "code",
   "execution_count": null,
   "metadata": {},
   "outputs": [],
   "source": [
    "len(df[df.isna().any(axis=1)])\n",
    "df[df.isna().any(axis=1)]"
   ]
  },
  {
   "cell_type": "code",
   "execution_count": null,
   "metadata": {},
   "outputs": [],
   "source": [
    "df.info()\n",
    "df.shape\n",
    "df.describe()"
   ]
  }
 ],
 "metadata": {
  "interpreter": {
   "hash": "fd826fe865dcc411e912db3b8b9b4ce519949da90518879d30f3fbad62980482"
  },
  "kernelspec": {
   "display_name": "Python 3",
   "language": "python",
   "name": "python3"
  },
  "language_info": {
   "codemirror_mode": {
    "name": "ipython",
    "version": 3
   },
   "file_extension": ".py",
   "mimetype": "text/x-python",
   "name": "python",
   "nbconvert_exporter": "python",
   "pygments_lexer": "ipython3",
   "version": "3.7.4"
  }
 },
 "nbformat": 4,
 "nbformat_minor": 2
}
