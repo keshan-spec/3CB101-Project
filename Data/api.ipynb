{
 "cells": [
  {
   "cell_type": "code",
   "execution_count": 2,
   "metadata": {},
   "outputs": [],
   "source": [
    "from requests import get"
   ]
  },
  {
   "cell_type": "code",
   "execution_count": 12,
   "metadata": {},
   "outputs": [],
   "source": [
    "#https://www.blockchain.com/api/charts_api\n",
    "charts = [\"trade-volume\",\"total-bitcoins\", \"estimated-transaction-volume-usd\", \"n-transactions\",\n",
    "          \"difficulty\",\"hash-rate\", \"cost-per-transaction\",\"output-volume\"]\n",
    "urls = []\n",
    "for chart in charts:\n",
    "    urls.append(f\"https://api.blockchain.info/charts/{chart}?timespan=6years&format=csv&start=2017-01-01\")"
   ]
  },
  {
   "cell_type": "code",
   "execution_count": 13,
   "metadata": {},
   "outputs": [
    {
     "data": {
      "text/plain": [
       "['https://api.blockchain.info/charts/trade-volume?timespan=6years&format=csv',\n",
       " 'https://api.blockchain.info/charts/total-bitcoins?timespan=6years&format=csv',\n",
       " 'https://api.blockchain.info/charts/estimated-transaction-volume-usd?timespan=6years&format=csv',\n",
       " 'https://api.blockchain.info/charts/n-transactions?timespan=6years&format=csv',\n",
       " 'https://api.blockchain.info/charts/difficulty?timespan=6years&format=csv',\n",
       " 'https://api.blockchain.info/charts/hash-rate?timespan=6years&format=csv',\n",
       " 'https://api.blockchain.info/charts/cost-per-transaction?timespan=6years&format=csv',\n",
       " 'https://api.blockchain.info/charts/output-volume?timespan=6years&format=csv']"
      ]
     },
     "execution_count": 13,
     "metadata": {},
     "output_type": "execute_result"
    }
   ],
   "source": [
    "urls"
   ]
  },
  {
   "cell_type": "code",
   "execution_count": 15,
   "metadata": {},
   "outputs": [
    {
     "name": "stdout",
     "output_type": "stream",
     "text": [
      "trade-volume : 200\n",
      "total-bitcoins : 200\n",
      "estimated-transaction-volume-usd : 200\n",
      "n-transactions : 200\n",
      "difficulty : 200\n",
      "hash-rate : 200\n",
      "cost-per-transaction : 200\n",
      "output-volume : 200\n"
     ]
    }
   ],
   "source": [
    "for i in enumerate(urls):\n",
    "    x = get(i[1])\n",
    "    print(f\"{charts[i[0]]} : {x.status_code}\")\n",
    "    with open(f\"./Datasets/{charts[i[0]]}.csv\", 'wb') as f:\n",
    "        f.write(f'Timestamp,{charts[i[0]]}\\n'.encode('utf-8'))\n",
    "        f.write(x.content)"
   ]
  }
 ],
 "metadata": {
  "kernelspec": {
   "display_name": "Python 3",
   "language": "python",
   "name": "python3"
  },
  "language_info": {
   "codemirror_mode": {
    "name": "ipython",
    "version": 3
   },
   "file_extension": ".py",
   "mimetype": "text/x-python",
   "name": "python",
   "nbconvert_exporter": "python",
   "pygments_lexer": "ipython3",
   "version": "3.7.4"
  }
 },
 "nbformat": 4,
 "nbformat_minor": 2
}
