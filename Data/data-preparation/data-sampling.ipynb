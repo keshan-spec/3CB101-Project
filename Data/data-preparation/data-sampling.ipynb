{
 "cells": [
  {
   "cell_type": "code",
   "execution_count": null,
   "metadata": {},
   "outputs": [],
   "source": [
    "from matplotlib import pyplot as plt\n",
    "import seaborn as sns\n",
    "import pandas as pd\n",
    "import os"
   ]
  },
  {
   "cell_type": "code",
   "execution_count": null,
   "metadata": {},
   "outputs": [],
   "source": [
    "# change directory to where dataset is located\n",
    "os.chdir('../datasets')\n",
    "ROOT_DIR = os.getcwd()"
   ]
  },
  {
   "cell_type": "code",
   "execution_count": null,
   "metadata": {},
   "outputs": [],
   "source": [
    "# Modifying Wiki Data: Filter to only include WIKI one month\n",
    "start_date = '2017-01-01'\n",
    "end_date = '2021-12-31'\n",
    "\n",
    "def _mask(dataset, start_date, end_date):\n",
    "    mask = (dataset.index >= start_date) & (dataset.index <= end_date)\n",
    "    return dataset.loc[mask]  "
   ]
  },
  {
   "cell_type": "code",
   "execution_count": null,
   "metadata": {},
   "outputs": [],
   "source": [
    "# BITCOIN PRICE INDEX\n",
    "os.chdir(os.path.join(ROOT_DIR, 'BPI\\\\'))\n",
    "\n",
    "BPI = pd.read_csv(\"./bpi.csv\",  index_col=\"Date\", parse_dates=True)\n",
    "BPI.rename(columns={'Closing Price (USD)': 'close',\n",
    "           '24h Open (USD)': 'open', '24h High (USD)': 'high', '24h Low (USD)': 'low'}, inplace=True)\n",
    "BPI.drop(['Currency'], axis=1, inplace=True)\n",
    "\n",
    "HASH = pd.read_csv(\"./hash-rate.csv\",  index_col=\"Timestamp\", parse_dates=True)\n",
    "MINE_DIFF = pd.read_csv(\"./difficulty.csv\",  index_col=\"Timestamp\", parse_dates=True)\n",
    "COST_PER_TRANS = pd.read_csv(\"./cost-per-transaction.csv\", index_col=\"Timestamp\", parse_dates=True)\n",
    "OUPUT = pd.read_csv(\"./output-volume.csv\", index_col=\"Timestamp\", parse_dates=True)\n",
    "EXTV = pd.read_csv(\"./estimated-transaction-volume-usd.csv\", index_col=\"Timestamp\", parse_dates=True)\n",
    "TRADE_VOL = pd.read_csv(\"./trade-volume.csv\", index_col=\"Timestamp\", parse_dates=True)\n",
    "NTRANS = pd.read_csv(\"./n-transactions.csv\", index_col=\"Timestamp\", parse_dates=True)\n",
    "\n",
    "BPI = _mask(BPI, start_date, end_date)\n",
    "HASH = _mask(HASH, start_date, end_date)\n",
    "EXTV = _mask(EXTV, start_date, end_date)\n",
    "NTRANS = _mask(NTRANS, start_date, end_date)\n",
    "MINE_DIFF = _mask(MINE_DIFF, start_date, end_date)\n",
    "COST_PER_TRANS = _mask(COST_PER_TRANS, start_date, end_date)\n",
    "OUPUT = _mask(OUPUT, start_date, end_date)\n",
    "TRADE_VOL = _mask(TRADE_VOL, start_date, end_date)\n"
   ]
  },
  {
   "cell_type": "code",
   "execution_count": null,
   "metadata": {},
   "outputs": [],
   "source": [
    "# MACRO\n",
    "os.chdir(ROOT_DIR)\n",
    "\n",
    "GP = pd.read_csv(\"./gold-price.csv\",  index_col=\"Date\", parse_dates=True)\n",
    "GP.dropna(axis=1, how=\"all\", inplace=True)\n",
    "GP.drop(['Open', 'High', 'Low', 'Change %', 'Vol.'], axis=1, inplace=True)\n",
    "GP.rename(columns={'Price': 'Gold price'}, inplace=True)\n",
    "# conver string to int\n",
    "for i in range(len(GP[\"Gold price\"])):\n",
    "    GP[\"Gold price\"][i] = \"\".join(GP[\"Gold price\"][i].split(\",\"))\n",
    "GP[\"Gold price\"] = pd.to_numeric(GP[\"Gold price\"])\n",
    "\n",
    "\n",
    "USD_CNY = pd.read_csv(\"./usd-cny.csv\",  index_col=\"Date\", parse_dates=True)\n",
    "USD_CNY.drop(['Open', 'High', 'Low', 'Change %'], axis=1, inplace=True)\n",
    "USD_CNY.rename(columns={'Price': 'USD-CNY Price'}, inplace=True)\n",
    "\n",
    "GP = _mask(GP, start_date, end_date)\n",
    "USD_CNY = _mask(USD_CNY, start_date, end_date)"
   ]
  },
  {
   "cell_type": "code",
   "execution_count": null,
   "metadata": {},
   "outputs": [],
   "source": [
    "# MEDIA AND INTERESTS\n",
    "SVI = pd.read_csv(\"./svi.csv\", index_col=\"Week\", parse_dates=True)\n",
    "# SVI.rename(columns={'Category: All categories':'SVI'}, inplace=True)\n",
    "\n",
    "WIKI = pd.read_csv(\"./wikishark.csv\", index_col=\"DateTime\", parse_dates=True)\n",
    "WIKI.rename(columns={'Bitcoin[en]':'Wikiviews'}, inplace=True)\n",
    "\n",
    "SVI = _mask(SVI, start_date, end_date)\n",
    "WIKI = _mask(WIKI, start_date, end_date)"
   ]
  },
  {
   "cell_type": "code",
   "execution_count": null,
   "metadata": {},
   "outputs": [],
   "source": [
    "df = pd.concat([BPI,EXTV, NTRANS, HASH, MINE_DIFF, COST_PER_TRANS,\n",
    "     GP, OUPUT, TRADE_VOL, USD_CNY, SVI, WIKI], axis=1)\n",
    "\n",
    "# 7th differencing, (daily to weekly freq)\n",
    "# df_resampled = df.resample('7D').mean().interpolate()\n",
    "df_resampled = df\n",
    "df_resampled.fillna(df_resampled.mean(), inplace=True)\n",
    "df_resampled.head()"
   ]
  },
  {
   "cell_type": "code",
   "execution_count": null,
   "metadata": {},
   "outputs": [],
   "source": [
    "print(\"Before sampling NaN values: \",len(df[df.isna().any(axis=1)]))\n",
    "print(\"After sampling NaN values: \",len(df_resampled[df_resampled.isna().any(axis=1)]))"
   ]
  },
  {
   "cell_type": "code",
   "execution_count": null,
   "metadata": {},
   "outputs": [],
   "source": [
    "df_resampled[df_resampled.isna().any(axis=1)]"
   ]
  },
  {
   "cell_type": "code",
   "execution_count": null,
   "metadata": {},
   "outputs": [],
   "source": [
    "df_resampled.info()\n",
    "df_resampled.describe()"
   ]
  },
  {
   "cell_type": "code",
   "execution_count": null,
   "metadata": {},
   "outputs": [],
   "source": [
    "df_resampled.columns"
   ]
  },
  {
   "cell_type": "code",
   "execution_count": null,
   "metadata": {},
   "outputs": [],
   "source": [
    "# SAVE DATASET\n",
    "df_resampled.to_csv(\"../complete-merged-df.csv\")"
   ]
  }
 ],
 "metadata": {
  "interpreter": {
   "hash": "fd826fe865dcc411e912db3b8b9b4ce519949da90518879d30f3fbad62980482"
  },
  "kernelspec": {
   "display_name": "Python 3",
   "language": "python",
   "name": "python3"
  },
  "language_info": {
   "codemirror_mode": {
    "name": "ipython",
    "version": 3
   },
   "file_extension": ".py",
   "mimetype": "text/x-python",
   "name": "python",
   "nbconvert_exporter": "python",
   "pygments_lexer": "ipython3",
   "version": "3.8.12"
  }
 },
 "nbformat": 4,
 "nbformat_minor": 2
}
