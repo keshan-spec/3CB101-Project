{
 "cells": [
  {
   "cell_type": "code",
   "execution_count": 1,
   "metadata": {},
   "outputs": [
    {
     "ename": "ImportError",
     "evalue": "cannot import name 'compat'",
     "output_type": "error",
     "traceback": [
      "\u001b[1;31m---------------------------------------------------------------------------\u001b[0m",
      "\u001b[1;31mImportError\u001b[0m                               Traceback (most recent call last)",
      "\u001b[1;32m<ipython-input-1-142d56d8a49a>\u001b[0m in \u001b[0;36m<module>\u001b[1;34m\u001b[0m\n\u001b[0;32m      1\u001b[0m \u001b[1;31m# import pandas as pd\u001b[0m\u001b[1;33m\u001b[0m\u001b[1;33m\u001b[0m\u001b[1;33m\u001b[0m\u001b[0m\n\u001b[0;32m      2\u001b[0m \u001b[1;32mimport\u001b[0m \u001b[0mos\u001b[0m\u001b[1;33m\u001b[0m\u001b[1;33m\u001b[0m\u001b[0m\n\u001b[1;32m----> 3\u001b[1;33m \u001b[1;32mfrom\u001b[0m \u001b[0mmatplotlib\u001b[0m \u001b[1;32mimport\u001b[0m \u001b[0mpyplot\u001b[0m \u001b[1;32mas\u001b[0m \u001b[0mplt\u001b[0m\u001b[1;33m\u001b[0m\u001b[1;33m\u001b[0m\u001b[0m\n\u001b[0m\u001b[0;32m      4\u001b[0m \u001b[1;32mimport\u001b[0m \u001b[0mseaborn\u001b[0m \u001b[1;32mas\u001b[0m \u001b[0msns\u001b[0m\u001b[1;33m\u001b[0m\u001b[1;33m\u001b[0m\u001b[0m\n\u001b[0;32m      5\u001b[0m \u001b[1;32mimport\u001b[0m \u001b[0mstatsmodels\u001b[0m\u001b[1;33m.\u001b[0m\u001b[0mapi\u001b[0m \u001b[1;32mas\u001b[0m \u001b[0msm\u001b[0m\u001b[1;33m\u001b[0m\u001b[1;33m\u001b[0m\u001b[0m\n",
      "\u001b[1;32m~\\Anaconda3\\envs\\Tensor\\lib\\site-packages\\matplotlib\\__init__.py\u001b[0m in \u001b[0;36m<module>\u001b[1;34m\u001b[0m\n\u001b[0;32m    136\u001b[0m \u001b[1;31m# cbook must import matplotlib only within function\u001b[0m\u001b[1;33m\u001b[0m\u001b[1;33m\u001b[0m\u001b[1;33m\u001b[0m\u001b[0m\n\u001b[0;32m    137\u001b[0m \u001b[1;31m# definitions, so it is safe to import from it here.\u001b[0m\u001b[1;33m\u001b[0m\u001b[1;33m\u001b[0m\u001b[1;33m\u001b[0m\u001b[0m\n\u001b[1;32m--> 138\u001b[1;33m \u001b[1;32mfrom\u001b[0m \u001b[1;33m.\u001b[0m \u001b[1;32mimport\u001b[0m \u001b[0mcbook\u001b[0m\u001b[1;33m,\u001b[0m \u001b[0mrcsetup\u001b[0m\u001b[1;33m\u001b[0m\u001b[1;33m\u001b[0m\u001b[0m\n\u001b[0m\u001b[0;32m    139\u001b[0m from matplotlib.cbook import (\n\u001b[0;32m    140\u001b[0m     MatplotlibDeprecationWarning, dedent, get_label, sanitize_sequence)\n",
      "\u001b[1;32m~\\Anaconda3\\envs\\Tensor\\lib\\site-packages\\matplotlib\\cbook\\__init__.py\u001b[0m in \u001b[0;36m<module>\u001b[1;34m\u001b[0m\n\u001b[0;32m     29\u001b[0m \u001b[1;32mfrom\u001b[0m \u001b[0mweakref\u001b[0m \u001b[1;32mimport\u001b[0m \u001b[0mWeakMethod\u001b[0m\u001b[1;33m\u001b[0m\u001b[1;33m\u001b[0m\u001b[0m\n\u001b[0;32m     30\u001b[0m \u001b[1;33m\u001b[0m\u001b[0m\n\u001b[1;32m---> 31\u001b[1;33m \u001b[1;32mimport\u001b[0m \u001b[0mnumpy\u001b[0m \u001b[1;32mas\u001b[0m \u001b[0mnp\u001b[0m\u001b[1;33m\u001b[0m\u001b[1;33m\u001b[0m\u001b[0m\n\u001b[0m\u001b[0;32m     32\u001b[0m \u001b[1;33m\u001b[0m\u001b[0m\n\u001b[0;32m     33\u001b[0m \u001b[1;32mimport\u001b[0m \u001b[0mmatplotlib\u001b[0m\u001b[1;33m\u001b[0m\u001b[1;33m\u001b[0m\u001b[0m\n",
      "\u001b[1;32m~\\Anaconda3\\envs\\Tensor\\lib\\site-packages\\numpy\\__init__.py\u001b[0m in \u001b[0;36m<module>\u001b[1;34m\u001b[0m\n\u001b[0;32m    140\u001b[0m     \u001b[1;32mfrom\u001b[0m \u001b[1;33m.\u001b[0m \u001b[1;32mimport\u001b[0m \u001b[0mcore\u001b[0m\u001b[1;33m\u001b[0m\u001b[1;33m\u001b[0m\u001b[0m\n\u001b[0;32m    141\u001b[0m     \u001b[1;32mfrom\u001b[0m \u001b[1;33m.\u001b[0m\u001b[0mcore\u001b[0m \u001b[1;32mimport\u001b[0m \u001b[1;33m*\u001b[0m\u001b[1;33m\u001b[0m\u001b[1;33m\u001b[0m\u001b[0m\n\u001b[1;32m--> 142\u001b[1;33m     \u001b[1;32mfrom\u001b[0m \u001b[1;33m.\u001b[0m \u001b[1;32mimport\u001b[0m \u001b[0mcompat\u001b[0m\u001b[1;33m\u001b[0m\u001b[1;33m\u001b[0m\u001b[0m\n\u001b[0m\u001b[0;32m    143\u001b[0m     \u001b[1;32mfrom\u001b[0m \u001b[1;33m.\u001b[0m \u001b[1;32mimport\u001b[0m \u001b[0mlib\u001b[0m\u001b[1;33m\u001b[0m\u001b[1;33m\u001b[0m\u001b[0m\n\u001b[0;32m    144\u001b[0m     \u001b[1;31m# NOTE: to be revisited following future namespace cleanup.\u001b[0m\u001b[1;33m\u001b[0m\u001b[1;33m\u001b[0m\u001b[1;33m\u001b[0m\u001b[0m\n",
      "\u001b[1;31mImportError\u001b[0m: cannot import name 'compat'"
     ]
    }
   ],
   "source": [
    "import pandas as pd\n",
    "import os\n",
    "from matplotlib import pyplot as plt\n",
    "import seaborn as sns\n",
    "import statsmodels.api as sm\n",
    "import statsmodels.tsa.stattools as ts"
   ]
  },
  {
   "cell_type": "code",
   "execution_count": null,
   "metadata": {},
   "outputs": [],
   "source": [
    "ROOT_DIR = os.getcwd() + \"\\\\Datasets\\\\\""
   ]
  },
  {
   "cell_type": "code",
   "execution_count": null,
   "metadata": {},
   "outputs": [],
   "source": [
    "ROOT_DIR"
   ]
  },
  {
   "cell_type": "code",
   "execution_count": null,
   "metadata": {},
   "outputs": [],
   "source": [
    "# Modifying Wiki Data: Filter to only include WIKI one month\n",
    "start_date = '2017-01-01'\n",
    "end_date = '2021-12-31'\n",
    "\n",
    "def _mask(dataset, start_date, end_date):\n",
    "    mask = (dataset.index >= start_date) & (dataset.index <= end_date)\n",
    "    return dataset.loc[mask]  "
   ]
  },
  {
   "cell_type": "code",
   "execution_count": null,
   "metadata": {},
   "outputs": [],
   "source": [
    "# BITCOIN PRICE INDEX\n",
    "os.chdir(ROOT_DIR+'./BPI/')\n",
    "\n",
    "BPI = pd.read_csv(\"./bpi.csv\",  index_col=\"Date\", parse_dates=True)\n",
    "BPI.rename(columns={'Closing Price (USD)': 'close',\n",
    "           '24h Open (USD)': 'open', '24h High (USD)': 'high', '24h Low (USD)': 'low'}, inplace=True)\n",
    "BPI.drop(['Currency'], axis=1, inplace=True)\n",
    "\n",
    "HASH = pd.read_csv(\"./hash-rate.csv\",  index_col=\"Timestamp\", parse_dates=True)\n",
    "MINE_DIFF = pd.read_csv(\"./difficulty.csv\",  index_col=\"Timestamp\", parse_dates=True)\n",
    "COST_PER_TRANS = pd.read_csv(\"./cost-per-transaction.csv\", index_col=\"Timestamp\", parse_dates=True)\n",
    "OUPUT = pd.read_csv(\"./output-volume.csv\", index_col=\"Timestamp\", parse_dates=True)\n",
    "EXTV = pd.read_csv(\"./estimated-transaction-volume-usd.csv\", index_col=\"Timestamp\", parse_dates=True)\n",
    "TRADE_VOL = pd.read_csv(\"./trade-volume.csv\", index_col=\"Timestamp\", parse_dates=True)\n",
    "NTRANS = pd.read_csv(\"./n-transactions.csv\", index_col=\"Timestamp\", parse_dates=True)\n",
    "\n",
    "BPI = _mask(BPI, start_date, end_date)\n",
    "HASH = _mask(HASH, start_date, end_date)\n",
    "EXTV = _mask(EXTV, start_date, end_date)\n",
    "NTRANS = _mask(NTRANS, start_date, end_date)\n",
    "MINE_DIFF = _mask(MINE_DIFF, start_date, end_date)\n",
    "COST_PER_TRANS = _mask(COST_PER_TRANS, start_date, end_date)\n",
    "OUPUT = _mask(OUPUT, start_date, end_date)\n",
    "TRADE_VOL = _mask(TRADE_VOL, start_date, end_date)"
   ]
  },
  {
   "cell_type": "code",
   "execution_count": null,
   "metadata": {},
   "outputs": [],
   "source": [
    "# plt.plot(BPI.index, BPI[\"close\"])\n",
    "\n",
    "# fig = plt.figure(figsize=(10,6))\n",
    "# n = 5\n",
    "# BPI['min'] = BPI.iloc[argrelextrema(BPI.close.values, np.less_equal,\n",
    "#                     order=n)[0]]['close']\n",
    "# BPI['max'] = BPI.iloc[argrelextrema(BPI.close.values, np.greater_equal,\n",
    "#                     order=n)[0]]['close']\n",
    "# # Plot results\n",
    "# plt.scatter(BPI.index, BPI['min'], c='r')\n",
    "# plt.scatter(BPI.index, BPI['max'], c='g')\n",
    "# plt.plot(BPI.index, BPI['close'])\n",
    "# plt.axvline(x=BPI[BPI.index < \"2017-12-24\"][\"close\"].nlargest(1).index)\n",
    "# plt.grid()\n",
    "# plt.show()"
   ]
  },
  {
   "cell_type": "code",
   "execution_count": null,
   "metadata": {},
   "outputs": [],
   "source": [
    "# MACRO\n",
    "os.chdir(ROOT_DIR)\n",
    "\n",
    "GP = pd.read_csv(\"./gold-price.csv\",  index_col=\"Date\", parse_dates=True)\n",
    "GP.dropna(axis=1, how=\"all\", inplace=True)\n",
    "GP.drop(['Open', 'High', 'Low', 'Change %', 'Vol.'], axis=1, inplace=True)\n",
    "GP.rename(columns={'Price': 'Gold price'}, inplace=True)\n",
    "# conver string to int\n",
    "for i in range(len(GP[\"Gold price\"])):\n",
    "    GP[\"Gold price\"][i] = \"\".join(GP[\"Gold price\"][i].split(\",\"))\n",
    "GP[\"Gold price\"] = pd.to_numeric(GP[\"Gold price\"])\n",
    "\n",
    "\n",
    "USD_CNY = pd.read_csv(\"./usd-cny.csv\",  index_col=\"Date\", parse_dates=True)\n",
    "USD_CNY.drop(['Open', 'High', 'Low', 'Change %'], axis=1, inplace=True)\n",
    "USD_CNY.rename(columns={'Price': 'USD-CNY Price'}, inplace=True)\n",
    "\n",
    "GP = _mask(GP, start_date, end_date)\n",
    "USD_CNY = _mask(USD_CNY, start_date, end_date)"
   ]
  },
  {
   "cell_type": "code",
   "execution_count": null,
   "metadata": {},
   "outputs": [],
   "source": [
    "# MEDIA AND INTERESTS\n",
    "SVI = pd.read_csv(\"./svi.csv\", index_col=\"Week\", parse_dates=True)\n",
    "# SVI.rename(columns={'Category: All categories':'SVI'}, inplace=True)\n",
    "\n",
    "WIKI = pd.read_csv(\"./wikishark.csv\", index_col=\"DateTime\", parse_dates=True)\n",
    "WIKI.rename(columns={'Bitcoin[en]':'Wikiviews'}, inplace=True)\n",
    "\n",
    "SVI = _mask(SVI, start_date, end_date)\n",
    "WIKI = _mask(WIKI, start_date, end_date)"
   ]
  },
  {
   "cell_type": "code",
   "execution_count": null,
   "metadata": {},
   "outputs": [],
   "source": [
    "df = pd.concat([BPI,EXTV, NTRANS, HASH, MINE_DIFF, COST_PER_TRANS,\n",
    "     GP, OUPUT, TRADE_VOL, USD_CNY, SVI, WIKI], axis=1)\n",
    "\n",
    "# 7th differencing, (daily to weekly freq)\n",
    "# df_resampled = df.resample('7D').mean().interpolate()\n",
    "df_resampled = df\n",
    "df_resampled.fillna(df_resampled.mean(), inplace=True)\n",
    "df_resampled.to_csv(\"../complete-merged-df.csv\")\n",
    "df_resampled.head()"
   ]
  },
  {
   "cell_type": "code",
   "execution_count": null,
   "metadata": {},
   "outputs": [],
   "source": [
    "print(\"Before sampling NaN values: \",len(df[df.isna().any(axis=1)]))\n",
    "print(\"After sampling NaN values: \",len(df_resampled[df_resampled.isna().any(axis=1)]))"
   ]
  },
  {
   "cell_type": "code",
   "execution_count": null,
   "metadata": {},
   "outputs": [],
   "source": [
    "df_resampled[df_resampled.isna().any(axis=1)]"
   ]
  },
  {
   "cell_type": "code",
   "execution_count": null,
   "metadata": {},
   "outputs": [],
   "source": [
    "df_resampled.info()\n",
    "df_resampled.describe()"
   ]
  },
  {
   "cell_type": "code",
   "execution_count": null,
   "metadata": {},
   "outputs": [],
   "source": [
    "df_resampled.columns"
   ]
  },
  {
   "cell_type": "code",
   "execution_count": null,
   "metadata": {},
   "outputs": [],
   "source": [
    "# Close price correlation matrix\n",
    "k = len(df_resampled.columns)  # number of variables for heatmap\n",
    "cols = df_resampled.corr().nlargest(k, 'close')['close'].index\n",
    "cm = df_resampled[cols].corr()\n",
    "cm.style.background_gradient(cmap='coolwarm').set_precision(2)"
   ]
  }
 ],
 "metadata": {
  "interpreter": {
   "hash": "fd826fe865dcc411e912db3b8b9b4ce519949da90518879d30f3fbad62980482"
  },
  "kernelspec": {
   "display_name": "Python 3",
   "language": "python",
   "name": "python3"
  },
  "language_info": {
   "codemirror_mode": {
    "name": "ipython",
    "version": 3
   },
   "file_extension": ".py",
   "mimetype": "text/x-python",
   "name": "python",
   "nbconvert_exporter": "python",
   "pygments_lexer": "ipython3",
   "version": "3.6.9"
  }
 },
 "nbformat": 4,
 "nbformat_minor": 2
}
