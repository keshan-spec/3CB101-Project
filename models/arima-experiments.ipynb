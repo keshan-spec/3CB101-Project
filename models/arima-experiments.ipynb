{
 "cells": [
  {
   "cell_type": "code",
   "execution_count": 1,
   "metadata": {},
   "outputs": [],
   "source": [
    "from statsmodels.tsa.statespace.sarimax import SARIMAX\n",
    "from statsmodels.tsa.arima.model import ARIMA\n",
    "\n",
    "from sklearn.model_selection import train_test_split\n",
    "from matplotlib import pyplot as plt\n",
    "import statsmodels.api as sm\n",
    "import seaborn as sns\n",
    "import pandas as pd\n",
    "import numpy as np\n",
    "import itertools\n",
    "import warnings\n",
    "\n",
    "warnings.filterwarnings('ignore')\n",
    "sns.set_style('whitegrid')"
   ]
  },
  {
   "cell_type": "markdown",
   "metadata": {},
   "source": [
    "Open and store the dataset as a pandas dataframe"
   ]
  },
  {
   "cell_type": "code",
   "execution_count": 2,
   "metadata": {},
   "outputs": [
    {
     "data": {
      "text/html": [
       "<div>\n",
       "<style scoped>\n",
       "    .dataframe tbody tr th:only-of-type {\n",
       "        vertical-align: middle;\n",
       "    }\n",
       "\n",
       "    .dataframe tbody tr th {\n",
       "        vertical-align: top;\n",
       "    }\n",
       "\n",
       "    .dataframe thead th {\n",
       "        text-align: right;\n",
       "    }\n",
       "</style>\n",
       "<table border=\"1\" class=\"dataframe\">\n",
       "  <thead>\n",
       "    <tr style=\"text-align: right;\">\n",
       "      <th></th>\n",
       "      <th>close</th>\n",
       "      <th>open</th>\n",
       "      <th>high</th>\n",
       "      <th>low</th>\n",
       "      <th>estimated-transaction-volume-usd</th>\n",
       "      <th>n-transactions</th>\n",
       "      <th>hash-rate</th>\n",
       "      <th>difficulty</th>\n",
       "      <th>cost-per-transaction</th>\n",
       "      <th>Gold price</th>\n",
       "      <th>output-volume</th>\n",
       "      <th>trade-volume</th>\n",
       "      <th>USD-CNY Price</th>\n",
       "      <th>SVI</th>\n",
       "      <th>Wikiviews</th>\n",
       "    </tr>\n",
       "  </thead>\n",
       "  <tbody>\n",
       "    <tr>\n",
       "      <th>2017-01-01</th>\n",
       "      <td>998.079443</td>\n",
       "      <td>966.567909</td>\n",
       "      <td>1005.074602</td>\n",
       "      <td>961.719392</td>\n",
       "      <td>1.667890e+08</td>\n",
       "      <td>180502.0</td>\n",
       "      <td>2.463611e+06</td>\n",
       "      <td>3.176884e+11</td>\n",
       "      <td>10.914479</td>\n",
       "      <td>1377.316553</td>\n",
       "      <td>1.084341e+06</td>\n",
       "      <td>3.989748e+06</td>\n",
       "      <td>6.72991</td>\n",
       "      <td>7.000000</td>\n",
       "      <td>3139</td>\n",
       "    </tr>\n",
       "    <tr>\n",
       "      <th>2017-01-02</th>\n",
       "      <td>1018.369458</td>\n",
       "      <td>998.079638</td>\n",
       "      <td>1033.051602</td>\n",
       "      <td>994.997792</td>\n",
       "      <td>2.799811e+08</td>\n",
       "      <td>290951.0</td>\n",
       "      <td>2.526780e+06</td>\n",
       "      <td>3.176884e+11</td>\n",
       "      <td>7.350606</td>\n",
       "      <td>1294.600000</td>\n",
       "      <td>1.573982e+06</td>\n",
       "      <td>6.822471e+06</td>\n",
       "      <td>6.94500</td>\n",
       "      <td>18.574713</td>\n",
       "      <td>9165</td>\n",
       "    </tr>\n",
       "    <tr>\n",
       "      <th>2017-01-03</th>\n",
       "      <td>1036.750461</td>\n",
       "      <td>1018.367417</td>\n",
       "      <td>1037.211425</td>\n",
       "      <td>1014.576142</td>\n",
       "      <td>3.417543e+08</td>\n",
       "      <td>301664.0</td>\n",
       "      <td>2.589950e+06</td>\n",
       "      <td>3.176884e+11</td>\n",
       "      <td>7.415466</td>\n",
       "      <td>1295.600000</td>\n",
       "      <td>1.950525e+06</td>\n",
       "      <td>8.324526e+06</td>\n",
       "      <td>6.96100</td>\n",
       "      <td>18.574713</td>\n",
       "      <td>12354</td>\n",
       "    </tr>\n",
       "    <tr>\n",
       "      <th>2017-01-04</th>\n",
       "      <td>1137.239897</td>\n",
       "      <td>1036.750186</td>\n",
       "      <td>1146.956329</td>\n",
       "      <td>1036.327096</td>\n",
       "      <td>4.336781e+08</td>\n",
       "      <td>328642.0</td>\n",
       "      <td>2.432026e+06</td>\n",
       "      <td>3.176884e+11</td>\n",
       "      <td>7.000531</td>\n",
       "      <td>1287.300000</td>\n",
       "      <td>2.482038e+06</td>\n",
       "      <td>9.340584e+06</td>\n",
       "      <td>6.93510</td>\n",
       "      <td>18.574713</td>\n",
       "      <td>10757</td>\n",
       "    </tr>\n",
       "    <tr>\n",
       "      <th>2017-01-05</th>\n",
       "      <td>1002.860000</td>\n",
       "      <td>1137.239606</td>\n",
       "      <td>1165.785631</td>\n",
       "      <td>883.480930</td>\n",
       "      <td>5.657800e+08</td>\n",
       "      <td>288501.0</td>\n",
       "      <td>2.210933e+06</td>\n",
       "      <td>3.176884e+11</td>\n",
       "      <td>6.913398</td>\n",
       "      <td>1287.400000</td>\n",
       "      <td>2.998215e+06</td>\n",
       "      <td>2.387011e+07</td>\n",
       "      <td>6.89000</td>\n",
       "      <td>18.574713</td>\n",
       "      <td>11938</td>\n",
       "    </tr>\n",
       "  </tbody>\n",
       "</table>\n",
       "</div>"
      ],
      "text/plain": [
       "                  close         open         high          low  \\\n",
       "2017-01-01   998.079443   966.567909  1005.074602   961.719392   \n",
       "2017-01-02  1018.369458   998.079638  1033.051602   994.997792   \n",
       "2017-01-03  1036.750461  1018.367417  1037.211425  1014.576142   \n",
       "2017-01-04  1137.239897  1036.750186  1146.956329  1036.327096   \n",
       "2017-01-05  1002.860000  1137.239606  1165.785631   883.480930   \n",
       "\n",
       "            estimated-transaction-volume-usd  n-transactions     hash-rate  \\\n",
       "2017-01-01                      1.667890e+08        180502.0  2.463611e+06   \n",
       "2017-01-02                      2.799811e+08        290951.0  2.526780e+06   \n",
       "2017-01-03                      3.417543e+08        301664.0  2.589950e+06   \n",
       "2017-01-04                      4.336781e+08        328642.0  2.432026e+06   \n",
       "2017-01-05                      5.657800e+08        288501.0  2.210933e+06   \n",
       "\n",
       "              difficulty  cost-per-transaction   Gold price  output-volume  \\\n",
       "2017-01-01  3.176884e+11             10.914479  1377.316553   1.084341e+06   \n",
       "2017-01-02  3.176884e+11              7.350606  1294.600000   1.573982e+06   \n",
       "2017-01-03  3.176884e+11              7.415466  1295.600000   1.950525e+06   \n",
       "2017-01-04  3.176884e+11              7.000531  1287.300000   2.482038e+06   \n",
       "2017-01-05  3.176884e+11              6.913398  1287.400000   2.998215e+06   \n",
       "\n",
       "            trade-volume  USD-CNY Price        SVI  Wikiviews  \n",
       "2017-01-01  3.989748e+06        6.72991   7.000000       3139  \n",
       "2017-01-02  6.822471e+06        6.94500  18.574713       9165  \n",
       "2017-01-03  8.324526e+06        6.96100  18.574713      12354  \n",
       "2017-01-04  9.340584e+06        6.93510  18.574713      10757  \n",
       "2017-01-05  2.387011e+07        6.89000  18.574713      11938  "
      ]
     },
     "execution_count": 2,
     "metadata": {},
     "output_type": "execute_result"
    }
   ],
   "source": [
    "# get data\n",
    "df = pd.read_csv(\"../data/complete-merged-df.csv\", index_col=0, parse_dates=True)\n",
    "df.head()"
   ]
  },
  {
   "cell_type": "code",
   "execution_count": 3,
   "metadata": {},
   "outputs": [
    {
     "name": "stdout",
     "output_type": "stream",
     "text": [
      "<class 'pandas.core.frame.DataFrame'>\n",
      "DatetimeIndex: 1826 entries, 2017-01-01 to 2021-12-31\n",
      "Data columns (total 15 columns):\n",
      " #   Column                            Non-Null Count  Dtype  \n",
      "---  ------                            --------------  -----  \n",
      " 0   close                             1826 non-null   float64\n",
      " 1   open                              1826 non-null   float64\n",
      " 2   high                              1826 non-null   float64\n",
      " 3   low                               1826 non-null   float64\n",
      " 4   estimated-transaction-volume-usd  1826 non-null   float64\n",
      " 5   n-transactions                    1826 non-null   float64\n",
      " 6   hash-rate                         1826 non-null   float64\n",
      " 7   difficulty                        1826 non-null   float64\n",
      " 8   cost-per-transaction              1826 non-null   float64\n",
      " 9   Gold price                        1826 non-null   float64\n",
      " 10  output-volume                     1826 non-null   float64\n",
      " 11  trade-volume                      1826 non-null   float64\n",
      " 12  USD-CNY Price                     1826 non-null   float64\n",
      " 13  SVI                               1826 non-null   float64\n",
      " 14  Wikiviews                         1826 non-null   int64  \n",
      "dtypes: float64(14), int64(1)\n",
      "memory usage: 228.2 KB\n"
     ]
    }
   ],
   "source": [
    "df.info()"
   ]
  },
  {
   "cell_type": "markdown",
   "metadata": {},
   "source": [
    "## Helper methods"
   ]
  },
  {
   "cell_type": "code",
   "execution_count": 4,
   "metadata": {},
   "outputs": [],
   "source": [
    "# Accuracy metrics\n",
    "import yfinance as yf\n",
    "from datetime import date\n",
    "\n",
    "def forecast_accuracy(forecast, actual):\n",
    "    # code from : https://www.machinelearningplus.com/time-series/arima-model-time-series-forecasting-python/\n",
    "\n",
    "    mape = np.mean(np.abs(forecast - actual)/np.abs(actual))  # MAPE\n",
    "    me = np.mean(forecast - actual)             # ME\n",
    "    mae = np.mean(np.abs(forecast - actual))    # MAE\n",
    "    mpe = np.mean((forecast - actual)/actual)   # MPE\n",
    "    rmse = np.mean((forecast - actual)**2)**.5  # RMSE\n",
    "    corr = np.corrcoef(forecast, actual)[0, 1]   # corr\n",
    "    mins = np.amin(np.hstack([forecast[:, None],\n",
    "                              actual[:, None]]), axis=1)\n",
    "    maxs = np.amax(np.hstack([forecast[:, None],\n",
    "                              actual[:, None]]), axis=1)\n",
    "    minmax = 1 - np.mean(mins/maxs)             # minmax\n",
    "\n",
    "    return({'mape': str(round(mape*100, 3))+\"%\", 'me': me, 'mae': mae,\n",
    "            'mpe': mpe, 'rmse': rmse,\n",
    "            'corr': corr, 'minmax': minmax})\n",
    "\n",
    "\n",
    "# get new data from yahoo finance\n",
    "def get_new_data(ticker, start_date, end_date=date.today()):\n",
    "    data = yf.download(ticker, start=start_date, end=end_date, progress=False)\n",
    "    return data\n",
    "\n",
    "\n",
    "def plot_future(past, predicted, actual):\n",
    "    plt.figure(figsize=(12, 8))\n",
    "    plt.plot(predicted, label='Predicted Stock Price')\n",
    "    plt.plot(actual, color='g', label='Actual Future Stock Price')\n",
    "    plt.plot(past, color='r', label='Actual Stock Price')\n",
    "\n",
    "    plt.axvline(x=max(past.index),\n",
    "                color='green', linewidth=2, linestyle='--')\n",
    "    plt.xticks(rotation=45, fontsize=8)\n",
    "    plt.legend(shadow=True, loc='upper right')\n"
   ]
  },
  {
   "cell_type": "markdown",
   "metadata": {},
   "source": [
    "## Prepare the data:\n",
    "\n",
    "- Split the data into train and test samples\n",
    "- Create `endog` and `exog` variables\n"
   ]
  },
  {
   "cell_type": "code",
   "execution_count": 5,
   "metadata": {},
   "outputs": [],
   "source": [
    "# split data into train and test\n",
    "top_predictors = ['close','open', 'high', 'low', 'n-transactions', 'cost-per-transaction',\n",
    "                  'Gold price', 'output-volume',  'USD-CNY Price', 'SVI', 'Wikiviews']\n",
    "df = df[top_predictors]\n",
    "\n",
    "train, test = train_test_split(df, test_size=0.2, shuffle=False)\n",
    "# len(train), len(test)\n",
    "\n",
    "# Variables\n",
    "exog_data = train.drop(['close'], axis=1)\n",
    "\n",
    "exog = sm.add_constant(exog_data)\n",
    "endog = train[['close']]\n",
    "\n",
    "# # try shifting by 1 to see if it helps\n",
    "# # NOTE: this is not working\n",
    "# endog = train[['close']].shift(-1) \n",
    "# endog.fillna(endog.iloc[-2].values[0], inplace=True)\n"
   ]
  },
  {
   "cell_type": "markdown",
   "metadata": {},
   "source": [
    "## Find the best order for the ARIMA model"
   ]
  },
  {
   "cell_type": "code",
   "execution_count": null,
   "metadata": {},
   "outputs": [],
   "source": [
    "# Initial approximation of parameters\n",
    "Qs = range(0, 2)\n",
    "qs = range(0, 2)\n",
    "Ps = range(0, 2)\n",
    "ps = range(0, 2)\n",
    "D = 1\n",
    "d = 1\n",
    "parameters = itertools.product(ps, qs, Ps, Qs)\n",
    "parameters_list = list(parameters)\n",
    "len(parameters_list)\n",
    "\n",
    "# Model Selection\n",
    "results = []\n",
    "best_aic = float(\"inf\")\n",
    "warnings.filterwarnings('ignore')\n",
    "for param in parameters_list:\n",
    "    try:\n",
    "        model =ARIMA(endog, exog=exog, order=(param[0], d, param[1])).fit()\n",
    "        # model = SARIMAX(endog, exog=exog, order=(param[0], d, param[1]), seasonal_order=(param[2], D, param[3], 4)).fit(disp=-1)\n",
    "    except ValueError:\n",
    "        print('bad parameter combination:', param)\n",
    "        continue\n",
    "    aic = model.aic\n",
    "    if aic < best_aic:\n",
    "        best_model = model\n",
    "        best_aic = aic\n",
    "        best_param = param\n",
    "    results.append([param, model.aic])\n"
   ]
  },
  {
   "cell_type": "code",
   "execution_count": 33,
   "metadata": {},
   "outputs": [
    {
     "data": {
      "text/html": [
       "<div>\n",
       "<style scoped>\n",
       "    .dataframe tbody tr th:only-of-type {\n",
       "        vertical-align: middle;\n",
       "    }\n",
       "\n",
       "    .dataframe tbody tr th {\n",
       "        vertical-align: top;\n",
       "    }\n",
       "\n",
       "    .dataframe thead th {\n",
       "        text-align: right;\n",
       "    }\n",
       "</style>\n",
       "<table border=\"1\" class=\"dataframe\">\n",
       "  <thead>\n",
       "    <tr style=\"text-align: right;\">\n",
       "      <th></th>\n",
       "      <th>parameters</th>\n",
       "      <th>aic</th>\n",
       "    </tr>\n",
       "  </thead>\n",
       "  <tbody>\n",
       "    <tr>\n",
       "      <th>4</th>\n",
       "      <td>(0, 1, 0, 0)</td>\n",
       "      <td>18879.268961</td>\n",
       "    </tr>\n",
       "    <tr>\n",
       "      <th>5</th>\n",
       "      <td>(0, 1, 0, 1)</td>\n",
       "      <td>18879.268961</td>\n",
       "    </tr>\n",
       "    <tr>\n",
       "      <th>6</th>\n",
       "      <td>(0, 1, 1, 0)</td>\n",
       "      <td>18879.268961</td>\n",
       "    </tr>\n",
       "    <tr>\n",
       "      <th>7</th>\n",
       "      <td>(0, 1, 1, 1)</td>\n",
       "      <td>18879.268961</td>\n",
       "    </tr>\n",
       "    <tr>\n",
       "      <th>12</th>\n",
       "      <td>(1, 1, 0, 0)</td>\n",
       "      <td>18880.564634</td>\n",
       "    </tr>\n",
       "    <tr>\n",
       "      <th>13</th>\n",
       "      <td>(1, 1, 0, 1)</td>\n",
       "      <td>18880.564634</td>\n",
       "    </tr>\n",
       "    <tr>\n",
       "      <th>14</th>\n",
       "      <td>(1, 1, 1, 0)</td>\n",
       "      <td>18880.564634</td>\n",
       "    </tr>\n",
       "    <tr>\n",
       "      <th>15</th>\n",
       "      <td>(1, 1, 1, 1)</td>\n",
       "      <td>18880.564634</td>\n",
       "    </tr>\n",
       "    <tr>\n",
       "      <th>8</th>\n",
       "      <td>(1, 0, 0, 0)</td>\n",
       "      <td>19331.499053</td>\n",
       "    </tr>\n",
       "    <tr>\n",
       "      <th>9</th>\n",
       "      <td>(1, 0, 0, 1)</td>\n",
       "      <td>19331.499053</td>\n",
       "    </tr>\n",
       "    <tr>\n",
       "      <th>10</th>\n",
       "      <td>(1, 0, 1, 0)</td>\n",
       "      <td>19331.499053</td>\n",
       "    </tr>\n",
       "    <tr>\n",
       "      <th>11</th>\n",
       "      <td>(1, 0, 1, 1)</td>\n",
       "      <td>19331.499053</td>\n",
       "    </tr>\n",
       "    <tr>\n",
       "      <th>0</th>\n",
       "      <td>(0, 0, 0, 0)</td>\n",
       "      <td>29027.153330</td>\n",
       "    </tr>\n",
       "    <tr>\n",
       "      <th>1</th>\n",
       "      <td>(0, 0, 0, 1)</td>\n",
       "      <td>29027.153330</td>\n",
       "    </tr>\n",
       "    <tr>\n",
       "      <th>2</th>\n",
       "      <td>(0, 0, 1, 0)</td>\n",
       "      <td>29027.153330</td>\n",
       "    </tr>\n",
       "    <tr>\n",
       "      <th>3</th>\n",
       "      <td>(0, 0, 1, 1)</td>\n",
       "      <td>29027.153330</td>\n",
       "    </tr>\n",
       "  </tbody>\n",
       "</table>\n",
       "</div>"
      ],
      "text/plain": [
       "      parameters           aic\n",
       "4   (0, 1, 0, 0)  18879.268961\n",
       "5   (0, 1, 0, 1)  18879.268961\n",
       "6   (0, 1, 1, 0)  18879.268961\n",
       "7   (0, 1, 1, 1)  18879.268961\n",
       "12  (1, 1, 0, 0)  18880.564634\n",
       "13  (1, 1, 0, 1)  18880.564634\n",
       "14  (1, 1, 1, 0)  18880.564634\n",
       "15  (1, 1, 1, 1)  18880.564634\n",
       "8   (1, 0, 0, 0)  19331.499053\n",
       "9   (1, 0, 0, 1)  19331.499053\n",
       "10  (1, 0, 1, 0)  19331.499053\n",
       "11  (1, 0, 1, 1)  19331.499053\n",
       "0   (0, 0, 0, 0)  29027.153330\n",
       "1   (0, 0, 0, 1)  29027.153330\n",
       "2   (0, 0, 1, 0)  29027.153330\n",
       "3   (0, 0, 1, 1)  29027.153330"
      ]
     },
     "execution_count": 33,
     "metadata": {},
     "output_type": "execute_result"
    }
   ],
   "source": [
    "# Best Models\n",
    "result_table = pd.DataFrame(results)\n",
    "result_table.columns = ['parameters', 'aic']\n",
    "result_table.sort_values(by='aic', ascending=True)\n",
    "# print(best_model.summary())\n"
   ]
  },
  {
   "cell_type": "markdown",
   "metadata": {},
   "source": [
    "## Build Model"
   ]
  },
  {
   "cell_type": "code",
   "execution_count": 6,
   "metadata": {},
   "outputs": [
    {
     "data": {
      "text/html": [
       "<table class=\"simpletable\">\n",
       "<caption>SARIMAX Results</caption>\n",
       "<tr>\n",
       "  <th>Dep. Variable:</th>         <td>close</td>      <th>  No. Observations:  </th>   <td>1460</td>   \n",
       "</tr>\n",
       "<tr>\n",
       "  <th>Model:</th>            <td>ARIMA(1, 1, 2)</td>  <th>  Log Likelihood     </th> <td>-9421.055</td>\n",
       "</tr>\n",
       "<tr>\n",
       "  <th>Date:</th>            <td>Wed, 18 May 2022</td> <th>  AIC                </th> <td>18872.110</td>\n",
       "</tr>\n",
       "<tr>\n",
       "  <th>Time:</th>                <td>15:33:21</td>     <th>  BIC                </th> <td>18951.392</td>\n",
       "</tr>\n",
       "<tr>\n",
       "  <th>Sample:</th>             <td>01-01-2017</td>    <th>  HQIC               </th> <td>18901.686</td>\n",
       "</tr>\n",
       "<tr>\n",
       "  <th></th>                   <td>- 12-30-2020</td>   <th>                     </th>     <td> </td>    \n",
       "</tr>\n",
       "<tr>\n",
       "  <th>Covariance Type:</th>        <td>opg</td>       <th>                     </th>     <td> </td>    \n",
       "</tr>\n",
       "</table>\n",
       "<table class=\"simpletable\">\n",
       "<tr>\n",
       "            <td></td>              <th>coef</th>     <th>std err</th>      <th>z</th>      <th>P>|z|</th>  <th>[0.025</th>    <th>0.975]</th>  \n",
       "</tr>\n",
       "<tr>\n",
       "  <th>const</th>                <td>-8.861e-17</td> <td> 9.34e-05</td> <td>-9.49e-13</td> <td> 1.000</td> <td>   -0.000</td> <td>    0.000</td>\n",
       "</tr>\n",
       "<tr>\n",
       "  <th>open</th>                 <td>   -0.4896</td> <td>    0.008</td> <td>  -64.209</td> <td> 0.000</td> <td>   -0.505</td> <td>   -0.475</td>\n",
       "</tr>\n",
       "<tr>\n",
       "  <th>high</th>                 <td>    0.8234</td> <td>    0.008</td> <td>   99.870</td> <td> 0.000</td> <td>    0.807</td> <td>    0.840</td>\n",
       "</tr>\n",
       "<tr>\n",
       "  <th>low</th>                  <td>    0.6300</td> <td>    0.004</td> <td>  149.244</td> <td> 0.000</td> <td>    0.622</td> <td>    0.638</td>\n",
       "</tr>\n",
       "<tr>\n",
       "  <th>n-transactions</th>       <td>    0.0002</td> <td>    0.000</td> <td>    1.539</td> <td> 0.124</td> <td>-5.94e-05</td> <td>    0.000</td>\n",
       "</tr>\n",
       "<tr>\n",
       "  <th>cost-per-transaction</th> <td>   -1.4227</td> <td>    0.481</td> <td>   -2.959</td> <td> 0.003</td> <td>   -2.365</td> <td>   -0.480</td>\n",
       "</tr>\n",
       "<tr>\n",
       "  <th>Gold price</th>           <td>   -0.0264</td> <td>    0.045</td> <td>   -0.586</td> <td> 0.558</td> <td>   -0.115</td> <td>    0.062</td>\n",
       "</tr>\n",
       "<tr>\n",
       "  <th>output-volume</th>        <td> -1.22e-06</td> <td> 6.77e-06</td> <td>   -0.180</td> <td> 0.857</td> <td>-1.45e-05</td> <td> 1.21e-05</td>\n",
       "</tr>\n",
       "<tr>\n",
       "  <th>USD-CNY Price</th>        <td>  -52.4125</td> <td>   39.150</td> <td>   -1.339</td> <td> 0.181</td> <td> -129.146</td> <td>   24.321</td>\n",
       "</tr>\n",
       "<tr>\n",
       "  <th>SVI</th>                  <td>   -1.0452</td> <td>    0.516</td> <td>   -2.027</td> <td> 0.043</td> <td>   -2.056</td> <td>   -0.035</td>\n",
       "</tr>\n",
       "<tr>\n",
       "  <th>Wikiviews</th>            <td>    0.0002</td> <td>    0.000</td> <td>    0.816</td> <td> 0.414</td> <td>   -0.000</td> <td>    0.001</td>\n",
       "</tr>\n",
       "<tr>\n",
       "  <th>ar.L1</th>                <td>   -0.9041</td> <td>    0.038</td> <td>  -23.863</td> <td> 0.000</td> <td>   -0.978</td> <td>   -0.830</td>\n",
       "</tr>\n",
       "<tr>\n",
       "  <th>ma.L1</th>                <td>   -0.0382</td> <td>    0.042</td> <td>   -0.905</td> <td> 0.365</td> <td>   -0.121</td> <td>    0.045</td>\n",
       "</tr>\n",
       "<tr>\n",
       "  <th>ma.L2</th>                <td>   -0.7632</td> <td>    0.043</td> <td>  -17.899</td> <td> 0.000</td> <td>   -0.847</td> <td>   -0.680</td>\n",
       "</tr>\n",
       "<tr>\n",
       "  <th>sigma2</th>               <td> 2.442e+04</td> <td>    0.569</td> <td> 4.29e+04</td> <td> 0.000</td> <td> 2.44e+04</td> <td> 2.44e+04</td>\n",
       "</tr>\n",
       "</table>\n",
       "<table class=\"simpletable\">\n",
       "<tr>\n",
       "  <th>Ljung-Box (L1) (Q):</th>     <td>2.68</td> <th>  Jarque-Bera (JB):  </th> <td>12850.28</td>\n",
       "</tr>\n",
       "<tr>\n",
       "  <th>Prob(Q):</th>                <td>0.10</td> <th>  Prob(JB):          </th>   <td>0.00</td>  \n",
       "</tr>\n",
       "<tr>\n",
       "  <th>Heteroskedasticity (H):</th> <td>0.68</td> <th>  Skew:              </th>   <td>0.27</td>  \n",
       "</tr>\n",
       "<tr>\n",
       "  <th>Prob(H) (two-sided):</th>    <td>0.00</td> <th>  Kurtosis:          </th>   <td>17.53</td> \n",
       "</tr>\n",
       "</table><br/><br/>Warnings:<br/>[1] Covariance matrix calculated using the outer product of gradients (complex-step).<br/>[2] Covariance matrix is singular or near-singular, with condition number 4.55e+22. Standard errors may be unstable."
      ],
      "text/plain": [
       "<class 'statsmodels.iolib.summary.Summary'>\n",
       "\"\"\"\n",
       "                               SARIMAX Results                                \n",
       "==============================================================================\n",
       "Dep. Variable:                  close   No. Observations:                 1460\n",
       "Model:                 ARIMA(1, 1, 2)   Log Likelihood               -9421.055\n",
       "Date:                Wed, 18 May 2022   AIC                          18872.110\n",
       "Time:                        15:33:21   BIC                          18951.392\n",
       "Sample:                    01-01-2017   HQIC                         18901.686\n",
       "                         - 12-30-2020                                         \n",
       "Covariance Type:                  opg                                         \n",
       "========================================================================================\n",
       "                           coef    std err          z      P>|z|      [0.025      0.975]\n",
       "----------------------------------------------------------------------------------------\n",
       "const                -8.861e-17   9.34e-05  -9.49e-13      1.000      -0.000       0.000\n",
       "open                    -0.4896      0.008    -64.209      0.000      -0.505      -0.475\n",
       "high                     0.8234      0.008     99.870      0.000       0.807       0.840\n",
       "low                      0.6300      0.004    149.244      0.000       0.622       0.638\n",
       "n-transactions           0.0002      0.000      1.539      0.124   -5.94e-05       0.000\n",
       "cost-per-transaction    -1.4227      0.481     -2.959      0.003      -2.365      -0.480\n",
       "Gold price              -0.0264      0.045     -0.586      0.558      -0.115       0.062\n",
       "output-volume         -1.22e-06   6.77e-06     -0.180      0.857   -1.45e-05    1.21e-05\n",
       "USD-CNY Price          -52.4125     39.150     -1.339      0.181    -129.146      24.321\n",
       "SVI                     -1.0452      0.516     -2.027      0.043      -2.056      -0.035\n",
       "Wikiviews                0.0002      0.000      0.816      0.414      -0.000       0.001\n",
       "ar.L1                   -0.9041      0.038    -23.863      0.000      -0.978      -0.830\n",
       "ma.L1                   -0.0382      0.042     -0.905      0.365      -0.121       0.045\n",
       "ma.L2                   -0.7632      0.043    -17.899      0.000      -0.847      -0.680\n",
       "sigma2                2.442e+04      0.569   4.29e+04      0.000    2.44e+04    2.44e+04\n",
       "===================================================================================\n",
       "Ljung-Box (L1) (Q):                   2.68   Jarque-Bera (JB):             12850.28\n",
       "Prob(Q):                              0.10   Prob(JB):                         0.00\n",
       "Heteroskedasticity (H):               0.68   Skew:                             0.27\n",
       "Prob(H) (two-sided):                  0.00   Kurtosis:                        17.53\n",
       "===================================================================================\n",
       "\n",
       "Warnings:\n",
       "[1] Covariance matrix calculated using the outer product of gradients (complex-step).\n",
       "[2] Covariance matrix is singular or near-singular, with condition number 4.55e+22. Standard errors may be unstable.\n",
       "\"\"\""
      ]
     },
     "execution_count": 6,
     "metadata": {},
     "output_type": "execute_result"
    }
   ],
   "source": [
    "# arima model\n",
    "ar_model = ARIMA(endog, exog=exog, order=(1, 1, 2)).fit()\n",
    "ar_model.summary()"
   ]
  },
  {
   "cell_type": "code",
   "execution_count": 35,
   "metadata": {},
   "outputs": [
    {
     "data": {
      "text/html": [
       "<table class=\"simpletable\">\n",
       "<caption>SARIMAX Results</caption>\n",
       "<tr>\n",
       "  <th>Dep. Variable:</th>                <td>close</td>              <th>  No. Observations:  </th>   <td>1460</td>   \n",
       "</tr>\n",
       "<tr>\n",
       "  <th>Model:</th>           <td>SARIMAX(1, 1, 2)x(0, 1, [1], 4)</td> <th>  Log Likelihood     </th> <td>-9619.079</td>\n",
       "</tr>\n",
       "<tr>\n",
       "  <th>Date:</th>                   <td>Sun, 01 May 2022</td>         <th>  AIC                </th> <td>19270.158</td>\n",
       "</tr>\n",
       "<tr>\n",
       "  <th>Time:</th>                       <td>21:36:14</td>             <th>  BIC                </th> <td>19354.682</td>\n",
       "</tr>\n",
       "<tr>\n",
       "  <th>Sample:</th>                    <td>01-01-2017</td>            <th>  HQIC               </th> <td>19301.694</td>\n",
       "</tr>\n",
       "<tr>\n",
       "  <th></th>                          <td>- 12-30-2020</td>           <th>                     </th>     <td> </td>    \n",
       "</tr>\n",
       "<tr>\n",
       "  <th>Covariance Type:</th>               <td>opg</td>               <th>                     </th>     <td> </td>    \n",
       "</tr>\n",
       "</table>\n",
       "<table class=\"simpletable\">\n",
       "<tr>\n",
       "            <td></td>              <th>coef</th>     <th>std err</th>      <th>z</th>      <th>P>|z|</th>  <th>[0.025</th>    <th>0.975]</th>  \n",
       "</tr>\n",
       "<tr>\n",
       "  <th>const</th>                <td>         0</td> <td>    0.002</td> <td>        0</td> <td> 1.000</td> <td>   -0.004</td> <td>    0.004</td>\n",
       "</tr>\n",
       "<tr>\n",
       "  <th>open</th>                 <td>   -0.5134</td> <td>    0.013</td> <td>  -38.688</td> <td> 0.000</td> <td>   -0.539</td> <td>   -0.487</td>\n",
       "</tr>\n",
       "<tr>\n",
       "  <th>high</th>                 <td>    0.8756</td> <td>    0.014</td> <td>   62.765</td> <td> 0.000</td> <td>    0.848</td> <td>    0.903</td>\n",
       "</tr>\n",
       "<tr>\n",
       "  <th>low</th>                  <td>    0.6056</td> <td>    0.008</td> <td>   72.430</td> <td> 0.000</td> <td>    0.589</td> <td>    0.622</td>\n",
       "</tr>\n",
       "<tr>\n",
       "  <th>n-transactions</th>       <td>-1.276e-05</td> <td>    0.000</td> <td>   -0.052</td> <td> 0.959</td> <td>   -0.000</td> <td>    0.000</td>\n",
       "</tr>\n",
       "<tr>\n",
       "  <th>cost-per-transaction</th> <td>   -1.5185</td> <td>    0.742</td> <td>   -2.047</td> <td> 0.041</td> <td>   -2.973</td> <td>   -0.065</td>\n",
       "</tr>\n",
       "<tr>\n",
       "  <th>Gold price</th>           <td>   -0.0422</td> <td>    0.069</td> <td>   -0.610</td> <td> 0.542</td> <td>   -0.178</td> <td>    0.093</td>\n",
       "</tr>\n",
       "<tr>\n",
       "  <th>output-volume</th>        <td>-5.013e-06</td> <td>    1e-05</td> <td>   -0.501</td> <td> 0.617</td> <td>-2.46e-05</td> <td> 1.46e-05</td>\n",
       "</tr>\n",
       "<tr>\n",
       "  <th>USD-CNY Price</th>        <td>  -55.9615</td> <td>   57.558</td> <td>   -0.972</td> <td> 0.331</td> <td> -168.773</td> <td>   56.850</td>\n",
       "</tr>\n",
       "<tr>\n",
       "  <th>SVI</th>                  <td>    1.2017</td> <td>    0.725</td> <td>    1.658</td> <td> 0.097</td> <td>   -0.219</td> <td>    2.622</td>\n",
       "</tr>\n",
       "<tr>\n",
       "  <th>Wikiviews</th>            <td>   -0.0008</td> <td>    0.001</td> <td>   -1.254</td> <td> 0.210</td> <td>   -0.002</td> <td>    0.000</td>\n",
       "</tr>\n",
       "<tr>\n",
       "  <th>ar.L1</th>                <td>   -0.6686</td> <td>    5.582</td> <td>   -0.120</td> <td> 0.905</td> <td>  -11.610</td> <td>   10.273</td>\n",
       "</tr>\n",
       "<tr>\n",
       "  <th>ma.L1</th>                <td>   -0.1528</td> <td>    5.592</td> <td>   -0.027</td> <td> 0.978</td> <td>  -11.114</td> <td>   10.808</td>\n",
       "</tr>\n",
       "<tr>\n",
       "  <th>ma.L2</th>                <td>   -0.5464</td> <td>    4.586</td> <td>   -0.119</td> <td> 0.905</td> <td>   -9.534</td> <td>    8.442</td>\n",
       "</tr>\n",
       "<tr>\n",
       "  <th>ma.S.L4</th>              <td>   -0.6382</td> <td>    0.027</td> <td>  -23.761</td> <td> 0.000</td> <td>   -0.691</td> <td>   -0.586</td>\n",
       "</tr>\n",
       "<tr>\n",
       "  <th>sigma2</th>               <td> 4.691e+04</td> <td>    0.324</td> <td> 1.45e+05</td> <td> 0.000</td> <td> 4.69e+04</td> <td> 4.69e+04</td>\n",
       "</tr>\n",
       "</table>\n",
       "<table class=\"simpletable\">\n",
       "<tr>\n",
       "  <th>Ljung-Box (L1) (Q):</th>     <td>26.58</td> <th>  Jarque-Bera (JB):  </th> <td>8993.24</td>\n",
       "</tr>\n",
       "<tr>\n",
       "  <th>Prob(Q):</th>                <td>0.00</td>  <th>  Prob(JB):          </th>  <td>0.00</td>  \n",
       "</tr>\n",
       "<tr>\n",
       "  <th>Heteroskedasticity (H):</th> <td>0.70</td>  <th>  Skew:              </th>  <td>-0.31</td> \n",
       "</tr>\n",
       "<tr>\n",
       "  <th>Prob(H) (two-sided):</th>    <td>0.00</td>  <th>  Kurtosis:          </th>  <td>15.16</td> \n",
       "</tr>\n",
       "</table><br/><br/>Warnings:<br/>[1] Covariance matrix calculated using the outer product of gradients (complex-step).<br/>[2] Covariance matrix is singular or near-singular, with condition number 1.93e+23. Standard errors may be unstable."
      ],
      "text/plain": [
       "<class 'statsmodels.iolib.summary.Summary'>\n",
       "\"\"\"\n",
       "                                      SARIMAX Results                                      \n",
       "===========================================================================================\n",
       "Dep. Variable:                               close   No. Observations:                 1460\n",
       "Model:             SARIMAX(1, 1, 2)x(0, 1, [1], 4)   Log Likelihood               -9619.079\n",
       "Date:                             Sun, 01 May 2022   AIC                          19270.158\n",
       "Time:                                     21:36:14   BIC                          19354.682\n",
       "Sample:                                 01-01-2017   HQIC                         19301.694\n",
       "                                      - 12-30-2020                                         \n",
       "Covariance Type:                               opg                                         \n",
       "========================================================================================\n",
       "                           coef    std err          z      P>|z|      [0.025      0.975]\n",
       "----------------------------------------------------------------------------------------\n",
       "const                         0      0.002          0      1.000      -0.004       0.004\n",
       "open                    -0.5134      0.013    -38.688      0.000      -0.539      -0.487\n",
       "high                     0.8756      0.014     62.765      0.000       0.848       0.903\n",
       "low                      0.6056      0.008     72.430      0.000       0.589       0.622\n",
       "n-transactions       -1.276e-05      0.000     -0.052      0.959      -0.000       0.000\n",
       "cost-per-transaction    -1.5185      0.742     -2.047      0.041      -2.973      -0.065\n",
       "Gold price              -0.0422      0.069     -0.610      0.542      -0.178       0.093\n",
       "output-volume        -5.013e-06      1e-05     -0.501      0.617   -2.46e-05    1.46e-05\n",
       "USD-CNY Price          -55.9615     57.558     -0.972      0.331    -168.773      56.850\n",
       "SVI                      1.2017      0.725      1.658      0.097      -0.219       2.622\n",
       "Wikiviews               -0.0008      0.001     -1.254      0.210      -0.002       0.000\n",
       "ar.L1                   -0.6686      5.582     -0.120      0.905     -11.610      10.273\n",
       "ma.L1                   -0.1528      5.592     -0.027      0.978     -11.114      10.808\n",
       "ma.L2                   -0.5464      4.586     -0.119      0.905      -9.534       8.442\n",
       "ma.S.L4                 -0.6382      0.027    -23.761      0.000      -0.691      -0.586\n",
       "sigma2                4.691e+04      0.324   1.45e+05      0.000    4.69e+04    4.69e+04\n",
       "===================================================================================\n",
       "Ljung-Box (L1) (Q):                  26.58   Jarque-Bera (JB):              8993.24\n",
       "Prob(Q):                              0.00   Prob(JB):                         0.00\n",
       "Heteroskedasticity (H):               0.70   Skew:                            -0.31\n",
       "Prob(H) (two-sided):                  0.00   Kurtosis:                        15.16\n",
       "===================================================================================\n",
       "\n",
       "Warnings:\n",
       "[1] Covariance matrix calculated using the outer product of gradients (complex-step).\n",
       "[2] Covariance matrix is singular or near-singular, with condition number 1.93e+23. Standard errors may be unstable.\n",
       "\"\"\""
      ]
     },
     "execution_count": 35,
     "metadata": {},
     "output_type": "execute_result"
    }
   ],
   "source": [
    "# fit model\n",
    "sar_model = SARIMAX(endog, exog=exog, order=(2, 1, 3), seasonal_order=(0, 1, [1, 2], 4)).fit(disp=-1)\n",
    "sar_model2 = SARIMAX(endog, exog=exog, order=(1, 1, 2), seasonal_order=(0, 1, [1], 4)).fit(disp=-1)\n",
    "sar_model.summary()\n",
    "sar_model2.summary()"
   ]
  },
  {
   "cell_type": "code",
   "execution_count": 267,
   "metadata": {},
   "outputs": [],
   "source": [
    "# save models\n",
    "ar_model.save('./saved_models/arima_model.pkl')\n",
    "sar_model.save('./saved_models/sar_model(213).pkl')\n",
    "sar_model2.save('./saved_models/sar_model(112).pkl')"
   ]
  },
  {
   "cell_type": "code",
   "execution_count": 7,
   "metadata": {},
   "outputs": [],
   "source": [
    "# current model \n",
    "model = ar_model"
   ]
  },
  {
   "cell_type": "markdown",
   "metadata": {},
   "source": [
    "Display the residuals from the model fit in acf and pacf plots"
   ]
  },
  {
   "cell_type": "code",
   "execution_count": 8,
   "metadata": {},
   "outputs": [
    {
     "name": "stdout",
     "output_type": "stream",
     "text": [
      "Dickey–Fuller test:: p=0.000000\n"
     ]
    },
    {
     "data": {
      "image/png": "[encoded data removed]",
      "text/plain": [
       "<Figure size 432x288 with 2 Axes>"
      ]
     },
     "metadata": {},
     "output_type": "display_data"
    }
   ],
   "source": [
    "# adfuller test\n",
    "print(\"Dickey–Fuller test:: p=%f\" % sm.tsa.adfuller(model.resid[13:])[1])\n",
    "\n",
    "# acf and pacf\n",
    "res = model.resid\n",
    "fig, ax = plt.subplots(2, 1)\n",
    "fig = sm.graphics.tsa.plot_acf(res, lags=50, ax=ax[0])\n",
    "fig = sm.graphics.tsa.plot_pacf(res, lags=50, ax=ax[1])\n",
    "plt.show()"
   ]
  },
  {
   "cell_type": "code",
   "execution_count": 9,
   "metadata": {},
   "outputs": [
    {
     "data": {
      "text/html": [
       "<div>\n",
       "<style scoped>\n",
       "    .dataframe tbody tr th:only-of-type {\n",
       "        vertical-align: middle;\n",
       "    }\n",
       "\n",
       "    .dataframe tbody tr th {\n",
       "        vertical-align: top;\n",
       "    }\n",
       "\n",
       "    .dataframe thead th {\n",
       "        text-align: right;\n",
       "    }\n",
       "</style>\n",
       "<table border=\"1\" class=\"dataframe\">\n",
       "  <thead>\n",
       "    <tr style=\"text-align: right;\">\n",
       "      <th></th>\n",
       "      <th>resid</th>\n",
       "    </tr>\n",
       "  </thead>\n",
       "  <tbody>\n",
       "    <tr>\n",
       "      <th>2017-12-22</th>\n",
       "      <td>1253.740715</td>\n",
       "    </tr>\n",
       "    <tr>\n",
       "      <th>2020-12-29</th>\n",
       "      <td>1077.925512</td>\n",
       "    </tr>\n",
       "    <tr>\n",
       "      <th>2017-12-08</th>\n",
       "      <td>1073.776782</td>\n",
       "    </tr>\n",
       "    <tr>\n",
       "      <th>2017-12-07</th>\n",
       "      <td>1011.390524</td>\n",
       "    </tr>\n",
       "    <tr>\n",
       "      <th>2018-01-17</th>\n",
       "      <td>778.537329</td>\n",
       "    </tr>\n",
       "  </tbody>\n",
       "</table>\n",
       "</div>"
      ],
      "text/plain": [
       "                  resid\n",
       "2017-12-22  1253.740715\n",
       "2020-12-29  1077.925512\n",
       "2017-12-08  1073.776782\n",
       "2017-12-07  1011.390524\n",
       "2018-01-17   778.537329"
      ]
     },
     "execution_count": 9,
     "metadata": {},
     "output_type": "execute_result"
    }
   ],
   "source": [
    "pd.DataFrame(model.resid, columns=['resid']).sort_values(by='resid', ascending=False).head(5)"
   ]
  },
  {
   "cell_type": "markdown",
   "metadata": {},
   "source": [
    "The outlier in date `2017-12-22`?"
   ]
  },
  {
   "cell_type": "code",
   "execution_count": 10,
   "metadata": {},
   "outputs": [
    {
     "data": {
      "image/png": "[encoded data removed]",
      "text/plain": [
       "<Figure size 864x432 with 4 Axes>"
      ]
     },
     "execution_count": 10,
     "metadata": {},
     "output_type": "execute_result"
    },
    {
     "data": {
      "image/png": "[encoded data removed]",
      "text/plain": [
       "<Figure size 864x432 with 4 Axes>"
      ]
     },
     "metadata": {},
     "output_type": "display_data"
    }
   ],
   "source": [
    "model.plot_diagnostics(figsize=(12, 6))"
   ]
  },
  {
   "cell_type": "markdown",
   "metadata": {},
   "source": [
    "## Now lets test the model's prediction"
   ]
  },
  {
   "cell_type": "code",
   "execution_count": 11,
   "metadata": {},
   "outputs": [
    {
     "name": "stdout",
     "output_type": "stream",
     "text": [
      "{'mape': '2.12%', 'me': -865.9803092147873, 'mae': 1021.3524550258542, 'mpe': -0.017264564174071604, 'rmse': 1255.5720712064208, 'corr': 0.9963374073147964, 'minmax': 0.021141799797968708}\n"
     ]
    },
    {
     "data": {
      "text/html": [
       "<div>\n",
       "<style scoped>\n",
       "    .dataframe tbody tr th:only-of-type {\n",
       "        vertical-align: middle;\n",
       "    }\n",
       "\n",
       "    .dataframe tbody tr th {\n",
       "        vertical-align: top;\n",
       "    }\n",
       "\n",
       "    .dataframe thead th {\n",
       "        text-align: right;\n",
       "    }\n",
       "</style>\n",
       "<table border=\"1\" class=\"dataframe\">\n",
       "  <thead>\n",
       "    <tr style=\"text-align: right;\">\n",
       "      <th></th>\n",
       "      <th>actual</th>\n",
       "      <th>pred</th>\n",
       "    </tr>\n",
       "  </thead>\n",
       "  <tbody>\n",
       "    <tr>\n",
       "      <th>2020-12-31</th>\n",
       "      <td>28984.983403</td>\n",
       "      <td>28481.029793</td>\n",
       "    </tr>\n",
       "    <tr>\n",
       "      <th>2021-01-01</th>\n",
       "      <td>29405.123461</td>\n",
       "      <td>29223.057507</td>\n",
       "    </tr>\n",
       "    <tr>\n",
       "      <th>2021-01-02</th>\n",
       "      <td>32216.53</td>\n",
       "      <td>32125.631259</td>\n",
       "    </tr>\n",
       "    <tr>\n",
       "      <th>2021-01-03</th>\n",
       "      <td>33071.5</td>\n",
       "      <td>33887.968626</td>\n",
       "    </tr>\n",
       "    <tr>\n",
       "      <th>2021-01-04</th>\n",
       "      <td>32042.188855</td>\n",
       "      <td>29956.996532</td>\n",
       "    </tr>\n",
       "  </tbody>\n",
       "</table>\n",
       "</div>"
      ],
      "text/plain": [
       "                  actual          pred\n",
       "2020-12-31  28984.983403  28481.029793\n",
       "2021-01-01  29405.123461  29223.057507\n",
       "2021-01-02      32216.53  32125.631259\n",
       "2021-01-03       33071.5  33887.968626\n",
       "2021-01-04  32042.188855  29956.996532"
      ]
     },
     "execution_count": 11,
     "metadata": {},
     "output_type": "execute_result"
    }
   ],
   "source": [
    "# test model\n",
    "first_predict, last_predict = test.iloc[0].name, test.iloc[-1].name\n",
    "\n",
    "exog1 = (sm.add_constant(test).loc[first_predict:])\n",
    "exog1 = exog1.drop(['close'], axis=1)\n",
    "\n",
    "forecast = model.forecast(steps=len(test), exog=exog1)\n",
    "result_data = pd.DataFrame(index=test.index, columns=['actual', 'pred'])\n",
    "\n",
    "# display the forecast accuracy metrics for the test set\n",
    "print(forecast_accuracy(forecast, test['close'].values))\n",
    "\n",
    "chk = 0\n",
    "for i in forecast:\n",
    "    result_data.iloc[chk][\"actual\"] = df.iloc[df.index == test.iloc[chk].name]['close'].values[0]\n",
    "    result_data.iloc[chk][\"pred\"] = i\n",
    "    chk += 1\n",
    "    \n",
    "result_data.head()"
   ]
  },
  {
   "cell_type": "markdown",
   "metadata": {},
   "source": [
    "We can see the predicted values are quite close to the actual values"
   ]
  },
  {
   "cell_type": "code",
   "execution_count": 12,
   "metadata": {},
   "outputs": [],
   "source": [
    "# get conf from arima resuls\n",
    "def forecast_confint(model, exog):\n",
    "    \"\"\"\n",
    "    Returns the confidence interval for the forecast\n",
    "    \"\"\"\n",
    "    conf = model.get_forecast(steps=len(exog), exog=exog)\n",
    "    return conf.conf_int()\n",
    "\n",
    "\n",
    "conf = forecast_confint(model, exog1)"
   ]
  },
  {
   "cell_type": "code",
   "execution_count": 13,
   "metadata": {},
   "outputs": [
    {
     "data": {
      "image/png": "[encoded data removed]",
      "text/plain": [
       "<Figure size 1200x500 with 1 Axes>"
      ]
     },
     "metadata": {},
     "output_type": "display_data"
    }
   ],
   "source": [
    "# Make as pandas series\n",
    "fc_series = pd.Series(forecast, index=test.index)\n",
    "lower_series = pd.Series(conf.values[:, 0], index=test.index)\n",
    "upper_series = pd.Series(conf.values[:, 1], index=test.index)\n",
    "\n",
    "# Plot\n",
    "plt.figure(figsize=(12, 5), dpi=100)\n",
    "# plt.plot(train[1500:].close, label='training')\n",
    "plt.plot(fc_series, label='forecast')\n",
    "plt.plot(test.close, label='actual')\n",
    "plt.fill_between(lower_series.index, lower_series,\n",
    "                 upper_series, color='k', alpha=.1)\n",
    "plt.title('Forecast vs Actuals')\n",
    "plt.legend(loc='upper left', fontsize=8)\n",
    "plt.show()\n"
   ]
  },
  {
   "cell_type": "markdown",
   "metadata": {},
   "source": [
    "### Forecast Tests\n",
    "- Make a prediction using the model for the next `n-days/months/years`.\n",
    "- The `get_new_data()` function gets the BPI from Yahoo Finance for the latest/given dates to compare with the predictions.\n",
    "- Create a `future` DataFrame with the actual and forecasted values\n",
    "- Create a mask for a short time frame and visualize it in a plot\n",
    "- Calculate metrics"
   ]
  },
  {
   "cell_type": "code",
   "execution_count": 15,
   "metadata": {},
   "outputs": [
    {
     "name": "stdout",
     "output_type": "stream",
     "text": [
      "start_index: 2021-12-31\n",
      "end_index: 2022-01-30\n"
     ]
    }
   ],
   "source": [
    "from dateutil.relativedelta import relativedelta\n",
    "\n",
    "# create a list of dates to predict\n",
    "exog_last = sm.add_constant(df.drop(['close'], axis=1))\n",
    "start_index = exog_last.index.max().date()\n",
    "end_index = start_index + relativedelta(days=30)\n",
    "\n",
    "print(\"start_index:\", start_index)\n",
    "print(\"end_index:\", end_index)\n",
    "\n",
    "# predict using the fitted model\n",
    "yhat5 = model.predict(start=start_index, end=end_index - relativedelta(days=25), exog=exog_last[-371:])\n",
    "yhat10 = model.predict(start=start_index, end=end_index - relativedelta(days=20), exog=exog_last[-376:])\n",
    "yhat30 = model.predict(start=start_index, end=end_index, exog=exog_last[-396:])\n",
    "yhat60 = model.predict(start=start_index, end=end_index + relativedelta(days=30), exog=exog_last[-426:])\n",
    "\n",
    "# get present values\n",
    "yhat_actual = get_new_data('BTC-USD', df.index[-1])"
   ]
  },
  {
   "cell_type": "code",
   "execution_count": 16,
   "metadata": {},
   "outputs": [
    {
     "name": "stdout",
     "output_type": "stream",
     "text": [
      "RMSE Train: 154.4072854438114\n",
      "RMSE Test: 1255.5720712064208\n",
      "RMSE Forecast: 8103.672887056174\n"
     ]
    },
    {
     "data": {
      "image/png": "[encoded data removed]",
      "text/plain": [
       "<Figure size 432x288 with 1 Axes>"
      ]
     },
     "metadata": {},
     "output_type": "display_data"
    }
   ],
   "source": [
    "# create histogram of all the rmse from training, test, and forecast\n",
    "from sklearn.metrics import mean_squared_error\n",
    "import seaborn as sns\n",
    "sns.set(style=\"whitegrid\")\n",
    "\n",
    "rmse_train = np.sqrt(mean_squared_error(train['close'], model.fittedvalues))\n",
    "rmse_test = np.sqrt(mean_squared_error(result_data['actual'], result_data['pred']))\n",
    "rmse_forecast = np.sqrt(mean_squared_error(yhat30, yhat_actual[:31].Close.values))\n",
    "\n",
    "print(\"RMSE Train:\", rmse_train)\n",
    "print(\"RMSE Test:\", rmse_test)\n",
    "print(\"RMSE Forecast:\", rmse_forecast)\n",
    "\n",
    "rmse = pd.DataFrame(index=['Train', 'Test', 'Forecast'], columns=['RMSE'])\n",
    "rmse.loc['Train'] = rmse_train\n",
    "rmse.loc['Test'] = rmse_test\n",
    "rmse.loc['Forecast'] = rmse_forecast\n",
    "\n",
    "# cat plot for all the rmse\n",
    "sns.barplot(x=rmse.index, y=rmse.RMSE, color='#0072B2')\n",
    "plt.title('RMSE')\n",
    "plt.show()"
   ]
  },
  {
   "cell_type": "markdown",
   "metadata": {},
   "source": [
    "Make a dataframe with the forecasts for each days and the actual values"
   ]
  },
  {
   "cell_type": "code",
   "execution_count": 17,
   "metadata": {},
   "outputs": [],
   "source": [
    "def make_future_df(pred, actual):\n",
    "    future_df = pd.DataFrame(columns=['actual', 'forecast'])\n",
    "    future_df['forecast'] = pred\n",
    "    future_df['actual'] = actual\n",
    "    accuracy = forecast_accuracy(future_df['forecast'], future_df['actual'])\n",
    "\n",
    "    return future_df, accuracy\n",
    "\n",
    "future5, acc5 = make_future_df(yhat5, yhat_actual['Close'])\n",
    "future10, acc10 = make_future_df(yhat10, yhat_actual['Close'])\n",
    "future30, acc30 = make_future_df(yhat30, yhat_actual['Close'])\n",
    "future60, acc60 = make_future_df(yhat60, yhat_actual['Close'])"
   ]
  },
  {
   "cell_type": "code",
   "execution_count": 18,
   "metadata": {},
   "outputs": [
    {
     "data": {
      "image/png": "[encoded data removed]",
      "text/plain": [
       "<Figure size 1080x432 with 4 Axes>"
      ]
     },
     "metadata": {},
     "output_type": "display_data"
    }
   ],
   "source": [
    "fig, ((ax1, ax2),(ax3, ax4)) = plt.subplots(2, 2)\n",
    "fig.figure.set_size_inches(15, 6)\n",
    "\n",
    "fig = future5.plot(ax=ax1, title=f'Bitcoin Price Prediction 5 days (MAPE={acc5[\"mape\"]})', grid=True, legend=True, fontsize=12)\n",
    "fig = future10.plot(ax=ax2, title=f'Bitcoin Price Prediction 10 days (MAPE={acc10[\"mape\"]})', grid=True, legend=True, fontsize=12)\n",
    "fig = future30.plot(ax=ax3, title=f'Bitcoin Price Prediction 30 days (MAPE={acc30[\"mape\"]})', grid=True, legend=True, fontsize=12)\n",
    "fig = future60.plot(ax=ax4, title=f'Bitcoin Price Prediction 60 days (MAPE={acc60[\"mape\"]})', grid=True, legend=True, fontsize=12)\n",
    "plt.tight_layout()"
   ]
  },
  {
   "cell_type": "markdown",
   "metadata": {},
   "source": [
    "The results indicate that the model is still a little rough and not something we should use as trading advice, but that was not unexpected due to the extremely volatile nature of cryptocurrencies, especially in the last 6 months.\n",
    "\n",
    "It is probably also not such a good idea to try and predict 2 months into the future as we can see how insane even the 80% confidence interval becomes out this far. Maybe sticking to 1 month or shorter advance predictitons is more sensible. Or maybe even predicting on a daily basis."
   ]
  },
  {
   "cell_type": "code",
   "execution_count": 22,
   "metadata": {},
   "outputs": [
    {
     "data": {
      "image/png": "[encoded data removed]",
      "text/plain": [
       "<Figure size 864x576 with 1 Axes>"
      ]
     },
     "metadata": {},
     "output_type": "display_data"
    }
   ],
   "source": [
    "# plot_future(df[1820:].close, future5['forecast'], future5['actual'])\n",
    "# plot_future(df[1800:].close, future10['forecast'], future10['actual'])\n",
    "plot_future(df[1800:].close, future30['forecast'], future30['actual'])\n",
    "# plot_future(df[1700:].close, future60['forecast'], future60['actual'])"
   ]
  },
  {
   "cell_type": "markdown",
   "metadata": {},
   "source": [
    "At first look, it can be argued that the model simply repeats what it learnt in the dataset\n",
    "<br>\n",
    "Since it's pattern is very similar to the testing dataset's values. This may be a case of overfitting.\n"
   ]
  },
  {
   "cell_type": "markdown",
   "metadata": {},
   "source": [
    "Create a list of data for each month in the future with the date, actual value, and predicted value, and the past value on this date a year ago."
   ]
  },
  {
   "cell_type": "code",
   "execution_count": 31,
   "metadata": {},
   "outputs": [
    {
     "data": {
      "text/html": [
       "<div>\n",
       "<style scoped>\n",
       "    .dataframe tbody tr th:only-of-type {\n",
       "        vertical-align: middle;\n",
       "    }\n",
       "\n",
       "    .dataframe tbody tr th {\n",
       "        vertical-align: top;\n",
       "    }\n",
       "\n",
       "    .dataframe thead th {\n",
       "        text-align: right;\n",
       "    }\n",
       "</style>\n",
       "<table border=\"1\" class=\"dataframe\">\n",
       "  <thead>\n",
       "    <tr style=\"text-align: right;\">\n",
       "      <th></th>\n",
       "      <th>Actual</th>\n",
       "      <th>Forecast_30</th>\n",
       "      <th>Past (y-1)</th>\n",
       "    </tr>\n",
       "    <tr>\n",
       "      <th>date</th>\n",
       "      <th></th>\n",
       "      <th></th>\n",
       "      <th></th>\n",
       "    </tr>\n",
       "  </thead>\n",
       "  <tbody>\n",
       "    <tr>\n",
       "      <th>2022-01-01</th>\n",
       "      <td>47686.812500</td>\n",
       "      <td>55209.902395</td>\n",
       "      <td>29405.123461</td>\n",
       "    </tr>\n",
       "    <tr>\n",
       "      <th>2022-01-02</th>\n",
       "      <td>47345.218750</td>\n",
       "      <td>53168.171355</td>\n",
       "      <td>32216.530000</td>\n",
       "    </tr>\n",
       "    <tr>\n",
       "      <th>2022-01-03</th>\n",
       "      <td>46458.117188</td>\n",
       "      <td>45260.227538</td>\n",
       "      <td>33071.500000</td>\n",
       "    </tr>\n",
       "    <tr>\n",
       "      <th>2022-01-04</th>\n",
       "      <td>45897.574219</td>\n",
       "      <td>47620.452642</td>\n",
       "      <td>32042.188855</td>\n",
       "    </tr>\n",
       "    <tr>\n",
       "      <th>2022-01-05</th>\n",
       "      <td>43569.003906</td>\n",
       "      <td>48280.617226</td>\n",
       "      <td>34043.030762</td>\n",
       "    </tr>\n",
       "  </tbody>\n",
       "</table>\n",
       "</div>"
      ],
      "text/plain": [
       "                  Actual   Forecast_30    Past (y-1)\n",
       "date                                                \n",
       "2022-01-01  47686.812500  55209.902395  29405.123461\n",
       "2022-01-02  47345.218750  53168.171355  32216.530000\n",
       "2022-01-03  46458.117188  45260.227538  33071.500000\n",
       "2022-01-04  45897.574219  47620.452642  32042.188855\n",
       "2022-01-05  43569.003906  48280.617226  34043.030762"
      ]
     },
     "execution_count": 31,
     "metadata": {},
     "output_type": "execute_result"
    }
   ],
   "source": [
    "import plotly.express as px\n",
    "import plotly.graph_objs as go\n",
    "\n",
    "cc = []\n",
    "for i in range(1, 32):\n",
    "    for j in range(1, 4):\n",
    "        try:\n",
    "            d = f'2022-0{j}-{i < 10 and f\"0{i}\" or i}'\n",
    "            cc.append({\n",
    "                'date': d,\n",
    "                'Forecast_30': future30.iloc[future30.index == d]['forecast'].values[0],\n",
    "                'Actual': yhat_actual.iloc[yhat_actual.index == d]['Close'].values[0],\n",
    "                'Past (y-1)': df.iloc[df.index == f'2021-0{j}-{i < 10 and f\"0{i}\" or i}']['close'].values[0]\n",
    "            })\n",
    "        except IndexError as e:\n",
    "            continue\n",
    "\n",
    "# merge the list of dictionaries into a dataframe\n",
    "y_april = pd.DataFrame(\n",
    "    cc, columns=['date', 'Actual', 'Forecast_30', 'Past (y-1)'])\n",
    "y_april.set_index('date', inplace=True)\n",
    "y_april.sort_index(inplace=True)\n",
    "# y_april.plot(figsize=(10, 5), title='Bitcoin Price Prediction',\n",
    "#              grid=True, legend=True, fontsize=12)\n",
    "y_april.head()\n"
   ]
  },
  {
   "cell_type": "code",
   "execution_count": 32,
   "metadata": {},
   "outputs": [
    {
     "data": {
      "application/vnd.plotly.v1+json": {
       "config": {
        "plotlyServerURL": "https://plot.ly"
       },
       "data": [
        {
         "hovertemplate": "variable=Actual<br>date=%{x}<br>value=%{y}<extra></extra>",
         "legendgroup": "Actual",
         "line": {
          "color": "#636efa",
          "dash": "solid"
         },
         "marker": {
          "symbol": "circle"
         },
         "mode": "lines",
         "name": "Actual",
         "orientation": "v",
         "showlegend": true,
         "type": "scatter",
         "x": [
          "2022-01-01",
          "2022-01-02",
          "2022-01-03",
          "2022-01-04",
          "2022-01-05",
          "2022-01-06",
          "2022-01-07",
          "2022-01-08",
          "2022-01-09",
          "2022-01-10",
          "2022-01-11",
          "2022-01-12",
          "2022-01-13",
          "2022-01-14",
          "2022-01-15",
          "2022-01-16",
          "2022-01-17",
          "2022-01-18",
          "2022-01-19",
          "2022-01-20",
          "2022-01-21",
          "2022-01-22",
          "2022-01-23",
          "2022-01-24",
          "2022-01-25",
          "2022-01-26",
          "2022-01-27",
          "2022-01-28",
          "2022-01-29",
          "2022-01-30"
         ],
         "xaxis": "x",
         "y": [
          47686.8125,
          47345.21875,
          46458.1171875,
          45897.57421875,
          43569.00390625,
          43160.9296875,
          41557.90234375,
          41733.94140625,
          41911.6015625,
          41821.26171875,
          42735.85546875,
          43949.1015625,
          42591.5703125,
          43099.69921875,
          43177.3984375,
          43113.87890625,
          42250.55078125,
          42375.6328125,
          41744.328125,
          40680.41796875,
          36457.31640625,
          35030.25,
          36276.8046875,
          36654.328125,
          36954.00390625,
          36852.12109375,
          37138.234375,
          37784.33203125,
          38138.1796875,
          37917.6015625
         ],
         "yaxis": "y"
        },
        {
         "hovertemplate": "variable=Forecast_30<br>date=%{x}<br>value=%{y}<extra></extra>",
         "legendgroup": "Forecast_30",
         "line": {
          "color": "#EF553B",
          "dash": "solid"
         },
         "marker": {
          "symbol": "circle"
         },
         "mode": "lines",
         "name": "Forecast_30",
         "orientation": "v",
         "showlegend": true,
         "type": "scatter",
         "x": [
          "2022-01-01",
          "2022-01-02",
          "2022-01-03",
          "2022-01-04",
          "2022-01-05",
          "2022-01-06",
          "2022-01-07",
          "2022-01-08",
          "2022-01-09",
          "2022-01-10",
          "2022-01-11",
          "2022-01-12",
          "2022-01-13",
          "2022-01-14",
          "2022-01-15",
          "2022-01-16",
          "2022-01-17",
          "2022-01-18",
          "2022-01-19",
          "2022-01-20",
          "2022-01-21",
          "2022-01-22",
          "2022-01-23",
          "2022-01-24",
          "2022-01-25",
          "2022-01-26",
          "2022-01-27",
          "2022-01-28",
          "2022-01-29",
          "2022-01-30"
         ],
         "xaxis": "x",
         "y": [
          55209.90239458104,
          53168.17135471192,
          45260.22753813536,
          47620.45264227425,
          48280.61722573199,
          50368.07676757068,
          48816.34002931581,
          47708.021776836176,
          48231.27061282591,
          47842.843894569894,
          49015.60620140036,
          46455.70179736336,
          47149.871015824436,
          47215.6946951932,
          47542.1654954975,
          45638.91791909955,
          45826.79267225434,
          46756.36460452626,
          45797.33846951797,
          47845.03994837467,
          48201.55553868365,
          49578.54501683885,
          50358.84818847051,
          49515.09738990217,
          49340.100655063805,
          50546.27116011489,
          47531.06194513033,
          46207.94238822238,
          46482.05323366847,
          46470.419258391084
         ],
         "yaxis": "y"
        },
        {
         "hovertemplate": "variable=Past (y-1)<br>date=%{x}<br>value=%{y}<extra></extra>",
         "legendgroup": "Past (y-1)",
         "line": {
          "color": "#00cc96",
          "dash": "solid"
         },
         "marker": {
          "symbol": "circle"
         },
         "mode": "lines",
         "name": "Past (y-1)",
         "orientation": "v",
         "showlegend": true,
         "type": "scatter",
         "x": [
          "2022-01-01",
          "2022-01-02",
          "2022-01-03",
          "2022-01-04",
          "2022-01-05",
          "2022-01-06",
          "2022-01-07",
          "2022-01-08",
          "2022-01-09",
          "2022-01-10",
          "2022-01-11",
          "2022-01-12",
          "2022-01-13",
          "2022-01-14",
          "2022-01-15",
          "2022-01-16",
          "2022-01-17",
          "2022-01-18",
          "2022-01-19",
          "2022-01-20",
          "2022-01-21",
          "2022-01-22",
          "2022-01-23",
          "2022-01-24",
          "2022-01-25",
          "2022-01-26",
          "2022-01-27",
          "2022-01-28",
          "2022-01-29",
          "2022-01-30"
         ],
         "xaxis": "x",
         "y": [
          29405.123461,
          32216.53,
          33071.5,
          32042.188855,
          34043.030762,
          36881.170952,
          39506.26984,
          40652.065835,
          40256.346011,
          38179.5,
          35481.057702,
          34044.894589,
          37390,
          39151.6,
          36764.5,
          36029.171468,
          35816.4,
          36616.95,
          35926.5,
          35507.803281,
          30807.529536,
          33014.831913,
          32115.154164,
          32285.63,
          32262.006948,
          32523.852888,
          30425.14,
          33447.108681,
          34262.11,
          34312.022326
         ],
         "yaxis": "y"
        }
       ],
       "layout": {
        "legend": {
         "title": {
          "text": "variable"
         },
         "tracegroupgap": 0
        },
        "margin": {
         "t": 60
        },
        "template": {
         "data": {
          "bar": [
           {
            "error_x": {
             "color": "#2a3f5f"
            },
            "error_y": {
             "color": "#2a3f5f"
            },
            "marker": {
             "line": {
              "color": "#E5ECF6",
              "width": 0.5
             },
             "pattern": {
              "fillmode": "overlay",
              "size": 10,
              "solidity": 0.2
             }
            },
            "type": "bar"
           }
          ],
          "barpolar": [
           {
            "marker": {
             "line": {
              "color": "#E5ECF6",
              "width": 0.5
             },
             "pattern": {
              "fillmode": "overlay",
              "size": 10,
              "solidity": 0.2
             }
            },
            "type": "barpolar"
           }
          ],
          "carpet": [
           {
            "aaxis": {
             "endlinecolor": "#2a3f5f",
             "gridcolor": "white",
             "linecolor": "white",
             "minorgridcolor": "white",
             "startlinecolor": "#2a3f5f"
            },
            "baxis": {
             "endlinecolor": "#2a3f5f",
             "gridcolor": "white",
             "linecolor": "white",
             "minorgridcolor": "white",
             "startlinecolor": "#2a3f5f"
            },
            "type": "carpet"
           }
          ],
          "choropleth": [
           {
            "colorbar": {
             "outlinewidth": 0,
             "ticks": ""
            },
            "type": "choropleth"
           }
          ],
          "contour": [
           {
            "colorbar": {
             "outlinewidth": 0,
             "ticks": ""
            },
            "colorscale": [
             [
              0,
              "#0d0887"
             ],
             [
              0.1111111111111111,
              "#46039f"
             ],
             [
              0.2222222222222222,
              "#7201a8"
             ],
             [
              0.3333333333333333,
              "#9c179e"
             ],
             [
              0.4444444444444444,
              "#bd3786"
             ],
             [
              0.5555555555555556,
              "#d8576b"
             ],
             [
              0.6666666666666666,
              "#ed7953"
             ],
             [
              0.7777777777777778,
              "#fb9f3a"
             ],
             [
              0.8888888888888888,
              "#fdca26"
             ],
             [
              1,
              "#f0f921"
             ]
            ],
            "type": "contour"
           }
          ],
          "contourcarpet": [
           {
            "colorbar": {
             "outlinewidth": 0,
             "ticks": ""
            },
            "type": "contourcarpet"
           }
          ],
          "heatmap": [
           {
            "colorbar": {
             "outlinewidth": 0,
             "ticks": ""
            },
            "colorscale": [
             [
              0,
              "#0d0887"
             ],
             [
              0.1111111111111111,
              "#46039f"
             ],
             [
              0.2222222222222222,
              "#7201a8"
             ],
             [
              0.3333333333333333,
              "#9c179e"
             ],
             [
              0.4444444444444444,
              "#bd3786"
             ],
             [
              0.5555555555555556,
              "#d8576b"
             ],
             [
              0.6666666666666666,
              "#ed7953"
             ],
             [
              0.7777777777777778,
              "#fb9f3a"
             ],
             [
              0.8888888888888888,
              "#fdca26"
             ],
             [
              1,
              "#f0f921"
             ]
            ],
            "type": "heatmap"
           }
          ],
          "heatmapgl": [
           {
            "colorbar": {
             "outlinewidth": 0,
             "ticks": ""
            },
            "colorscale": [
             [
              0,
              "#0d0887"
             ],
             [
              0.1111111111111111,
              "#46039f"
             ],
             [
              0.2222222222222222,
              "#7201a8"
             ],
             [
              0.3333333333333333,
              "#9c179e"
             ],
             [
              0.4444444444444444,
              "#bd3786"
             ],
             [
              0.5555555555555556,
              "#d8576b"
             ],
             [
              0.6666666666666666,
              "#ed7953"
             ],
             [
              0.7777777777777778,
              "#fb9f3a"
             ],
             [
              0.8888888888888888,
              "#fdca26"
             ],
             [
              1,
              "#f0f921"
             ]
            ],
            "type": "heatmapgl"
           }
          ],
          "histogram": [
           {
            "marker": {
             "pattern": {
              "fillmode": "overlay",
              "size": 10,
              "solidity": 0.2
             }
            },
            "type": "histogram"
           }
          ],
          "histogram2d": [
           {
            "colorbar": {
             "outlinewidth": 0,
             "ticks": ""
            },
            "colorscale": [
             [
              0,
              "#0d0887"
             ],
             [
              0.1111111111111111,
              "#46039f"
             ],
             [
              0.2222222222222222,
              "#7201a8"
             ],
             [
              0.3333333333333333,
              "#9c179e"
             ],
             [
              0.4444444444444444,
              "#bd3786"
             ],
             [
              0.5555555555555556,
              "#d8576b"
             ],
             [
              0.6666666666666666,
              "#ed7953"
             ],
             [
              0.7777777777777778,
              "#fb9f3a"
             ],
             [
              0.8888888888888888,
              "#fdca26"
             ],
             [
              1,
              "#f0f921"
             ]
            ],
            "type": "histogram2d"
           }
          ],
          "histogram2dcontour": [
           {
            "colorbar": {
             "outlinewidth": 0,
             "ticks": ""
            },
            "colorscale": [
             [
              0,
              "#0d0887"
             ],
             [
              0.1111111111111111,
              "#46039f"
             ],
             [
              0.2222222222222222,
              "#7201a8"
             ],
             [
              0.3333333333333333,
              "#9c179e"
             ],
             [
              0.4444444444444444,
              "#bd3786"
             ],
             [
              0.5555555555555556,
              "#d8576b"
             ],
             [
              0.6666666666666666,
              "#ed7953"
             ],
             [
              0.7777777777777778,
              "#fb9f3a"
             ],
             [
              0.8888888888888888,
              "#fdca26"
             ],
             [
              1,
              "#f0f921"
             ]
            ],
            "type": "histogram2dcontour"
           }
          ],
          "mesh3d": [
           {
            "colorbar": {
             "outlinewidth": 0,
             "ticks": ""
            },
            "type": "mesh3d"
           }
          ],
          "parcoords": [
           {
            "line": {
             "colorbar": {
              "outlinewidth": 0,
              "ticks": ""
             }
            },
            "type": "parcoords"
           }
          ],
          "pie": [
           {
            "automargin": true,
            "type": "pie"
           }
          ],
          "scatter": [
           {
            "fillpattern": {
             "fillmode": "overlay",
             "size": 10,
             "solidity": 0.2
            },
            "type": "scatter"
           }
          ],
          "scatter3d": [
           {
            "line": {
             "colorbar": {
              "outlinewidth": 0,
              "ticks": ""
             }
            },
            "marker": {
             "colorbar": {
              "outlinewidth": 0,
              "ticks": ""
             }
            },
            "type": "scatter3d"
           }
          ],
          "scattercarpet": [
           {
            "marker": {
             "colorbar": {
              "outlinewidth": 0,
              "ticks": ""
             }
            },
            "type": "scattercarpet"
           }
          ],
          "scattergeo": [
           {
            "marker": {
             "colorbar": {
              "outlinewidth": 0,
              "ticks": ""
             }
            },
            "type": "scattergeo"
           }
          ],
          "scattergl": [
           {
            "marker": {
             "colorbar": {
              "outlinewidth": 0,
              "ticks": ""
             }
            },
            "type": "scattergl"
           }
          ],
          "scattermapbox": [
           {
            "marker": {
             "colorbar": {
              "outlinewidth": 0,
              "ticks": ""
             }
            },
            "type": "scattermapbox"
           }
          ],
          "scatterpolar": [
           {
            "marker": {
             "colorbar": {
              "outlinewidth": 0,
              "ticks": ""
             }
            },
            "type": "scatterpolar"
           }
          ],
          "scatterpolargl": [
           {
            "marker": {
             "colorbar": {
              "outlinewidth": 0,
              "ticks": ""
             }
            },
            "type": "scatterpolargl"
           }
          ],
          "scatterternary": [
           {
            "marker": {
             "colorbar": {
              "outlinewidth": 0,
              "ticks": ""
             }
            },
            "type": "scatterternary"
           }
          ],
          "surface": [
           {
            "colorbar": {
             "outlinewidth": 0,
             "ticks": ""
            },
            "colorscale": [
             [
              0,
              "#0d0887"
             ],
             [
              0.1111111111111111,
              "#46039f"
             ],
             [
              0.2222222222222222,
              "#7201a8"
             ],
             [
              0.3333333333333333,
              "#9c179e"
             ],
             [
              0.4444444444444444,
              "#bd3786"
             ],
             [
              0.5555555555555556,
              "#d8576b"
             ],
             [
              0.6666666666666666,
              "#ed7953"
             ],
             [
              0.7777777777777778,
              "#fb9f3a"
             ],
             [
              0.8888888888888888,
              "#fdca26"
             ],
             [
              1,
              "#f0f921"
             ]
            ],
            "type": "surface"
           }
          ],
          "table": [
           {
            "cells": {
             "fill": {
              "color": "#EBF0F8"
             },
             "line": {
              "color": "white"
             }
            },
            "header": {
             "fill": {
              "color": "#C8D4E3"
             },
             "line": {
              "color": "white"
             }
            },
            "type": "table"
           }
          ]
         },
         "layout": {
          "annotationdefaults": {
           "arrowcolor": "#2a3f5f",
           "arrowhead": 0,
           "arrowwidth": 1
          },
          "autotypenumbers": "strict",
          "coloraxis": {
           "colorbar": {
            "outlinewidth": 0,
            "ticks": ""
           }
          },
          "colorscale": {
           "diverging": [
            [
             0,
             "#8e0152"
            ],
            [
             0.1,
             "#c51b7d"
            ],
            [
             0.2,
             "#de77ae"
            ],
            [
             0.3,
             "#f1b6da"
            ],
            [
             0.4,
             "#fde0ef"
            ],
            [
             0.5,
             "#f7f7f7"
            ],
            [
             0.6,
             "#e6f5d0"
            ],
            [
             0.7,
             "#b8e186"
            ],
            [
             0.8,
             "#7fbc41"
            ],
            [
             0.9,
             "#4d9221"
            ],
            [
             1,
             "#276419"
            ]
           ],
           "sequential": [
            [
             0,
             "#0d0887"
            ],
            [
             0.1111111111111111,
             "#46039f"
            ],
            [
             0.2222222222222222,
             "#7201a8"
            ],
            [
             0.3333333333333333,
             "#9c179e"
            ],
            [
             0.4444444444444444,
             "#bd3786"
            ],
            [
             0.5555555555555556,
             "#d8576b"
            ],
            [
             0.6666666666666666,
             "#ed7953"
            ],
            [
             0.7777777777777778,
             "#fb9f3a"
            ],
            [
             0.8888888888888888,
             "#fdca26"
            ],
            [
             1,
             "#f0f921"
            ]
           ],
           "sequentialminus": [
            [
             0,
             "#0d0887"
            ],
            [
             0.1111111111111111,
             "#46039f"
            ],
            [
             0.2222222222222222,
             "#7201a8"
            ],
            [
             0.3333333333333333,
             "#9c179e"
            ],
            [
             0.4444444444444444,
             "#bd3786"
            ],
            [
             0.5555555555555556,
             "#d8576b"
            ],
            [
             0.6666666666666666,
             "#ed7953"
            ],
            [
             0.7777777777777778,
             "#fb9f3a"
            ],
            [
             0.8888888888888888,
             "#fdca26"
            ],
            [
             1,
             "#f0f921"
            ]
           ]
          },
          "colorway": [
           "#636efa",
           "#EF553B",
           "#00cc96",
           "#ab63fa",
           "#FFA15A",
           "#19d3f3",
           "#FF6692",
           "#B6E880",
           "#FF97FF",
           "#FECB52"
          ],
          "font": {
           "color": "#2a3f5f"
          },
          "geo": {
           "bgcolor": "white",
           "lakecolor": "white",
           "landcolor": "#E5ECF6",
           "showlakes": true,
           "showland": true,
           "subunitcolor": "white"
          },
          "hoverlabel": {
           "align": "left"
          },
          "hovermode": "closest",
          "mapbox": {
           "style": "light"
          },
          "paper_bgcolor": "white",
          "plot_bgcolor": "#E5ECF6",
          "polar": {
           "angularaxis": {
            "gridcolor": "white",
            "linecolor": "white",
            "ticks": ""
           },
           "bgcolor": "#E5ECF6",
           "radialaxis": {
            "gridcolor": "white",
            "linecolor": "white",
            "ticks": ""
           }
          },
          "scene": {
           "xaxis": {
            "backgroundcolor": "#E5ECF6",
            "gridcolor": "white",
            "gridwidth": 2,
            "linecolor": "white",
            "showbackground": true,
            "ticks": "",
            "zerolinecolor": "white"
           },
           "yaxis": {
            "backgroundcolor": "#E5ECF6",
            "gridcolor": "white",
            "gridwidth": 2,
            "linecolor": "white",
            "showbackground": true,
            "ticks": "",
            "zerolinecolor": "white"
           },
           "zaxis": {
            "backgroundcolor": "#E5ECF6",
            "gridcolor": "white",
            "gridwidth": 2,
            "linecolor": "white",
            "showbackground": true,
            "ticks": "",
            "zerolinecolor": "white"
           }
          },
          "shapedefaults": {
           "line": {
            "color": "#2a3f5f"
           }
          },
          "ternary": {
           "aaxis": {
            "gridcolor": "white",
            "linecolor": "white",
            "ticks": ""
           },
           "baxis": {
            "gridcolor": "white",
            "linecolor": "white",
            "ticks": ""
           },
           "bgcolor": "#E5ECF6",
           "caxis": {
            "gridcolor": "white",
            "linecolor": "white",
            "ticks": ""
           }
          },
          "title": {
           "x": 0.05
          },
          "xaxis": {
           "automargin": true,
           "gridcolor": "white",
           "linecolor": "white",
           "ticks": "",
           "title": {
            "standoff": 15
           },
           "zerolinecolor": "white",
           "zerolinewidth": 2
          },
          "yaxis": {
           "automargin": true,
           "gridcolor": "white",
           "linecolor": "white",
           "ticks": "",
           "title": {
            "standoff": 15
           },
           "zerolinecolor": "white",
           "zerolinewidth": 2
          }
         }
        },
        "xaxis": {
         "anchor": "y",
         "domain": [
          0,
          1
         ],
         "title": {
          "text": "date"
         }
        },
        "yaxis": {
         "anchor": "x",
         "domain": [
          0,
          1
         ],
         "title": {
          "text": "value"
         }
        }
       }
      }
     },
     "metadata": {},
     "output_type": "display_data"
    }
   ],
   "source": [
    "fig = px.line(y_april, x=y_april.index, y=y_april.columns[0:3])\n",
    "fig.show()"
   ]
  },
  {
   "cell_type": "code",
   "execution_count": 29,
   "metadata": {},
   "outputs": [
    {
     "data": {
      "application/vnd.plotly.v1+json": {
       "config": {
        "plotlyServerURL": "https://plot.ly"
       },
       "data": [
        {
         "hovertemplate": "variable=Actual<br>date=%{x}<br>value=%{y}<extra></extra>",
         "legendgroup": "Actual",
         "line": {
          "color": "#636efa",
          "dash": "solid"
         },
         "marker": {
          "symbol": "circle"
         },
         "mode": "lines",
         "name": "Actual",
         "orientation": "v",
         "showlegend": true,
         "type": "scatter",
         "x": [
          "2022-01-01",
          "2022-01-02",
          "2022-01-03",
          "2022-01-04",
          "2022-01-05",
          "2022-01-06",
          "2022-01-07",
          "2022-01-08",
          "2022-01-09",
          "2022-01-10",
          "2022-01-11",
          "2022-01-12",
          "2022-01-13",
          "2022-01-14",
          "2022-01-15",
          "2022-01-16",
          "2022-01-17",
          "2022-01-18",
          "2022-01-19",
          "2022-01-20",
          "2022-01-21",
          "2022-01-22",
          "2022-01-23",
          "2022-01-24",
          "2022-01-25",
          "2022-01-26",
          "2022-01-27",
          "2022-01-28",
          "2022-01-29",
          "2022-01-30"
         ],
         "xaxis": "x",
         "y": [
          47686.8125,
          47345.21875,
          46458.1171875,
          45897.57421875,
          43569.00390625,
          43160.9296875,
          41557.90234375,
          41733.94140625,
          41911.6015625,
          41821.26171875,
          42735.85546875,
          43949.1015625,
          42591.5703125,
          43099.69921875,
          43177.3984375,
          43113.87890625,
          42250.55078125,
          42375.6328125,
          41744.328125,
          40680.41796875,
          36457.31640625,
          35030.25,
          36276.8046875,
          36654.328125,
          36954.00390625,
          36852.12109375,
          37138.234375,
          37784.33203125,
          38138.1796875,
          37917.6015625
         ],
         "yaxis": "y"
        },
        {
         "hovertemplate": "variable=Forecast_30<br>date=%{x}<br>value=%{y}<extra></extra>",
         "legendgroup": "Forecast_30",
         "line": {
          "color": "#EF553B",
          "dash": "solid"
         },
         "marker": {
          "symbol": "circle"
         },
         "mode": "lines",
         "name": "Forecast_30",
         "orientation": "v",
         "showlegend": true,
         "type": "scatter",
         "x": [
          "2022-01-01",
          "2022-01-02",
          "2022-01-03",
          "2022-01-04",
          "2022-01-05",
          "2022-01-06",
          "2022-01-07",
          "2022-01-08",
          "2022-01-09",
          "2022-01-10",
          "2022-01-11",
          "2022-01-12",
          "2022-01-13",
          "2022-01-14",
          "2022-01-15",
          "2022-01-16",
          "2022-01-17",
          "2022-01-18",
          "2022-01-19",
          "2022-01-20",
          "2022-01-21",
          "2022-01-22",
          "2022-01-23",
          "2022-01-24",
          "2022-01-25",
          "2022-01-26",
          "2022-01-27",
          "2022-01-28",
          "2022-01-29",
          "2022-01-30"
         ],
         "xaxis": "x",
         "y": [
          55209.90239458104,
          53168.17135471192,
          45260.22753813536,
          47620.45264227425,
          48280.61722573199,
          50368.07676757068,
          48816.34002931581,
          47708.021776836176,
          48231.27061282591,
          47842.843894569894,
          49015.60620140036,
          46455.70179736336,
          47149.871015824436,
          47215.6946951932,
          47542.1654954975,
          45638.91791909955,
          45826.79267225434,
          46756.36460452626,
          45797.33846951797,
          47845.03994837467,
          48201.55553868365,
          49578.54501683885,
          50358.84818847051,
          49515.09738990217,
          49340.100655063805,
          50546.27116011489,
          47531.06194513033,
          46207.94238822238,
          46482.05323366847,
          46470.419258391084
         ],
         "yaxis": "y"
        }
       ],
       "layout": {
        "legend": {
         "title": {
          "text": "variable"
         },
         "tracegroupgap": 0
        },
        "margin": {
         "t": 60
        },
        "template": {
         "data": {
          "bar": [
           {
            "error_x": {
             "color": "#2a3f5f"
            },
            "error_y": {
             "color": "#2a3f5f"
            },
            "marker": {
             "line": {
              "color": "#E5ECF6",
              "width": 0.5
             },
             "pattern": {
              "fillmode": "overlay",
              "size": 10,
              "solidity": 0.2
             }
            },
            "type": "bar"
           }
          ],
          "barpolar": [
           {
            "marker": {
             "line": {
              "color": "#E5ECF6",
              "width": 0.5
             },
             "pattern": {
              "fillmode": "overlay",
              "size": 10,
              "solidity": 0.2
             }
            },
            "type": "barpolar"
           }
          ],
          "carpet": [
           {
            "aaxis": {
             "endlinecolor": "#2a3f5f",
             "gridcolor": "white",
             "linecolor": "white",
             "minorgridcolor": "white",
             "startlinecolor": "#2a3f5f"
            },
            "baxis": {
             "endlinecolor": "#2a3f5f",
             "gridcolor": "white",
             "linecolor": "white",
             "minorgridcolor": "white",
             "startlinecolor": "#2a3f5f"
            },
            "type": "carpet"
           }
          ],
          "choropleth": [
           {
            "colorbar": {
             "outlinewidth": 0,
             "ticks": ""
            },
            "type": "choropleth"
           }
          ],
          "contour": [
           {
            "colorbar": {
             "outlinewidth": 0,
             "ticks": ""
            },
            "colorscale": [
             [
              0,
              "#0d0887"
             ],
             [
              0.1111111111111111,
              "#46039f"
             ],
             [
              0.2222222222222222,
              "#7201a8"
             ],
             [
              0.3333333333333333,
              "#9c179e"
             ],
             [
              0.4444444444444444,
              "#bd3786"
             ],
             [
              0.5555555555555556,
              "#d8576b"
             ],
             [
              0.6666666666666666,
              "#ed7953"
             ],
             [
              0.7777777777777778,
              "#fb9f3a"
             ],
             [
              0.8888888888888888,
              "#fdca26"
             ],
             [
              1,
              "#f0f921"
             ]
            ],
            "type": "contour"
           }
          ],
          "contourcarpet": [
           {
            "colorbar": {
             "outlinewidth": 0,
             "ticks": ""
            },
            "type": "contourcarpet"
           }
          ],
          "heatmap": [
           {
            "colorbar": {
             "outlinewidth": 0,
             "ticks": ""
            },
            "colorscale": [
             [
              0,
              "#0d0887"
             ],
             [
              0.1111111111111111,
              "#46039f"
             ],
             [
              0.2222222222222222,
              "#7201a8"
             ],
             [
              0.3333333333333333,
              "#9c179e"
             ],
             [
              0.4444444444444444,
              "#bd3786"
             ],
             [
              0.5555555555555556,
              "#d8576b"
             ],
             [
              0.6666666666666666,
              "#ed7953"
             ],
             [
              0.7777777777777778,
              "#fb9f3a"
             ],
             [
              0.8888888888888888,
              "#fdca26"
             ],
             [
              1,
              "#f0f921"
             ]
            ],
            "type": "heatmap"
           }
          ],
          "heatmapgl": [
           {
            "colorbar": {
             "outlinewidth": 0,
             "ticks": ""
            },
            "colorscale": [
             [
              0,
              "#0d0887"
             ],
             [
              0.1111111111111111,
              "#46039f"
             ],
             [
              0.2222222222222222,
              "#7201a8"
             ],
             [
              0.3333333333333333,
              "#9c179e"
             ],
             [
              0.4444444444444444,
              "#bd3786"
             ],
             [
              0.5555555555555556,
              "#d8576b"
             ],
             [
              0.6666666666666666,
              "#ed7953"
             ],
             [
              0.7777777777777778,
              "#fb9f3a"
             ],
             [
              0.8888888888888888,
              "#fdca26"
             ],
             [
              1,
              "#f0f921"
             ]
            ],
            "type": "heatmapgl"
           }
          ],
          "histogram": [
           {
            "marker": {
             "pattern": {
              "fillmode": "overlay",
              "size": 10,
              "solidity": 0.2
             }
            },
            "type": "histogram"
           }
          ],
          "histogram2d": [
           {
            "colorbar": {
             "outlinewidth": 0,
             "ticks": ""
            },
            "colorscale": [
             [
              0,
              "#0d0887"
             ],
             [
              0.1111111111111111,
              "#46039f"
             ],
             [
              0.2222222222222222,
              "#7201a8"
             ],
             [
              0.3333333333333333,
              "#9c179e"
             ],
             [
              0.4444444444444444,
              "#bd3786"
             ],
             [
              0.5555555555555556,
              "#d8576b"
             ],
             [
              0.6666666666666666,
              "#ed7953"
             ],
             [
              0.7777777777777778,
              "#fb9f3a"
             ],
             [
              0.8888888888888888,
              "#fdca26"
             ],
             [
              1,
              "#f0f921"
             ]
            ],
            "type": "histogram2d"
           }
          ],
          "histogram2dcontour": [
           {
            "colorbar": {
             "outlinewidth": 0,
             "ticks": ""
            },
            "colorscale": [
             [
              0,
              "#0d0887"
             ],
             [
              0.1111111111111111,
              "#46039f"
             ],
             [
              0.2222222222222222,
              "#7201a8"
             ],
             [
              0.3333333333333333,
              "#9c179e"
             ],
             [
              0.4444444444444444,
              "#bd3786"
             ],
             [
              0.5555555555555556,
              "#d8576b"
             ],
             [
              0.6666666666666666,
              "#ed7953"
             ],
             [
              0.7777777777777778,
              "#fb9f3a"
             ],
             [
              0.8888888888888888,
              "#fdca26"
             ],
             [
              1,
              "#f0f921"
             ]
            ],
            "type": "histogram2dcontour"
           }
          ],
          "mesh3d": [
           {
            "colorbar": {
             "outlinewidth": 0,
             "ticks": ""
            },
            "type": "mesh3d"
           }
          ],
          "parcoords": [
           {
            "line": {
             "colorbar": {
              "outlinewidth": 0,
              "ticks": ""
             }
            },
            "type": "parcoords"
           }
          ],
          "pie": [
           {
            "automargin": true,
            "type": "pie"
           }
          ],
          "scatter": [
           {
            "fillpattern": {
             "fillmode": "overlay",
             "size": 10,
             "solidity": 0.2
            },
            "type": "scatter"
           }
          ],
          "scatter3d": [
           {
            "line": {
             "colorbar": {
              "outlinewidth": 0,
              "ticks": ""
             }
            },
            "marker": {
             "colorbar": {
              "outlinewidth": 0,
              "ticks": ""
             }
            },
            "type": "scatter3d"
           }
          ],
          "scattercarpet": [
           {
            "marker": {
             "colorbar": {
              "outlinewidth": 0,
              "ticks": ""
             }
            },
            "type": "scattercarpet"
           }
          ],
          "scattergeo": [
           {
            "marker": {
             "colorbar": {
              "outlinewidth": 0,
              "ticks": ""
             }
            },
            "type": "scattergeo"
           }
          ],
          "scattergl": [
           {
            "marker": {
             "colorbar": {
              "outlinewidth": 0,
              "ticks": ""
             }
            },
            "type": "scattergl"
           }
          ],
          "scattermapbox": [
           {
            "marker": {
             "colorbar": {
              "outlinewidth": 0,
              "ticks": ""
             }
            },
            "type": "scattermapbox"
           }
          ],
          "scatterpolar": [
           {
            "marker": {
             "colorbar": {
              "outlinewidth": 0,
              "ticks": ""
             }
            },
            "type": "scatterpolar"
           }
          ],
          "scatterpolargl": [
           {
            "marker": {
             "colorbar": {
              "outlinewidth": 0,
              "ticks": ""
             }
            },
            "type": "scatterpolargl"
           }
          ],
          "scatterternary": [
           {
            "marker": {
             "colorbar": {
              "outlinewidth": 0,
              "ticks": ""
             }
            },
            "type": "scatterternary"
           }
          ],
          "surface": [
           {
            "colorbar": {
             "outlinewidth": 0,
             "ticks": ""
            },
            "colorscale": [
             [
              0,
              "#0d0887"
             ],
             [
              0.1111111111111111,
              "#46039f"
             ],
             [
              0.2222222222222222,
              "#7201a8"
             ],
             [
              0.3333333333333333,
              "#9c179e"
             ],
             [
              0.4444444444444444,
              "#bd3786"
             ],
             [
              0.5555555555555556,
              "#d8576b"
             ],
             [
              0.6666666666666666,
              "#ed7953"
             ],
             [
              0.7777777777777778,
              "#fb9f3a"
             ],
             [
              0.8888888888888888,
              "#fdca26"
             ],
             [
              1,
              "#f0f921"
             ]
            ],
            "type": "surface"
           }
          ],
          "table": [
           {
            "cells": {
             "fill": {
              "color": "#EBF0F8"
             },
             "line": {
              "color": "white"
             }
            },
            "header": {
             "fill": {
              "color": "#C8D4E3"
             },
             "line": {
              "color": "white"
             }
            },
            "type": "table"
           }
          ]
         },
         "layout": {
          "annotationdefaults": {
           "arrowcolor": "#2a3f5f",
           "arrowhead": 0,
           "arrowwidth": 1
          },
          "autotypenumbers": "strict",
          "coloraxis": {
           "colorbar": {
            "outlinewidth": 0,
            "ticks": ""
           }
          },
          "colorscale": {
           "diverging": [
            [
             0,
             "#8e0152"
            ],
            [
             0.1,
             "#c51b7d"
            ],
            [
             0.2,
             "#de77ae"
            ],
            [
             0.3,
             "#f1b6da"
            ],
            [
             0.4,
             "#fde0ef"
            ],
            [
             0.5,
             "#f7f7f7"
            ],
            [
             0.6,
             "#e6f5d0"
            ],
            [
             0.7,
             "#b8e186"
            ],
            [
             0.8,
             "#7fbc41"
            ],
            [
             0.9,
             "#4d9221"
            ],
            [
             1,
             "#276419"
            ]
           ],
           "sequential": [
            [
             0,
             "#0d0887"
            ],
            [
             0.1111111111111111,
             "#46039f"
            ],
            [
             0.2222222222222222,
             "#7201a8"
            ],
            [
             0.3333333333333333,
             "#9c179e"
            ],
            [
             0.4444444444444444,
             "#bd3786"
            ],
            [
             0.5555555555555556,
             "#d8576b"
            ],
            [
             0.6666666666666666,
             "#ed7953"
            ],
            [
             0.7777777777777778,
             "#fb9f3a"
            ],
            [
             0.8888888888888888,
             "#fdca26"
            ],
            [
             1,
             "#f0f921"
            ]
           ],
           "sequentialminus": [
            [
             0,
             "#0d0887"
            ],
            [
             0.1111111111111111,
             "#46039f"
            ],
            [
             0.2222222222222222,
             "#7201a8"
            ],
            [
             0.3333333333333333,
             "#9c179e"
            ],
            [
             0.4444444444444444,
             "#bd3786"
            ],
            [
             0.5555555555555556,
             "#d8576b"
            ],
            [
             0.6666666666666666,
             "#ed7953"
            ],
            [
             0.7777777777777778,
             "#fb9f3a"
            ],
            [
             0.8888888888888888,
             "#fdca26"
            ],
            [
             1,
             "#f0f921"
            ]
           ]
          },
          "colorway": [
           "#636efa",
           "#EF553B",
           "#00cc96",
           "#ab63fa",
           "#FFA15A",
           "#19d3f3",
           "#FF6692",
           "#B6E880",
           "#FF97FF",
           "#FECB52"
          ],
          "font": {
           "color": "#2a3f5f"
          },
          "geo": {
           "bgcolor": "white",
           "lakecolor": "white",
           "landcolor": "#E5ECF6",
           "showlakes": true,
           "showland": true,
           "subunitcolor": "white"
          },
          "hoverlabel": {
           "align": "left"
          },
          "hovermode": "closest",
          "mapbox": {
           "style": "light"
          },
          "paper_bgcolor": "white",
          "plot_bgcolor": "#E5ECF6",
          "polar": {
           "angularaxis": {
            "gridcolor": "white",
            "linecolor": "white",
            "ticks": ""
           },
           "bgcolor": "#E5ECF6",
           "radialaxis": {
            "gridcolor": "white",
            "linecolor": "white",
            "ticks": ""
           }
          },
          "scene": {
           "xaxis": {
            "backgroundcolor": "#E5ECF6",
            "gridcolor": "white",
            "gridwidth": 2,
            "linecolor": "white",
            "showbackground": true,
            "ticks": "",
            "zerolinecolor": "white"
           },
           "yaxis": {
            "backgroundcolor": "#E5ECF6",
            "gridcolor": "white",
            "gridwidth": 2,
            "linecolor": "white",
            "showbackground": true,
            "ticks": "",
            "zerolinecolor": "white"
           },
           "zaxis": {
            "backgroundcolor": "#E5ECF6",
            "gridcolor": "white",
            "gridwidth": 2,
            "linecolor": "white",
            "showbackground": true,
            "ticks": "",
            "zerolinecolor": "white"
           }
          },
          "shapedefaults": {
           "line": {
            "color": "#2a3f5f"
           }
          },
          "ternary": {
           "aaxis": {
            "gridcolor": "white",
            "linecolor": "white",
            "ticks": ""
           },
           "baxis": {
            "gridcolor": "white",
            "linecolor": "white",
            "ticks": ""
           },
           "bgcolor": "#E5ECF6",
           "caxis": {
            "gridcolor": "white",
            "linecolor": "white",
            "ticks": ""
           }
          },
          "title": {
           "x": 0.05
          },
          "xaxis": {
           "automargin": true,
           "gridcolor": "white",
           "linecolor": "white",
           "ticks": "",
           "title": {
            "standoff": 15
           },
           "zerolinecolor": "white",
           "zerolinewidth": 2
          },
          "yaxis": {
           "automargin": true,
           "gridcolor": "white",
           "linecolor": "white",
           "ticks": "",
           "title": {
            "standoff": 15
           },
           "zerolinecolor": "white",
           "zerolinewidth": 2
          }
         }
        },
        "xaxis": {
         "anchor": "y",
         "domain": [
          0,
          1
         ],
         "title": {
          "text": "date"
         }
        },
        "yaxis": {
         "anchor": "x",
         "domain": [
          0,
          1
         ],
         "title": {
          "text": "value"
         }
        }
       }
      }
     },
     "metadata": {},
     "output_type": "display_data"
    }
   ],
   "source": [
    "fig = px.line(y_april, x=y_april.index, y=y_april.columns[0:2])\n",
    "fig.show()"
   ]
  },
  {
   "cell_type": "markdown",
   "metadata": {},
   "source": [
    "This proves that the model was not replicating the patterns it learnt during fitting the model. <br> It has learned the dataset well, however it was unable to capture the trend of the prices."
   ]
  },
  {
   "cell_type": "code",
   "execution_count": 28,
   "metadata": {},
   "outputs": [
    {
     "data": {
      "application/vnd.plotly.v1+json": {
       "config": {
        "plotlyServerURL": "https://plot.ly"
       },
       "data": [
        {
         "hovertemplate": "variable=Actual<br>date=%{x}<br>value=%{y}<extra></extra>",
         "legendgroup": "Actual",
         "line": {
          "color": "#636efa",
          "dash": "solid"
         },
         "marker": {
          "symbol": "circle"
         },
         "mode": "lines",
         "name": "Actual",
         "orientation": "v",
         "showlegend": true,
         "type": "scatter",
         "x": [
          "2022-01-01",
          "2022-01-02",
          "2022-01-03",
          "2022-01-04",
          "2022-01-05",
          "2022-01-06",
          "2022-01-07",
          "2022-01-08",
          "2022-01-09",
          "2022-01-10",
          "2022-01-11",
          "2022-01-12",
          "2022-01-13",
          "2022-01-14",
          "2022-01-15",
          "2022-01-16",
          "2022-01-17",
          "2022-01-18",
          "2022-01-19",
          "2022-01-20",
          "2022-01-21",
          "2022-01-22",
          "2022-01-23",
          "2022-01-24",
          "2022-01-25",
          "2022-01-26",
          "2022-01-27",
          "2022-01-28",
          "2022-01-29",
          "2022-01-30"
         ],
         "xaxis": "x",
         "y": [
          47686.8125,
          47345.21875,
          46458.1171875,
          45897.57421875,
          43569.00390625,
          43160.9296875,
          41557.90234375,
          41733.94140625,
          41911.6015625,
          41821.26171875,
          42735.85546875,
          43949.1015625,
          42591.5703125,
          43099.69921875,
          43177.3984375,
          43113.87890625,
          42250.55078125,
          42375.6328125,
          41744.328125,
          40680.41796875,
          36457.31640625,
          35030.25,
          36276.8046875,
          36654.328125,
          36954.00390625,
          36852.12109375,
          37138.234375,
          37784.33203125,
          38138.1796875,
          37917.6015625
         ],
         "yaxis": "y"
        },
        {
         "hovertemplate": "variable=Forecast_30<br>date=%{x}<br>value=%{y}<extra></extra>",
         "legendgroup": "Forecast_30",
         "line": {
          "color": "#EF553B",
          "dash": "solid"
         },
         "marker": {
          "symbol": "circle"
         },
         "mode": "lines",
         "name": "Forecast_30",
         "orientation": "v",
         "showlegend": true,
         "type": "scatter",
         "x": [
          "2022-01-01",
          "2022-01-02",
          "2022-01-03",
          "2022-01-04",
          "2022-01-05",
          "2022-01-06",
          "2022-01-07",
          "2022-01-08",
          "2022-01-09",
          "2022-01-10",
          "2022-01-11",
          "2022-01-12",
          "2022-01-13",
          "2022-01-14",
          "2022-01-15",
          "2022-01-16",
          "2022-01-17",
          "2022-01-18",
          "2022-01-19",
          "2022-01-20",
          "2022-01-21",
          "2022-01-22",
          "2022-01-23",
          "2022-01-24",
          "2022-01-25",
          "2022-01-26",
          "2022-01-27",
          "2022-01-28",
          "2022-01-29",
          "2022-01-30"
         ],
         "xaxis": "x",
         "y": [
          55209.90239458104,
          53168.17135471192,
          45260.22753813536,
          47620.45264227425,
          48280.61722573199,
          50368.07676757068,
          48816.34002931581,
          47708.021776836176,
          48231.27061282591,
          47842.843894569894,
          49015.60620140036,
          46455.70179736336,
          47149.871015824436,
          47215.6946951932,
          47542.1654954975,
          45638.91791909955,
          45826.79267225434,
          46756.36460452626,
          45797.33846951797,
          47845.03994837467,
          48201.55553868365,
          49578.54501683885,
          50358.84818847051,
          49515.09738990217,
          49340.100655063805,
          50546.27116011489,
          47531.06194513033,
          46207.94238822238,
          46482.05323366847,
          46470.419258391084
         ],
         "yaxis": "y"
        }
       ],
       "layout": {
        "legend": {
         "title": {
          "text": "variable"
         },
         "tracegroupgap": 0
        },
        "margin": {
         "t": 60
        },
        "template": {
         "data": {
          "bar": [
           {
            "error_x": {
             "color": "#2a3f5f"
            },
            "error_y": {
             "color": "#2a3f5f"
            },
            "marker": {
             "line": {
              "color": "#E5ECF6",
              "width": 0.5
             },
             "pattern": {
              "fillmode": "overlay",
              "size": 10,
              "solidity": 0.2
             }
            },
            "type": "bar"
           }
          ],
          "barpolar": [
           {
            "marker": {
             "line": {
              "color": "#E5ECF6",
              "width": 0.5
             },
             "pattern": {
              "fillmode": "overlay",
              "size": 10,
              "solidity": 0.2
             }
            },
            "type": "barpolar"
           }
          ],
          "carpet": [
           {
            "aaxis": {
             "endlinecolor": "#2a3f5f",
             "gridcolor": "white",
             "linecolor": "white",
             "minorgridcolor": "white",
             "startlinecolor": "#2a3f5f"
            },
            "baxis": {
             "endlinecolor": "#2a3f5f",
             "gridcolor": "white",
             "linecolor": "white",
             "minorgridcolor": "white",
             "startlinecolor": "#2a3f5f"
            },
            "type": "carpet"
           }
          ],
          "choropleth": [
           {
            "colorbar": {
             "outlinewidth": 0,
             "ticks": ""
            },
            "type": "choropleth"
           }
          ],
          "contour": [
           {
            "colorbar": {
             "outlinewidth": 0,
             "ticks": ""
            },
            "colorscale": [
             [
              0,
              "#0d0887"
             ],
             [
              0.1111111111111111,
              "#46039f"
             ],
             [
              0.2222222222222222,
              "#7201a8"
             ],
             [
              0.3333333333333333,
              "#9c179e"
             ],
             [
              0.4444444444444444,
              "#bd3786"
             ],
             [
              0.5555555555555556,
              "#d8576b"
             ],
             [
              0.6666666666666666,
              "#ed7953"
             ],
             [
              0.7777777777777778,
              "#fb9f3a"
             ],
             [
              0.8888888888888888,
              "#fdca26"
             ],
             [
              1,
              "#f0f921"
             ]
            ],
            "type": "contour"
           }
          ],
          "contourcarpet": [
           {
            "colorbar": {
             "outlinewidth": 0,
             "ticks": ""
            },
            "type": "contourcarpet"
           }
          ],
          "heatmap": [
           {
            "colorbar": {
             "outlinewidth": 0,
             "ticks": ""
            },
            "colorscale": [
             [
              0,
              "#0d0887"
             ],
             [
              0.1111111111111111,
              "#46039f"
             ],
             [
              0.2222222222222222,
              "#7201a8"
             ],
             [
              0.3333333333333333,
              "#9c179e"
             ],
             [
              0.4444444444444444,
              "#bd3786"
             ],
             [
              0.5555555555555556,
              "#d8576b"
             ],
             [
              0.6666666666666666,
              "#ed7953"
             ],
             [
              0.7777777777777778,
              "#fb9f3a"
             ],
             [
              0.8888888888888888,
              "#fdca26"
             ],
             [
              1,
              "#f0f921"
             ]
            ],
            "type": "heatmap"
           }
          ],
          "heatmapgl": [
           {
            "colorbar": {
             "outlinewidth": 0,
             "ticks": ""
            },
            "colorscale": [
             [
              0,
              "#0d0887"
             ],
             [
              0.1111111111111111,
              "#46039f"
             ],
             [
              0.2222222222222222,
              "#7201a8"
             ],
             [
              0.3333333333333333,
              "#9c179e"
             ],
             [
              0.4444444444444444,
              "#bd3786"
             ],
             [
              0.5555555555555556,
              "#d8576b"
             ],
             [
              0.6666666666666666,
              "#ed7953"
             ],
             [
              0.7777777777777778,
              "#fb9f3a"
             ],
             [
              0.8888888888888888,
              "#fdca26"
             ],
             [
              1,
              "#f0f921"
             ]
            ],
            "type": "heatmapgl"
           }
          ],
          "histogram": [
           {
            "marker": {
             "pattern": {
              "fillmode": "overlay",
              "size": 10,
              "solidity": 0.2
             }
            },
            "type": "histogram"
           }
          ],
          "histogram2d": [
           {
            "colorbar": {
             "outlinewidth": 0,
             "ticks": ""
            },
            "colorscale": [
             [
              0,
              "#0d0887"
             ],
             [
              0.1111111111111111,
              "#46039f"
             ],
             [
              0.2222222222222222,
              "#7201a8"
             ],
             [
              0.3333333333333333,
              "#9c179e"
             ],
             [
              0.4444444444444444,
              "#bd3786"
             ],
             [
              0.5555555555555556,
              "#d8576b"
             ],
             [
              0.6666666666666666,
              "#ed7953"
             ],
             [
              0.7777777777777778,
              "#fb9f3a"
             ],
             [
              0.8888888888888888,
              "#fdca26"
             ],
             [
              1,
              "#f0f921"
             ]
            ],
            "type": "histogram2d"
           }
          ],
          "histogram2dcontour": [
           {
            "colorbar": {
             "outlinewidth": 0,
             "ticks": ""
            },
            "colorscale": [
             [
              0,
              "#0d0887"
             ],
             [
              0.1111111111111111,
              "#46039f"
             ],
             [
              0.2222222222222222,
              "#7201a8"
             ],
             [
              0.3333333333333333,
              "#9c179e"
             ],
             [
              0.4444444444444444,
              "#bd3786"
             ],
             [
              0.5555555555555556,
              "#d8576b"
             ],
             [
              0.6666666666666666,
              "#ed7953"
             ],
             [
              0.7777777777777778,
              "#fb9f3a"
             ],
             [
              0.8888888888888888,
              "#fdca26"
             ],
             [
              1,
              "#f0f921"
             ]
            ],
            "type": "histogram2dcontour"
           }
          ],
          "mesh3d": [
           {
            "colorbar": {
             "outlinewidth": 0,
             "ticks": ""
            },
            "type": "mesh3d"
           }
          ],
          "parcoords": [
           {
            "line": {
             "colorbar": {
              "outlinewidth": 0,
              "ticks": ""
             }
            },
            "type": "parcoords"
           }
          ],
          "pie": [
           {
            "automargin": true,
            "type": "pie"
           }
          ],
          "scatter": [
           {
            "fillpattern": {
             "fillmode": "overlay",
             "size": 10,
             "solidity": 0.2
            },
            "type": "scatter"
           }
          ],
          "scatter3d": [
           {
            "line": {
             "colorbar": {
              "outlinewidth": 0,
              "ticks": ""
             }
            },
            "marker": {
             "colorbar": {
              "outlinewidth": 0,
              "ticks": ""
             }
            },
            "type": "scatter3d"
           }
          ],
          "scattercarpet": [
           {
            "marker": {
             "colorbar": {
              "outlinewidth": 0,
              "ticks": ""
             }
            },
            "type": "scattercarpet"
           }
          ],
          "scattergeo": [
           {
            "marker": {
             "colorbar": {
              "outlinewidth": 0,
              "ticks": ""
             }
            },
            "type": "scattergeo"
           }
          ],
          "scattergl": [
           {
            "marker": {
             "colorbar": {
              "outlinewidth": 0,
              "ticks": ""
             }
            },
            "type": "scattergl"
           }
          ],
          "scattermapbox": [
           {
            "marker": {
             "colorbar": {
              "outlinewidth": 0,
              "ticks": ""
             }
            },
            "type": "scattermapbox"
           }
          ],
          "scatterpolar": [
           {
            "marker": {
             "colorbar": {
              "outlinewidth": 0,
              "ticks": ""
             }
            },
            "type": "scatterpolar"
           }
          ],
          "scatterpolargl": [
           {
            "marker": {
             "colorbar": {
              "outlinewidth": 0,
              "ticks": ""
             }
            },
            "type": "scatterpolargl"
           }
          ],
          "scatterternary": [
           {
            "marker": {
             "colorbar": {
              "outlinewidth": 0,
              "ticks": ""
             }
            },
            "type": "scatterternary"
           }
          ],
          "surface": [
           {
            "colorbar": {
             "outlinewidth": 0,
             "ticks": ""
            },
            "colorscale": [
             [
              0,
              "#0d0887"
             ],
             [
              0.1111111111111111,
              "#46039f"
             ],
             [
              0.2222222222222222,
              "#7201a8"
             ],
             [
              0.3333333333333333,
              "#9c179e"
             ],
             [
              0.4444444444444444,
              "#bd3786"
             ],
             [
              0.5555555555555556,
              "#d8576b"
             ],
             [
              0.6666666666666666,
              "#ed7953"
             ],
             [
              0.7777777777777778,
              "#fb9f3a"
             ],
             [
              0.8888888888888888,
              "#fdca26"
             ],
             [
              1,
              "#f0f921"
             ]
            ],
            "type": "surface"
           }
          ],
          "table": [
           {
            "cells": {
             "fill": {
              "color": "#EBF0F8"
             },
             "line": {
              "color": "white"
             }
            },
            "header": {
             "fill": {
              "color": "#C8D4E3"
             },
             "line": {
              "color": "white"
             }
            },
            "type": "table"
           }
          ]
         },
         "layout": {
          "annotationdefaults": {
           "arrowcolor": "#2a3f5f",
           "arrowhead": 0,
           "arrowwidth": 1
          },
          "autotypenumbers": "strict",
          "coloraxis": {
           "colorbar": {
            "outlinewidth": 0,
            "ticks": ""
           }
          },
          "colorscale": {
           "diverging": [
            [
             0,
             "#8e0152"
            ],
            [
             0.1,
             "#c51b7d"
            ],
            [
             0.2,
             "#de77ae"
            ],
            [
             0.3,
             "#f1b6da"
            ],
            [
             0.4,
             "#fde0ef"
            ],
            [
             0.5,
             "#f7f7f7"
            ],
            [
             0.6,
             "#e6f5d0"
            ],
            [
             0.7,
             "#b8e186"
            ],
            [
             0.8,
             "#7fbc41"
            ],
            [
             0.9,
             "#4d9221"
            ],
            [
             1,
             "#276419"
            ]
           ],
           "sequential": [
            [
             0,
             "#0d0887"
            ],
            [
             0.1111111111111111,
             "#46039f"
            ],
            [
             0.2222222222222222,
             "#7201a8"
            ],
            [
             0.3333333333333333,
             "#9c179e"
            ],
            [
             0.4444444444444444,
             "#bd3786"
            ],
            [
             0.5555555555555556,
             "#d8576b"
            ],
            [
             0.6666666666666666,
             "#ed7953"
            ],
            [
             0.7777777777777778,
             "#fb9f3a"
            ],
            [
             0.8888888888888888,
             "#fdca26"
            ],
            [
             1,
             "#f0f921"
            ]
           ],
           "sequentialminus": [
            [
             0,
             "#0d0887"
            ],
            [
             0.1111111111111111,
             "#46039f"
            ],
            [
             0.2222222222222222,
             "#7201a8"
            ],
            [
             0.3333333333333333,
             "#9c179e"
            ],
            [
             0.4444444444444444,
             "#bd3786"
            ],
            [
             0.5555555555555556,
             "#d8576b"
            ],
            [
             0.6666666666666666,
             "#ed7953"
            ],
            [
             0.7777777777777778,
             "#fb9f3a"
            ],
            [
             0.8888888888888888,
             "#fdca26"
            ],
            [
             1,
             "#f0f921"
            ]
           ]
          },
          "colorway": [
           "#636efa",
           "#EF553B",
           "#00cc96",
           "#ab63fa",
           "#FFA15A",
           "#19d3f3",
           "#FF6692",
           "#B6E880",
           "#FF97FF",
           "#FECB52"
          ],
          "font": {
           "color": "#2a3f5f"
          },
          "geo": {
           "bgcolor": "white",
           "lakecolor": "white",
           "landcolor": "#E5ECF6",
           "showlakes": true,
           "showland": true,
           "subunitcolor": "white"
          },
          "hoverlabel": {
           "align": "left"
          },
          "hovermode": "closest",
          "mapbox": {
           "style": "light"
          },
          "paper_bgcolor": "white",
          "plot_bgcolor": "#E5ECF6",
          "polar": {
           "angularaxis": {
            "gridcolor": "white",
            "linecolor": "white",
            "ticks": ""
           },
           "bgcolor": "#E5ECF6",
           "radialaxis": {
            "gridcolor": "white",
            "linecolor": "white",
            "ticks": ""
           }
          },
          "scene": {
           "xaxis": {
            "backgroundcolor": "#E5ECF6",
            "gridcolor": "white",
            "gridwidth": 2,
            "linecolor": "white",
            "showbackground": true,
            "ticks": "",
            "zerolinecolor": "white"
           },
           "yaxis": {
            "backgroundcolor": "#E5ECF6",
            "gridcolor": "white",
            "gridwidth": 2,
            "linecolor": "white",
            "showbackground": true,
            "ticks": "",
            "zerolinecolor": "white"
           },
           "zaxis": {
            "backgroundcolor": "#E5ECF6",
            "gridcolor": "white",
            "gridwidth": 2,
            "linecolor": "white",
            "showbackground": true,
            "ticks": "",
            "zerolinecolor": "white"
           }
          },
          "shapedefaults": {
           "line": {
            "color": "#2a3f5f"
           }
          },
          "ternary": {
           "aaxis": {
            "gridcolor": "white",
            "linecolor": "white",
            "ticks": ""
           },
           "baxis": {
            "gridcolor": "white",
            "linecolor": "white",
            "ticks": ""
           },
           "bgcolor": "#E5ECF6",
           "caxis": {
            "gridcolor": "white",
            "linecolor": "white",
            "ticks": ""
           }
          },
          "title": {
           "x": 0.05
          },
          "xaxis": {
           "automargin": true,
           "gridcolor": "white",
           "linecolor": "white",
           "ticks": "",
           "title": {
            "standoff": 15
           },
           "zerolinecolor": "white",
           "zerolinewidth": 2
          },
          "yaxis": {
           "automargin": true,
           "gridcolor": "white",
           "linecolor": "white",
           "ticks": "",
           "title": {
            "standoff": 15
           },
           "zerolinecolor": "white",
           "zerolinewidth": 2
          }
         }
        },
        "xaxis": {
         "anchor": "y",
         "domain": [
          0,
          1
         ],
         "title": {
          "text": "date"
         }
        },
        "yaxis": {
         "anchor": "x",
         "domain": [
          0,
          1
         ],
         "title": {
          "text": "value"
         }
        }
       }
      }
     },
     "metadata": {},
     "output_type": "display_data"
    }
   ],
   "source": []
  }
 ],
 "metadata": {
  "interpreter": {
   "hash": "1ce70e7fb09d93846fb9da31c8ffeaa9e6be9e848f96b1b1e309019ff423a0ff"
  },
  "kernelspec": {
   "display_name": "Python 3.8.12 ('ML')",
   "language": "python",
   "name": "python3"
  },
  "language_info": {
   "codemirror_mode": {
    "name": "ipython",
    "version": 3
   },
   "file_extension": ".py",
   "mimetype": "text/x-python",
   "name": "python",
   "nbconvert_exporter": "python",
   "pygments_lexer": "ipython3",
   "version": "3.8.12"
  },
  "orig_nbformat": 4
 },
 "nbformat": 4,
 "nbformat_minor": 2
}
