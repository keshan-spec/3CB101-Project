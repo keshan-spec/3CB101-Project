{
 "cells": [
  {
   "cell_type": "code",
   "execution_count": 1,
   "metadata": {},
   "outputs": [],
   "source": [
    "from matplotlib import pyplot as plt\n",
    "import numpy as np\n",
    "import pandas as pd\n",
    "import warnings\n",
    "import seaborn as sns\n",
    "\n",
    "sns.set(style=\"whitegrid\")\n",
    "warnings.filterwarnings(\"ignore\")"
   ]
  },
  {
   "cell_type": "code",
   "execution_count": 3,
   "metadata": {},
   "outputs": [],
   "source": [
    "import yfinance as yf\n",
    "from datetime import date\n",
    "\n",
    "# get new data from yahoo finance\n",
    "def get_new_data(ticker, start_date, end_date=date.today()):\n",
    "    data = yf.download(ticker, start=start_date, end=end_date, progress=False)\n",
    "    return data\n",
    "\n",
    "def get_prediction(model, X, scaler):\n",
    "    # make predictions\n",
    "    predictions = model.predict(X)\n",
    "    # inverse transform predictions\n",
    "    inv_predictions = inverse_transform(predictions, scaler)\n",
    "    return inv_predictions\n",
    "\n",
    "\n",
    "def inverse_transform(X, scaler, features=15):\n",
    "    # Get something which has as many features as dataset\n",
    "    extended = np.zeros((len(X), features))\n",
    "    # Put the predictions there\n",
    "    extended[:, 0:] = X\n",
    "    # Inverse transform it and select the 3rd column.\n",
    "    return scaler.inverse_transform(extended)[:, 0]\n",
    "\n",
    "# convert an array of values into a dataset matrix\n",
    "def create_dataset(dataset, look_back=1):\n",
    "    dataX, dataY = [], []\n",
    "    for i in range(len(dataset) - look_back - 1):\n",
    "        a = dataset[i:(i + look_back), 1:]\n",
    "        dataX.append(a)\n",
    "        dataY.append(dataset[i + look_back, 0])\n",
    "    return np.array(dataX), np.array(dataY)\n",
    "\n",
    "\n",
    "\n",
    "def forecast_accuracy(forecast, actual):\n",
    "    # code from : https://www.machinelearningplus.com/time-series/arima-model-time-series-forecasting-python/\n",
    "    mape = np.mean(np.abs(forecast - actual)/np.abs(actual))  # MAPE\n",
    "    mae = np.mean(np.abs(forecast - actual))    # MAE\n",
    "    rmse = np.mean((forecast - actual)**2)**.5  # RMSE\n",
    "    return({'mape': str(round(mape*100, 3))+\"%\", 'mae': mae, 'rmse': rmse})"
   ]
  },
  {
   "cell_type": "markdown",
   "metadata": {},
   "source": [
    "Load all datasets"
   ]
  },
  {
   "cell_type": "code",
   "execution_count": 4,
   "metadata": {},
   "outputs": [
    {
     "data": {
      "text/html": [
       "<div>\n",
       "<style scoped>\n",
       "    .dataframe tbody tr th:only-of-type {\n",
       "        vertical-align: middle;\n",
       "    }\n",
       "\n",
       "    .dataframe tbody tr th {\n",
       "        vertical-align: top;\n",
       "    }\n",
       "\n",
       "    .dataframe thead th {\n",
       "        text-align: right;\n",
       "    }\n",
       "</style>\n",
       "<table border=\"1\" class=\"dataframe\">\n",
       "  <thead>\n",
       "    <tr style=\"text-align: right;\">\n",
       "      <th></th>\n",
       "      <th>close</th>\n",
       "      <th>open</th>\n",
       "      <th>high</th>\n",
       "      <th>low</th>\n",
       "      <th>estimated-transaction-volume-usd</th>\n",
       "      <th>n-transactions</th>\n",
       "      <th>hash-rate</th>\n",
       "      <th>difficulty</th>\n",
       "      <th>cost-per-transaction</th>\n",
       "      <th>Gold price</th>\n",
       "      <th>output-volume</th>\n",
       "      <th>trade-volume</th>\n",
       "      <th>USD-CNY Price</th>\n",
       "      <th>SVI</th>\n",
       "      <th>Wikiviews</th>\n",
       "    </tr>\n",
       "  </thead>\n",
       "  <tbody>\n",
       "    <tr>\n",
       "      <th>2022-01-27</th>\n",
       "      <td>37197.821249</td>\n",
       "      <td>36828.097867</td>\n",
       "      <td>37242.500000</td>\n",
       "      <td>35550.000000</td>\n",
       "      <td>5.371982e+09</td>\n",
       "      <td>255925.0</td>\n",
       "      <td>1.735016e+08</td>\n",
       "      <td>2.664319e+13</td>\n",
       "      <td>118.110639</td>\n",
       "      <td>908.500000</td>\n",
       "      <td>3.990330e+06</td>\n",
       "      <td>4.394951e+08</td>\n",
       "      <td>6.364300</td>\n",
       "      <td>26.0</td>\n",
       "      <td>8992</td>\n",
       "    </tr>\n",
       "    <tr>\n",
       "      <th>2022-01-28</th>\n",
       "      <td>37748.360000</td>\n",
       "      <td>37197.309145</td>\n",
       "      <td>38008.201832</td>\n",
       "      <td>36183.200000</td>\n",
       "      <td>4.157373e+09</td>\n",
       "      <td>264609.0</td>\n",
       "      <td>2.039637e+08</td>\n",
       "      <td>2.664319e+13</td>\n",
       "      <td>136.551536</td>\n",
       "      <td>895.300000</td>\n",
       "      <td>4.246151e+06</td>\n",
       "      <td>3.436429e+08</td>\n",
       "      <td>6.360500</td>\n",
       "      <td>26.0</td>\n",
       "      <td>7954</td>\n",
       "    </tr>\n",
       "    <tr>\n",
       "      <th>2022-01-29</th>\n",
       "      <td>38176.097725</td>\n",
       "      <td>37748.360000</td>\n",
       "      <td>38716.700000</td>\n",
       "      <td>37353.500000</td>\n",
       "      <td>4.795237e+09</td>\n",
       "      <td>231038.0</td>\n",
       "      <td>1.973415e+08</td>\n",
       "      <td>2.664319e+13</td>\n",
       "      <td>154.451324</td>\n",
       "      <td>928.446667</td>\n",
       "      <td>3.909487e+06</td>\n",
       "      <td>2.523760e+08</td>\n",
       "      <td>6.362147</td>\n",
       "      <td>26.0</td>\n",
       "      <td>6512</td>\n",
       "    </tr>\n",
       "    <tr>\n",
       "      <th>2022-01-30</th>\n",
       "      <td>37928.575488</td>\n",
       "      <td>38176.886567</td>\n",
       "      <td>38353.300000</td>\n",
       "      <td>37389.000000</td>\n",
       "      <td>6.463008e+09</td>\n",
       "      <td>207173.0</td>\n",
       "      <td>1.933682e+08</td>\n",
       "      <td>2.664319e+13</td>\n",
       "      <td>171.438947</td>\n",
       "      <td>928.446667</td>\n",
       "      <td>3.771459e+06</td>\n",
       "      <td>1.472135e+08</td>\n",
       "      <td>6.362147</td>\n",
       "      <td>26.0</td>\n",
       "      <td>6409</td>\n",
       "    </tr>\n",
       "    <tr>\n",
       "      <th>2022-01-31</th>\n",
       "      <td>38499.876388</td>\n",
       "      <td>37925.166353</td>\n",
       "      <td>38741.679516</td>\n",
       "      <td>36681.035742</td>\n",
       "      <td>4.888914e+09</td>\n",
       "      <td>263410.0</td>\n",
       "      <td>1.893949e+08</td>\n",
       "      <td>2.664319e+13</td>\n",
       "      <td>129.530949</td>\n",
       "      <td>858.200000</td>\n",
       "      <td>3.931379e+06</td>\n",
       "      <td>8.741531e+07</td>\n",
       "      <td>6.361000</td>\n",
       "      <td>26.0</td>\n",
       "      <td>7157</td>\n",
       "    </tr>\n",
       "  </tbody>\n",
       "</table>\n",
       "</div>"
      ],
      "text/plain": [
       "                   close          open          high           low  \\\n",
       "2022-01-27  37197.821249  36828.097867  37242.500000  35550.000000   \n",
       "2022-01-28  37748.360000  37197.309145  38008.201832  36183.200000   \n",
       "2022-01-29  38176.097725  37748.360000  38716.700000  37353.500000   \n",
       "2022-01-30  37928.575488  38176.886567  38353.300000  37389.000000   \n",
       "2022-01-31  38499.876388  37925.166353  38741.679516  36681.035742   \n",
       "\n",
       "            estimated-transaction-volume-usd  n-transactions     hash-rate  \\\n",
       "2022-01-27                      5.371982e+09        255925.0  1.735016e+08   \n",
       "2022-01-28                      4.157373e+09        264609.0  2.039637e+08   \n",
       "2022-01-29                      4.795237e+09        231038.0  1.973415e+08   \n",
       "2022-01-30                      6.463008e+09        207173.0  1.933682e+08   \n",
       "2022-01-31                      4.888914e+09        263410.0  1.893949e+08   \n",
       "\n",
       "              difficulty  cost-per-transaction  Gold price  output-volume  \\\n",
       "2022-01-27  2.664319e+13            118.110639  908.500000   3.990330e+06   \n",
       "2022-01-28  2.664319e+13            136.551536  895.300000   4.246151e+06   \n",
       "2022-01-29  2.664319e+13            154.451324  928.446667   3.909487e+06   \n",
       "2022-01-30  2.664319e+13            171.438947  928.446667   3.771459e+06   \n",
       "2022-01-31  2.664319e+13            129.530949  858.200000   3.931379e+06   \n",
       "\n",
       "            trade-volume  USD-CNY Price   SVI  Wikiviews  \n",
       "2022-01-27  4.394951e+08       6.364300  26.0       8992  \n",
       "2022-01-28  3.436429e+08       6.360500  26.0       7954  \n",
       "2022-01-29  2.523760e+08       6.362147  26.0       6512  \n",
       "2022-01-30  1.472135e+08       6.362147  26.0       6409  \n",
       "2022-01-31  8.741531e+07       6.361000  26.0       7157  "
      ]
     },
     "execution_count": 4,
     "metadata": {},
     "output_type": "execute_result"
    }
   ],
   "source": [
    "# Load Data\n",
    "train_df = pd.read_csv(\"../data/complete-merged-df.csv\", index_col=0, parse_dates=True)\n",
    "test_df = pd.read_csv(\"../data/test-dataset.csv\", index_col=0, parse_dates=True)\n",
    "\n",
    "# concat the two dataframes\n",
    "full_df = pd.concat([train_df, test_df], axis=0)\n",
    "full_df.tail()"
   ]
  },
  {
   "cell_type": "code",
   "execution_count": 5,
   "metadata": {},
   "outputs": [],
   "source": [
    "future_df = get_new_data('BTC-USD', '2021-12-31')"
   ]
  },
  {
   "cell_type": "markdown",
   "metadata": {},
   "source": [
    "## Load Models"
   ]
  },
  {
   "cell_type": "code",
   "execution_count": 6,
   "metadata": {},
   "outputs": [
    {
     "name": "stdout",
     "output_type": "stream",
     "text": [
      "Model: \"sequential_5\"\n",
      "_________________________________________________________________\n",
      " Layer (type)                Output Shape              Param #   \n",
      "=================================================================\n",
      " lstm_7 (LSTM)               (None, 64)                20224     \n",
      "                                                                 \n",
      " dense_5 (Dense)             (None, 1)                 65        \n",
      "                                                                 \n",
      "=================================================================\n",
      "Total params: 20,289\n",
      "Trainable params: 20,289\n",
      "Non-trainable params: 0\n",
      "_________________________________________________________________\n"
     ]
    }
   ],
   "source": [
    "# load models\n",
    "from keras.models import load_model\n",
    "\n",
    "lstm_model = load_model('./saved_models/model3-5.756.h5')\n",
    "lstm_model.summary()"
   ]
  },
  {
   "cell_type": "code",
   "execution_count": 7,
   "metadata": {},
   "outputs": [
    {
     "data": {
      "image/png": "[encoded data removed]",
      "text/plain": [
       "<IPython.core.display.Image object>"
      ]
     },
     "execution_count": 7,
     "metadata": {},
     "output_type": "execute_result"
    }
   ],
   "source": [
    "# visualize the model\n",
    "from keras.utils.vis_utils import plot_model\n",
    "plot_model(lstm_model, show_shapes=True, show_layer_names=True)"
   ]
  },
  {
   "cell_type": "code",
   "execution_count": 6,
   "metadata": {},
   "outputs": [
    {
     "name": "stdout",
     "output_type": "stream",
     "text": [
      "You must install pydot (`pip install pydot`) and install graphviz (see instructions at https://graphviz.gitlab.io/download/) for plot_model/model_to_dot to work.\n"
     ]
    }
   ],
   "source": [
    "from keras.utils.vis_utils import plot_model\n",
    "plot_model(lstm_model, to_file='model_plot.png', show_shapes=True, show_layer_names=True)"
   ]
  },
  {
   "cell_type": "code",
   "execution_count": 30,
   "metadata": {},
   "outputs": [
    {
     "data": {
      "text/html": [
       "<table class=\"simpletable\">\n",
       "<caption>SARIMAX Results</caption>\n",
       "<tr>\n",
       "  <th>Dep. Variable:</th>         <td>close</td>      <th>  No. Observations:  </th>   <td>1460</td>   \n",
       "</tr>\n",
       "<tr>\n",
       "  <th>Model:</th>            <td>ARIMA(1, 1, 2)</td>  <th>  Log Likelihood     </th> <td>-9421.055</td>\n",
       "</tr>\n",
       "<tr>\n",
       "  <th>Date:</th>            <td>Fri, 06 May 2022</td> <th>  AIC                </th> <td>18872.110</td>\n",
       "</tr>\n",
       "<tr>\n",
       "  <th>Time:</th>                <td>12:51:27</td>     <th>  BIC                </th> <td>18951.392</td>\n",
       "</tr>\n",
       "<tr>\n",
       "  <th>Sample:</th>             <td>01-01-2017</td>    <th>  HQIC               </th> <td>18901.686</td>\n",
       "</tr>\n",
       "<tr>\n",
       "  <th></th>                   <td>- 12-30-2020</td>   <th>                     </th>     <td> </td>    \n",
       "</tr>\n",
       "<tr>\n",
       "  <th>Covariance Type:</th>        <td>opg</td>       <th>                     </th>     <td> </td>    \n",
       "</tr>\n",
       "</table>\n",
       "<table class=\"simpletable\">\n",
       "<tr>\n",
       "            <td></td>              <th>coef</th>     <th>std err</th>      <th>z</th>      <th>P>|z|</th>  <th>[0.025</th>    <th>0.975]</th>  \n",
       "</tr>\n",
       "<tr>\n",
       "  <th>const</th>                <td>-8.861e-17</td> <td> 9.34e-05</td> <td>-9.49e-13</td> <td> 1.000</td> <td>   -0.000</td> <td>    0.000</td>\n",
       "</tr>\n",
       "<tr>\n",
       "  <th>open</th>                 <td>   -0.4896</td> <td>    0.008</td> <td>  -64.209</td> <td> 0.000</td> <td>   -0.505</td> <td>   -0.475</td>\n",
       "</tr>\n",
       "<tr>\n",
       "  <th>high</th>                 <td>    0.8234</td> <td>    0.008</td> <td>   99.870</td> <td> 0.000</td> <td>    0.807</td> <td>    0.840</td>\n",
       "</tr>\n",
       "<tr>\n",
       "  <th>low</th>                  <td>    0.6300</td> <td>    0.004</td> <td>  149.244</td> <td> 0.000</td> <td>    0.622</td> <td>    0.638</td>\n",
       "</tr>\n",
       "<tr>\n",
       "  <th>n-transactions</th>       <td>    0.0002</td> <td>    0.000</td> <td>    1.539</td> <td> 0.124</td> <td>-5.94e-05</td> <td>    0.000</td>\n",
       "</tr>\n",
       "<tr>\n",
       "  <th>cost-per-transaction</th> <td>   -1.4227</td> <td>    0.481</td> <td>   -2.959</td> <td> 0.003</td> <td>   -2.365</td> <td>   -0.480</td>\n",
       "</tr>\n",
       "<tr>\n",
       "  <th>Gold price</th>           <td>   -0.0264</td> <td>    0.045</td> <td>   -0.586</td> <td> 0.558</td> <td>   -0.115</td> <td>    0.062</td>\n",
       "</tr>\n",
       "<tr>\n",
       "  <th>output-volume</th>        <td> -1.22e-06</td> <td> 6.77e-06</td> <td>   -0.180</td> <td> 0.857</td> <td>-1.45e-05</td> <td> 1.21e-05</td>\n",
       "</tr>\n",
       "<tr>\n",
       "  <th>USD-CNY Price</th>        <td>  -52.4125</td> <td>   39.150</td> <td>   -1.339</td> <td> 0.181</td> <td> -129.146</td> <td>   24.321</td>\n",
       "</tr>\n",
       "<tr>\n",
       "  <th>SVI</th>                  <td>   -1.0452</td> <td>    0.516</td> <td>   -2.027</td> <td> 0.043</td> <td>   -2.056</td> <td>   -0.035</td>\n",
       "</tr>\n",
       "<tr>\n",
       "  <th>Wikiviews</th>            <td>    0.0002</td> <td>    0.000</td> <td>    0.816</td> <td> 0.414</td> <td>   -0.000</td> <td>    0.001</td>\n",
       "</tr>\n",
       "<tr>\n",
       "  <th>ar.L1</th>                <td>   -0.9041</td> <td>    0.038</td> <td>  -23.863</td> <td> 0.000</td> <td>   -0.978</td> <td>   -0.830</td>\n",
       "</tr>\n",
       "<tr>\n",
       "  <th>ma.L1</th>                <td>   -0.0382</td> <td>    0.042</td> <td>   -0.905</td> <td> 0.365</td> <td>   -0.121</td> <td>    0.045</td>\n",
       "</tr>\n",
       "<tr>\n",
       "  <th>ma.L2</th>                <td>   -0.7632</td> <td>    0.043</td> <td>  -17.899</td> <td> 0.000</td> <td>   -0.847</td> <td>   -0.680</td>\n",
       "</tr>\n",
       "<tr>\n",
       "  <th>sigma2</th>               <td> 2.442e+04</td> <td>    0.569</td> <td> 4.29e+04</td> <td> 0.000</td> <td> 2.44e+04</td> <td> 2.44e+04</td>\n",
       "</tr>\n",
       "</table>\n",
       "<table class=\"simpletable\">\n",
       "<tr>\n",
       "  <th>Ljung-Box (L1) (Q):</th>     <td>2.68</td> <th>  Jarque-Bera (JB):  </th> <td>12850.28</td>\n",
       "</tr>\n",
       "<tr>\n",
       "  <th>Prob(Q):</th>                <td>0.10</td> <th>  Prob(JB):          </th>   <td>0.00</td>  \n",
       "</tr>\n",
       "<tr>\n",
       "  <th>Heteroskedasticity (H):</th> <td>0.68</td> <th>  Skew:              </th>   <td>0.27</td>  \n",
       "</tr>\n",
       "<tr>\n",
       "  <th>Prob(H) (two-sided):</th>    <td>0.00</td> <th>  Kurtosis:          </th>   <td>17.53</td> \n",
       "</tr>\n",
       "</table><br/><br/>Warnings:<br/>[1] Covariance matrix calculated using the outer product of gradients (complex-step).<br/>[2] Covariance matrix is singular or near-singular, with condition number 3.83e+22. Standard errors may be unstable."
      ],
      "text/plain": [
       "<class 'statsmodels.iolib.summary.Summary'>\n",
       "\"\"\"\n",
       "                               SARIMAX Results                                \n",
       "==============================================================================\n",
       "Dep. Variable:                  close   No. Observations:                 1460\n",
       "Model:                 ARIMA(1, 1, 2)   Log Likelihood               -9421.055\n",
       "Date:                Fri, 06 May 2022   AIC                          18872.110\n",
       "Time:                        12:51:27   BIC                          18951.392\n",
       "Sample:                    01-01-2017   HQIC                         18901.686\n",
       "                         - 12-30-2020                                         \n",
       "Covariance Type:                  opg                                         \n",
       "========================================================================================\n",
       "                           coef    std err          z      P>|z|      [0.025      0.975]\n",
       "----------------------------------------------------------------------------------------\n",
       "const                -8.861e-17   9.34e-05  -9.49e-13      1.000      -0.000       0.000\n",
       "open                    -0.4896      0.008    -64.209      0.000      -0.505      -0.475\n",
       "high                     0.8234      0.008     99.870      0.000       0.807       0.840\n",
       "low                      0.6300      0.004    149.244      0.000       0.622       0.638\n",
       "n-transactions           0.0002      0.000      1.539      0.124   -5.94e-05       0.000\n",
       "cost-per-transaction    -1.4227      0.481     -2.959      0.003      -2.365      -0.480\n",
       "Gold price              -0.0264      0.045     -0.586      0.558      -0.115       0.062\n",
       "output-volume         -1.22e-06   6.77e-06     -0.180      0.857   -1.45e-05    1.21e-05\n",
       "USD-CNY Price          -52.4125     39.150     -1.339      0.181    -129.146      24.321\n",
       "SVI                     -1.0452      0.516     -2.027      0.043      -2.056      -0.035\n",
       "Wikiviews                0.0002      0.000      0.816      0.414      -0.000       0.001\n",
       "ar.L1                   -0.9041      0.038    -23.863      0.000      -0.978      -0.830\n",
       "ma.L1                   -0.0382      0.042     -0.905      0.365      -0.121       0.045\n",
       "ma.L2                   -0.7632      0.043    -17.899      0.000      -0.847      -0.680\n",
       "sigma2                2.442e+04      0.569   4.29e+04      0.000    2.44e+04    2.44e+04\n",
       "===================================================================================\n",
       "Ljung-Box (L1) (Q):                   2.68   Jarque-Bera (JB):             12850.28\n",
       "Prob(Q):                              0.10   Prob(JB):                         0.00\n",
       "Heteroskedasticity (H):               0.68   Skew:                             0.27\n",
       "Prob(H) (two-sided):                  0.00   Kurtosis:                        17.53\n",
       "===================================================================================\n",
       "\n",
       "Warnings:\n",
       "[1] Covariance matrix calculated using the outer product of gradients (complex-step).\n",
       "[2] Covariance matrix is singular or near-singular, with condition number 3.83e+22. Standard errors may be unstable.\n",
       "\"\"\""
      ]
     },
     "execution_count": 30,
     "metadata": {},
     "output_type": "execute_result"
    }
   ],
   "source": [
    "# load saved arima model\n",
    "from statsmodels.tsa.arima.model import ARIMAResults\n",
    "import statsmodels.api as sm\n",
    "\n",
    "ar_model = ARIMAResults.load('./saved_models/arima/arima_model.pkl')\n",
    "ar_model.summary()"
   ]
  },
  {
   "cell_type": "markdown",
   "metadata": {},
   "source": [
    "## Prepare data for models\n",
    "- LSTM\n",
    "- ARIMA"
   ]
  },
  {
   "cell_type": "code",
   "execution_count": 205,
   "metadata": {},
   "outputs": [],
   "source": [
    "# LSTM model prediction\n",
    "from sklearn.preprocessing import MinMaxScaler\n",
    "\n",
    "dataset = train_df.values  # get raw values from dataframe\n",
    "TIMESTEPS = 30  # n days in the future to predcict\n",
    "FEATURES = 14  # number of features\n",
    "\n",
    "# normalize the dataset\n",
    "scaler = MinMaxScaler(feature_range=(0, 1))\n",
    "dataset = scaler.fit_transform(dataset)\n",
    "\n",
    "# reshape into X=t and Y=t+1\n",
    "testX, testY = create_dataset(dataset, TIMESTEPS)\n",
    "\n",
    "# reshape input to be  [samples, time steps, features]\n",
    "testX = np.reshape(testX, (testX.shape[0], TIMESTEPS, FEATURES))"
   ]
  },
  {
   "cell_type": "code",
   "execution_count": 197,
   "metadata": {},
   "outputs": [],
   "source": [
    "# get arima predictions\n",
    "from dateutil.relativedelta import relativedelta\n",
    "from sklearn.model_selection import train_test_split\n",
    "\n",
    "\n",
    "top_predictors = ['close', 'open', 'high', 'low', 'n-transactions', 'cost-per-transaction',\n",
    "                  'Gold price', 'output-volume',  'USD-CNY Price', 'SVI', 'Wikiviews']\n",
    "top_predictors = train_df[top_predictors]\n",
    "\n",
    "# create a list of dates to predict\n",
    "exog_last = sm.add_constant(top_predictors.drop(['close'], axis=1))\n",
    "start_index = exog_last.index.max().date()\n",
    "end_index10 = start_index + relativedelta(days=10)\n",
    "end_index30 = start_index + relativedelta(days=30)"
   ]
  },
  {
   "cell_type": "markdown",
   "metadata": {},
   "source": [
    "Make predictions using both models"
   ]
  },
  {
   "cell_type": "code",
   "execution_count": 206,
   "metadata": {},
   "outputs": [],
   "source": [
    "# Make predictions\n",
    "# LSTM: make a prediction on based on the past 30 days and 90 days\n",
    "yhat_lstm = get_prediction(lstm_model, testX[-TIMESTEPS:], scaler)\n",
    "yhat_lstm_90 = get_prediction(lstm_model, testX[-TIMESTEPS*3:], scaler)\n",
    "\n",
    "# ARIMA: Make a 10 day prediction and 30 day prediction\n",
    "yhat_arima10 = ar_model.predict(start=start_index, end=end_index10, exog=exog_last[-376:])\n",
    "yhat_arima30 = ar_model.predict(start=start_index, end=end_index30, exog=exog_last[-396:])\n"
   ]
  },
  {
   "cell_type": "markdown",
   "metadata": {},
   "source": [
    "Create a date range from the end of the dataset (future) in daily frequency"
   ]
  },
  {
   "cell_type": "code",
   "execution_count": 208,
   "metadata": {},
   "outputs": [
    {
     "data": {
      "text/plain": [
       "[Timestamp('2021-12-31 00:00:00', freq='D'),\n",
       " Timestamp('2022-01-01 00:00:00', freq='D'),\n",
       " Timestamp('2022-01-02 00:00:00', freq='D'),\n",
       " Timestamp('2022-01-03 00:00:00', freq='D'),\n",
       " Timestamp('2022-01-04 00:00:00', freq='D')]"
      ]
     },
     "execution_count": 208,
     "metadata": {},
     "output_type": "execute_result"
    }
   ],
   "source": [
    "datelist_future = pd.date_range(train_df.index[-1], periods=TIMESTEPS*3, freq='1d').tolist()\n",
    "datelist_future[0:5]"
   ]
  },
  {
   "cell_type": "markdown",
   "metadata": {},
   "source": [
    "Create a dataframe with the predictions and set the created date range as the index\n",
    "<br> Add a new column 'Actual', by locating the actual closing values from the predictions dataframe"
   ]
  },
  {
   "cell_type": "code",
   "execution_count": 218,
   "metadata": {},
   "outputs": [
    {
     "data": {
      "text/html": [
       "<div>\n",
       "<style scoped>\n",
       "    .dataframe tbody tr th:only-of-type {\n",
       "        vertical-align: middle;\n",
       "    }\n",
       "\n",
       "    .dataframe tbody tr th {\n",
       "        vertical-align: top;\n",
       "    }\n",
       "\n",
       "    .dataframe thead th {\n",
       "        text-align: right;\n",
       "    }\n",
       "</style>\n",
       "<table border=\"1\" class=\"dataframe\">\n",
       "  <thead>\n",
       "    <tr style=\"text-align: right;\">\n",
       "      <th></th>\n",
       "      <th>LSTM90</th>\n",
       "      <th>Actual</th>\n",
       "      <th>LSTM30</th>\n",
       "      <th>ARIMA10</th>\n",
       "      <th>ARIMA30</th>\n",
       "    </tr>\n",
       "  </thead>\n",
       "  <tbody>\n",
       "    <tr>\n",
       "      <th>2021-12-31</th>\n",
       "      <td>35739.543453</td>\n",
       "      <td>46306.445312</td>\n",
       "      <td>46842.365411</td>\n",
       "      <td>47845.039948</td>\n",
       "      <td>57149.054088</td>\n",
       "    </tr>\n",
       "    <tr>\n",
       "      <th>2022-01-01</th>\n",
       "      <td>36600.257439</td>\n",
       "      <td>47686.812500</td>\n",
       "      <td>46944.797437</td>\n",
       "      <td>48201.555539</td>\n",
       "      <td>55209.902395</td>\n",
       "    </tr>\n",
       "    <tr>\n",
       "      <th>2022-01-02</th>\n",
       "      <td>37700.414641</td>\n",
       "      <td>47345.218750</td>\n",
       "      <td>47023.169717</td>\n",
       "      <td>49578.545017</td>\n",
       "      <td>53168.171355</td>\n",
       "    </tr>\n",
       "    <tr>\n",
       "      <th>2022-01-03</th>\n",
       "      <td>38482.899631</td>\n",
       "      <td>46458.117188</td>\n",
       "      <td>46733.218947</td>\n",
       "      <td>50358.848188</td>\n",
       "      <td>45260.227538</td>\n",
       "    </tr>\n",
       "    <tr>\n",
       "      <th>2022-01-04</th>\n",
       "      <td>39157.436167</td>\n",
       "      <td>45897.574219</td>\n",
       "      <td>45271.401392</td>\n",
       "      <td>49515.097390</td>\n",
       "      <td>47620.452642</td>\n",
       "    </tr>\n",
       "  </tbody>\n",
       "</table>\n",
       "</div>"
      ],
      "text/plain": [
       "                  LSTM90        Actual        LSTM30       ARIMA10  \\\n",
       "2021-12-31  35739.543453  46306.445312  46842.365411  47845.039948   \n",
       "2022-01-01  36600.257439  47686.812500  46944.797437  48201.555539   \n",
       "2022-01-02  37700.414641  47345.218750  47023.169717  49578.545017   \n",
       "2022-01-03  38482.899631  46458.117188  46733.218947  50358.848188   \n",
       "2022-01-04  39157.436167  45897.574219  45271.401392  49515.097390   \n",
       "\n",
       "                 ARIMA30  \n",
       "2021-12-31  57149.054088  \n",
       "2022-01-01  55209.902395  \n",
       "2022-01-02  53168.171355  \n",
       "2022-01-03  45260.227538  \n",
       "2022-01-04  47620.452642  "
      ]
     },
     "execution_count": 218,
     "metadata": {},
     "output_type": "execute_result"
    }
   ],
   "source": [
    "predictions = pd.DataFrame(yhat_lstm_90, columns=['LSTM90']).set_index(pd.Series(datelist_future))\n",
    "predictions['Actual'] = future_df.loc[min(predictions.index):max(predictions.index)].Close\n",
    "predictions['LSTM30'] = pd.Series(yhat_lstm, index=datelist_future[:30])\n",
    "predictions['ARIMA10'] = yhat_arima10\n",
    "predictions['ARIMA30'] = yhat_arima30\n",
    "predictions.head()"
   ]
  },
  {
   "cell_type": "code",
   "execution_count": 219,
   "metadata": {},
   "outputs": [
    {
     "data": {
      "image/png": "[encoded data removed]",
      "text/plain": [
       "<Figure size 864x432 with 1 Axes>"
      ]
     },
     "metadata": {},
     "output_type": "display_data"
    }
   ],
   "source": [
    "# plot predictsions vs actual\n",
    "plt.figure(figsize=(12, 6))\n",
    "# plt.plot(df_3[1900:].close, label='Actual')\n",
    "plt.plot(predictions.LSTM30, '--', label='LSTM')\n",
    "plt.plot(predictions.ARIMA30, '-.', label='ARIMA')\n",
    "plt.plot(predictions.Actual, label='Future')\n",
    "plt.legend()\n",
    "plt.show()"
   ]
  },
  {
   "cell_type": "markdown",
   "metadata": {},
   "source": [
    "Lets make a prediction with the test data and compare it with the forecasts to see how well the model's have learnt"
   ]
  },
  {
   "cell_type": "code",
   "execution_count": 251,
   "metadata": {},
   "outputs": [],
   "source": [
    "exog = sm.add_constant(top_predictors.drop(['close'], axis=1))[-31:]\n",
    "\n",
    "# models test prediction\n",
    "arima_test_pred = ar_model.forecast(steps=len(exog), exog=exog)\n",
    "lstm_test_pred = lstm_model.predict(testX)\n",
    "\n",
    "# models test metrics\n",
    "lstm_test_pred = inverse_transform(lstm_test_pred, scaler)\n",
    "lstm_test = forecast_accuracy(lstm_test_pred, train_df[-len(lstm_test_pred):].close.values)\n",
    "arima_test = forecast_accuracy(arima_test_pred, top_predictors['close'][-31:].values)\n",
    "\n",
    "# models forecast metrics\n",
    "lstm = forecast_accuracy(predictions['LSTM30'][:30], predictions['Actual'][:30])\n",
    "arima = forecast_accuracy(predictions['ARIMA30'][:30], predictions['Actual'][:30])\n"
   ]
  },
  {
   "cell_type": "markdown",
   "metadata": {},
   "source": [
    "We can see the scores for each model on their validation and prediction\n",
    "- ARIMA performed well with validation data and short term predictions\n",
    "- LSTM had the overall good accuracy"
   ]
  },
  {
   "cell_type": "code",
   "execution_count": 256,
   "metadata": {},
   "outputs": [
    {
     "name": "stdout",
     "output_type": "stream",
     "text": [
      "LSTM accuracy: 94.244 %\n",
      "ARIMA accuracy: 82.006 %\n",
      "LSTM test accuracy: 90.869 %\n",
      "ARIMA test accuracy: 98.13 %\n",
      "ARIMA 10 day accuracy: 90.648 %\n"
     ]
    }
   ],
   "source": [
    "# accuracy of the models\n",
    "print('LSTM accuracy:', 100-float(lstm['mape'].split('%')[0]),'%')\n",
    "print('ARIMA accuracy:', 100-float(arima['mape'].split('%')[0]),'%' )\n",
    "print('LSTM test accuracy:', 100-float(lstm_test['mape'].split('%')[0]),'%') \n",
    "print('ARIMA test accuracy:', 100-float(arima_test['mape'].split('%')[0]),'%')\n",
    "\n",
    "# arima 10 day accuracy\n",
    "arima_10 = forecast_accuracy(yhat_arima10, predictions['Actual'][:11])\n",
    "print('ARIMA 10 day accuracy:', 100-float(arima_10['mape'].split('%')[0]),'%')"
   ]
  },
  {
   "cell_type": "markdown",
   "metadata": {},
   "source": [
    "Let's visualize the RMSE and MAE for each model "
   ]
  },
  {
   "cell_type": "code",
   "execution_count": 257,
   "metadata": {},
   "outputs": [
    {
     "data": {
      "text/html": [
       "<div>\n",
       "<style scoped>\n",
       "    .dataframe tbody tr th:only-of-type {\n",
       "        vertical-align: middle;\n",
       "    }\n",
       "\n",
       "    .dataframe tbody tr th {\n",
       "        vertical-align: top;\n",
       "    }\n",
       "\n",
       "    .dataframe thead th {\n",
       "        text-align: right;\n",
       "    }\n",
       "</style>\n",
       "<table border=\"1\" class=\"dataframe\">\n",
       "  <thead>\n",
       "    <tr style=\"text-align: right;\">\n",
       "      <th></th>\n",
       "      <th>model</th>\n",
       "      <th>Metrics</th>\n",
       "      <th>value</th>\n",
       "    </tr>\n",
       "  </thead>\n",
       "  <tbody>\n",
       "    <tr>\n",
       "      <th>0</th>\n",
       "      <td>LSTM</td>\n",
       "      <td>RMSE</td>\n",
       "      <td>2696.141980</td>\n",
       "    </tr>\n",
       "    <tr>\n",
       "      <th>1</th>\n",
       "      <td>ARIMA</td>\n",
       "      <td>RMSE</td>\n",
       "      <td>8088.271862</td>\n",
       "    </tr>\n",
       "    <tr>\n",
       "      <th>2</th>\n",
       "      <td>LSTM</td>\n",
       "      <td>MAE</td>\n",
       "      <td>2263.257840</td>\n",
       "    </tr>\n",
       "    <tr>\n",
       "      <th>3</th>\n",
       "      <td>ARIMA</td>\n",
       "      <td>MAE</td>\n",
       "      <td>7153.430449</td>\n",
       "    </tr>\n",
       "    <tr>\n",
       "      <th>4</th>\n",
       "      <td>LSTM</td>\n",
       "      <td>RMSE Validation</td>\n",
       "      <td>4205.391307</td>\n",
       "    </tr>\n",
       "    <tr>\n",
       "      <th>5</th>\n",
       "      <td>ARIMA</td>\n",
       "      <td>RMSE Validation</td>\n",
       "      <td>1238.499436</td>\n",
       "    </tr>\n",
       "    <tr>\n",
       "      <th>6</th>\n",
       "      <td>LSTM</td>\n",
       "      <td>MAE Validation</td>\n",
       "      <td>2056.394227</td>\n",
       "    </tr>\n",
       "    <tr>\n",
       "      <th>7</th>\n",
       "      <td>ARIMA</td>\n",
       "      <td>MAE Validation</td>\n",
       "      <td>926.306939</td>\n",
       "    </tr>\n",
       "  </tbody>\n",
       "</table>\n",
       "</div>"
      ],
      "text/plain": [
       "   model          Metrics        value\n",
       "0   LSTM             RMSE  2696.141980\n",
       "1  ARIMA             RMSE  8088.271862\n",
       "2   LSTM              MAE  2263.257840\n",
       "3  ARIMA              MAE  7153.430449\n",
       "4   LSTM  RMSE Validation  4205.391307\n",
       "5  ARIMA  RMSE Validation  1238.499436\n",
       "6   LSTM   MAE Validation  2056.394227\n",
       "7  ARIMA   MAE Validation   926.306939"
      ]
     },
     "execution_count": 257,
     "metadata": {},
     "output_type": "execute_result"
    }
   ],
   "source": [
    "metrics_test = pd.DataFrame(data={'model': ['LSTM', 'ARIMA'],\n",
    "                          'RMSE': [lstm['rmse'], arima['rmse']],\n",
    "                          'MAE': [lstm['mae'], arima['mae']],\n",
    "                          'RMSE Validation': [lstm_test['rmse'], arima_test['rmse']],\n",
    "                          'MAE Validation': [lstm_test['mae'], arima_test['mae']]\n",
    "                          }\n",
    "                    )\n",
    "metrics_test['RMSE'] = metrics_test['RMSE'].astype(float)\n",
    "metrics_test['MAE'] = metrics_test['MAE'].astype(float)\n",
    "\n",
    "metrics_test = pd.melt(metrics_test, id_vars=\"model\")\n",
    "metrics_test.columns = ['model', 'Metrics', 'value']\n",
    "metrics_test"
   ]
  },
  {
   "cell_type": "code",
   "execution_count": 259,
   "metadata": {},
   "outputs": [
    {
     "data": {
      "text/plain": [
       "Text(0.5, 1.0, 'RMSE for all the models')"
      ]
     },
     "execution_count": 259,
     "metadata": {},
     "output_type": "execute_result"
    },
    {
     "data": {
      "image/png": "[encoded data removed]",
      "text/plain": [
       "<Figure size 482.225x360 with 1 Axes>"
      ]
     },
     "metadata": {},
     "output_type": "display_data"
    }
   ],
   "source": [
    "sns.catplot(x='model', y='value', hue='Metrics', data=metrics_test, kind='bar')\n",
    "plt.xlabel(\"Models\")\n",
    "plt.title('RMSE for all the models')"
   ]
  }
 ],
 "metadata": {
  "interpreter": {
   "hash": "1ce70e7fb09d93846fb9da31c8ffeaa9e6be9e848f96b1b1e309019ff423a0ff"
  },
  "kernelspec": {
   "display_name": "Python 3.8.12 ('ML')",
   "language": "python",
   "name": "python3"
  },
  "language_info": {
   "codemirror_mode": {
    "name": "ipython",
    "version": 3
   },
   "file_extension": ".py",
   "mimetype": "text/x-python",
   "name": "python",
   "nbconvert_exporter": "python",
   "pygments_lexer": "ipython3",
   "version": "3.8.12"
  },
  "orig_nbformat": 4
 },
 "nbformat": 4,
 "nbformat_minor": 2
}
