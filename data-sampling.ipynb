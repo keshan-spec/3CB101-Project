{
 "cells": [
  {
   "cell_type": "code",
   "execution_count": null,
   "metadata": {},
   "outputs": [],
   "source": [
    "import pandas as pd\n",
    "import os\n",
    "\n",
    "os.chdir('/Users/dell-2019/Downloads')"
   ]
  },
  {
   "cell_type": "code",
   "execution_count": null,
   "metadata": {},
   "outputs": [],
   "source": [
    "SVI = pd.read_csv(\"./Google-Trends.csv\") \n",
    "GP = pd.read_csv(\"./Gold-Prices.csv\",  index_col=\"Date\", parse_dates=True)\n",
    "BPI = pd.read_csv(\"./Bitcoin-Price.csv\",  index_col=\"Date\", parse_dates=True)\n",
    "BTC_Trans = pd.read_csv(\"./BTC-NumTrans.csv\",  index_col=\"Timestamp\", parse_dates=True)\n"
   ]
  },
  {
   "cell_type": "code",
   "execution_count": null,
   "metadata": {},
   "outputs": [],
   "source": [
    "SVI.rename(columns={'Category: All categories': 'SVI'}, inplace=True)\n",
    "svi_df = SVI.iloc[1:, :]\n",
    "svi_df.head()\n",
    "svi_df.index = pd.to_datetime(svi_df.index)\n",
    "svi_df.rename_axis('Date', inplace=True)"
   ]
  },
  {
   "cell_type": "code",
   "execution_count": null,
   "metadata": {},
   "outputs": [],
   "source": [
    "# Drop nan values\n",
    "GP.dropna(axis=1, how=\"all\", inplace=True)"
   ]
  },
  {
   "cell_type": "code",
   "execution_count": null,
   "metadata": {},
   "outputs": [],
   "source": [
    "# Modifying Transactions Data: Filter to only include transactions in first week of November 2021\n",
    "start_date = '2021-11-01'\n",
    "end_date = '2021-11-07'\n",
    "\n",
    "mask = (BTC_Trans.index >= start_date) & (BTC_Trans.index <= end_date)\n",
    "btc_num_t_df = BTC_Trans.loc[mask]"
   ]
  },
  {
   "cell_type": "code",
   "execution_count": null,
   "metadata": {},
   "outputs": [],
   "source": [
    "vis= f\"\"\"\n",
    "SVI : {svi_df.index.size}\n",
    "GP  : {GP.index.size}\n",
    "BPI : {BPI.index.size}\n",
    "Num. transactions : {btc_num_t_df.index.size}\"\"\"\n",
    "\n",
    "print(vis)"
   ]
  },
  {
   "cell_type": "code",
   "execution_count": null,
   "metadata": {},
   "outputs": [],
   "source": [
    "dataframe = pd.concat([svi_df, GP, BPI, btc_num_t_df], axis=1)\n",
    "dataframe"
   ]
  }
 ],
 "metadata": {
  "interpreter": {
   "hash": "fd826fe865dcc411e912db3b8b9b4ce519949da90518879d30f3fbad62980482"
  },
  "kernelspec": {
   "display_name": "Python 3.6.9 64-bit ('Tensor': conda)",
   "language": "python",
   "name": "python3"
  },
  "language_info": {
   "codemirror_mode": {
    "name": "ipython",
    "version": 3
   },
   "file_extension": ".py",
   "mimetype": "text/x-python",
   "name": "python",
   "nbconvert_exporter": "python",
   "pygments_lexer": "ipython3",
   "version": "3.6.9"
  },
  "orig_nbformat": 4
 },
 "nbformat": 4,
 "nbformat_minor": 2
}
